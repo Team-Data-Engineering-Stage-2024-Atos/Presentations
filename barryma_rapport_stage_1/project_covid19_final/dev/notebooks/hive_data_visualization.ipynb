{
 "cells": [
  {
   "cell_type": "code",
   "execution_count": null,
   "metadata": {},
   "outputs": [],
   "source": [
    "# Import necessary libraries\n",
    "import pandas as pd\n",
    "import matplotlib.pyplot as plt\n",
    "\n",
    "# File paths (adjust to your local file paths)\n",
    "file_path = '../datasets/processed/owid_cleaned_data.parquet'\n",
    "\n",
    "# Load data into a pandas DataFrame\n",
    "df = pd.read_parquet(file_path)\n",
    "\n",
    "# Display the first few rows of the DataFrame\n",
    "df.head()\n",
    "\n",
    "# Ensure that 'date', 'total_cases', and 'total_deaths' columns exist\n",
    "# If column names are different, adjust them accordingly\n",
    "df['date'] = pd.to_datetime(df['date'])  # Ensure 'date' column is in datetime format\n",
    "\n",
    "# Plot total cases and deaths over time\n",
    "plt.figure(figsize=(12, 6))\n",
    "plt.plot(df['date'], df['total_cases'], label='Total Cases', color='blue')\n",
    "plt.plot(df['date'], df['total_deaths'], label='Total Deaths', color='red')\n",
    "plt.xlabel('Date')\n",
    "plt.ylabel('Count')\n",
    "plt.title('COVID-19 Total Cases and Deaths Over Time')\n",
    "plt.legend()\n",
    "plt.show()\n"
   ]
  }
 ],
 "metadata": {
  "language_info": {
   "name": "python"
  }
 },
 "nbformat": 4,
 "nbformat_minor": 2
}
