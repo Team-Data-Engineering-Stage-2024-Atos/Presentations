{
 "cells": [
  {
   "cell_type": "code",
   "execution_count": null,
   "id": "0f92e8f6-1747-43b6-bdf0-54756097de51",
   "metadata": {},
   "outputs": [],
   "source": [
    "import pandas as pd\n",
    "import logging\n",
    "from tqdm.notebook import tqdm\n",
    "from sklearn.preprocessing import MinMaxScaler\n",
    "\n",
    "# Setup logging\n",
    "logging.basicConfig(level=logging.INFO, format='%(asctime)s - %(levelname)s - %(message)s')\n",
    "\n",
    "# Load merged dataset in chunks\n",
    "def load_merged_data_in_chunks(file_path, chunksize=10000):\n",
    "    logging.info(f\"Loading merged data in chunks from {file_path}\")\n",
    "    for chunk in pd.read_csv(file_path, chunksize=chunksize):\n",
    "        yield chunk\n",
    "\n",
    "# Apply feature engineering to data chunk\n",
    "def apply_feature_engineering(chunk):\n",
    "    logging.info(\"Applying feature engineering\")\n",
    "    chunk['NewCases_7day_avg'] = chunk['new_cases'].rolling(window=7).mean()\n",
    "    scaler = MinMaxScaler()\n",
    "    chunk[['new_cases', 'new_deaths', 'total_cases', 'total_deaths']] = scaler.fit_transform(chunk[['new_cases', 'new_deaths', 'total_cases', 'total_deaths']])\n",
    "    return chunk\n",
    "\n",
    "# Feature engineering in batches\n",
    "def feature_engineering_in_batches(input_file, output_file, chunksize=10000):\n",
    "    chunk_iter = load_merged_data_in_chunks(input_file, chunksize)\n",
    "    engineered_chunks = []\n",
    "    for chunk in tqdm(chunk_iter, desc=\"Applying feature engineering\"):\n",
    "        engineered_chunk = apply_feature_engineering(chunk)\n",
    "        engineered_chunks.append(engineered_chunk)\n",
    "    engineered_data = pd.concat(engineered_chunks, ignore_index=True)\n",
    "    engineered_data.to_csv(output_file, index=False)\n",
    "    logging.info(f\"Saved engineered data to {output_file}\")\n",
    "\n",
    "# Feature engineering on merged dataset\n",
    "logging.info(\"Starting feature engineering on merged dataset.\")\n",
    "input_file = \"datasets/merged_final_dataset.csv\"\n",
    "output_file = \"datasets/final_dataset_with_features.csv\"\n",
    "feature_engineering_in_batches(input_file, output_file)\n",
    "logging.info(\"Finished feature engineering on merged dataset.\")\n"
   ]
  }
 ],
 "metadata": {
  "kernelspec": {
   "display_name": "Python 3 (ipykernel)",
   "language": "python",
   "name": "python3"
  },
  "language_info": {
   "codemirror_mode": {
    "name": "ipython",
    "version": 3
   },
   "file_extension": ".py",
   "mimetype": "text/x-python",
   "name": "python",
   "nbconvert_exporter": "python",
   "pygments_lexer": "ipython3",
   "version": "3.7.12"
  }
 },
 "nbformat": 4,
 "nbformat_minor": 5
}
