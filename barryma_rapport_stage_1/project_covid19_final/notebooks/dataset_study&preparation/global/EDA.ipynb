{
 "cells": [
  {
   "cell_type": "markdown",
   "id": "a2615e66-124e-4cbe-b2b5-6a206f533fec",
   "metadata": {},
   "source": [
    "# EXPLORATORY DATA ANALYSIS OF COVID 19 IN THE WORLD DATASETS"
   ]
  },
  {
   "cell_type": "code",
   "execution_count": 110,
   "id": "afd6bb69-c0b0-4396-b184-217ed2121e0d",
   "metadata": {},
   "outputs": [],
   "source": [
    "import pandas as pd\n",
    "import csv\n",
    "import re\n",
    "\n",
    "topic = 'deaths'\n",
    "loc = 'global'\n",
    "original_dataset_path = f'RAW_{loc}_{topic}.csv'\n",
    "cleaned_dataset_path = f'CLEANED_{loc}_{topic}.csv'\n",
    "\n",
    "DF = pd.read_csv(original_dataset_path)"
   ]
  },
  {
   "cell_type": "markdown",
   "id": "2b4c2e24-5d9d-4250-9847-ae8f4c7280cb",
   "metadata": {
    "tags": []
   },
   "source": [
    "## CONFIRMED CASES"
   ]
  },
  {
   "cell_type": "markdown",
   "id": "d59f08ca-028c-499d-8e3f-ecd6957374f1",
   "metadata": {
    "jp-MarkdownHeadingCollapsed": true,
    "tags": []
   },
   "source": [
    "### Data Profiling"
   ]
  },
  {
   "cell_type": "code",
   "execution_count": 83,
   "id": "aea50eff-dbfd-4bab-a962-09e87a851505",
   "metadata": {},
   "outputs": [
    {
     "data": {
      "text/html": [
       "<div>\n",
       "<style scoped>\n",
       "    .dataframe tbody tr th:only-of-type {\n",
       "        vertical-align: middle;\n",
       "    }\n",
       "\n",
       "    .dataframe tbody tr th {\n",
       "        vertical-align: top;\n",
       "    }\n",
       "\n",
       "    .dataframe thead th {\n",
       "        text-align: right;\n",
       "    }\n",
       "</style>\n",
       "<table border=\"1\" class=\"dataframe\">\n",
       "  <thead>\n",
       "    <tr style=\"text-align: right;\">\n",
       "      <th></th>\n",
       "      <th>Country/Region</th>\n",
       "      <th>Province/State</th>\n",
       "      <th>Lat</th>\n",
       "      <th>Long</th>\n",
       "      <th>1/22/20</th>\n",
       "      <th>1/23/20</th>\n",
       "      <th>1/24/20</th>\n",
       "      <th>1/25/20</th>\n",
       "      <th>1/26/20</th>\n",
       "      <th>1/27/20</th>\n",
       "      <th>...</th>\n",
       "      <th>2/28/23</th>\n",
       "      <th>3/1/23</th>\n",
       "      <th>3/2/23</th>\n",
       "      <th>3/3/23</th>\n",
       "      <th>3/4/23</th>\n",
       "      <th>3/5/23</th>\n",
       "      <th>3/6/23</th>\n",
       "      <th>3/7/23</th>\n",
       "      <th>3/8/23</th>\n",
       "      <th>3/9/23</th>\n",
       "    </tr>\n",
       "  </thead>\n",
       "  <tbody>\n",
       "    <tr>\n",
       "      <th>0</th>\n",
       "      <td>Afghanistan</td>\n",
       "      <td>NaN</td>\n",
       "      <td>33.93911</td>\n",
       "      <td>67.709953</td>\n",
       "      <td>0</td>\n",
       "      <td>0</td>\n",
       "      <td>0</td>\n",
       "      <td>0</td>\n",
       "      <td>0</td>\n",
       "      <td>0</td>\n",
       "      <td>...</td>\n",
       "      <td>209322</td>\n",
       "      <td>209340</td>\n",
       "      <td>209358</td>\n",
       "      <td>209362</td>\n",
       "      <td>209369</td>\n",
       "      <td>209390</td>\n",
       "      <td>209406</td>\n",
       "      <td>209436</td>\n",
       "      <td>209451</td>\n",
       "      <td>209451</td>\n",
       "    </tr>\n",
       "    <tr>\n",
       "      <th>1</th>\n",
       "      <td>Albania</td>\n",
       "      <td>NaN</td>\n",
       "      <td>41.15330</td>\n",
       "      <td>20.168300</td>\n",
       "      <td>0</td>\n",
       "      <td>0</td>\n",
       "      <td>0</td>\n",
       "      <td>0</td>\n",
       "      <td>0</td>\n",
       "      <td>0</td>\n",
       "      <td>...</td>\n",
       "      <td>334391</td>\n",
       "      <td>334408</td>\n",
       "      <td>334408</td>\n",
       "      <td>334427</td>\n",
       "      <td>334427</td>\n",
       "      <td>334427</td>\n",
       "      <td>334427</td>\n",
       "      <td>334427</td>\n",
       "      <td>334443</td>\n",
       "      <td>334457</td>\n",
       "    </tr>\n",
       "    <tr>\n",
       "      <th>2</th>\n",
       "      <td>Algeria</td>\n",
       "      <td>NaN</td>\n",
       "      <td>28.03390</td>\n",
       "      <td>1.659600</td>\n",
       "      <td>0</td>\n",
       "      <td>0</td>\n",
       "      <td>0</td>\n",
       "      <td>0</td>\n",
       "      <td>0</td>\n",
       "      <td>0</td>\n",
       "      <td>...</td>\n",
       "      <td>271441</td>\n",
       "      <td>271448</td>\n",
       "      <td>271463</td>\n",
       "      <td>271469</td>\n",
       "      <td>271469</td>\n",
       "      <td>271477</td>\n",
       "      <td>271477</td>\n",
       "      <td>271490</td>\n",
       "      <td>271494</td>\n",
       "      <td>271496</td>\n",
       "    </tr>\n",
       "    <tr>\n",
       "      <th>3</th>\n",
       "      <td>Andorra</td>\n",
       "      <td>NaN</td>\n",
       "      <td>42.50630</td>\n",
       "      <td>1.521800</td>\n",
       "      <td>0</td>\n",
       "      <td>0</td>\n",
       "      <td>0</td>\n",
       "      <td>0</td>\n",
       "      <td>0</td>\n",
       "      <td>0</td>\n",
       "      <td>...</td>\n",
       "      <td>47866</td>\n",
       "      <td>47875</td>\n",
       "      <td>47875</td>\n",
       "      <td>47875</td>\n",
       "      <td>47875</td>\n",
       "      <td>47875</td>\n",
       "      <td>47875</td>\n",
       "      <td>47875</td>\n",
       "      <td>47890</td>\n",
       "      <td>47890</td>\n",
       "    </tr>\n",
       "    <tr>\n",
       "      <th>4</th>\n",
       "      <td>Angola</td>\n",
       "      <td>NaN</td>\n",
       "      <td>-11.20270</td>\n",
       "      <td>17.873900</td>\n",
       "      <td>0</td>\n",
       "      <td>0</td>\n",
       "      <td>0</td>\n",
       "      <td>0</td>\n",
       "      <td>0</td>\n",
       "      <td>0</td>\n",
       "      <td>...</td>\n",
       "      <td>105255</td>\n",
       "      <td>105277</td>\n",
       "      <td>105277</td>\n",
       "      <td>105277</td>\n",
       "      <td>105277</td>\n",
       "      <td>105277</td>\n",
       "      <td>105277</td>\n",
       "      <td>105277</td>\n",
       "      <td>105288</td>\n",
       "      <td>105288</td>\n",
       "    </tr>\n",
       "  </tbody>\n",
       "</table>\n",
       "<p>5 rows × 1147 columns</p>\n",
       "</div>"
      ],
      "text/plain": [
       "  Country/Region Province/State       Lat       Long  1/22/20  1/23/20  \\\n",
       "0    Afghanistan            NaN  33.93911  67.709953        0        0   \n",
       "1        Albania            NaN  41.15330  20.168300        0        0   \n",
       "2        Algeria            NaN  28.03390   1.659600        0        0   \n",
       "3        Andorra            NaN  42.50630   1.521800        0        0   \n",
       "4         Angola            NaN -11.20270  17.873900        0        0   \n",
       "\n",
       "   1/24/20  1/25/20  1/26/20  1/27/20  ...  2/28/23  3/1/23  3/2/23  3/3/23  \\\n",
       "0        0        0        0        0  ...   209322  209340  209358  209362   \n",
       "1        0        0        0        0  ...   334391  334408  334408  334427   \n",
       "2        0        0        0        0  ...   271441  271448  271463  271469   \n",
       "3        0        0        0        0  ...    47866   47875   47875   47875   \n",
       "4        0        0        0        0  ...   105255  105277  105277  105277   \n",
       "\n",
       "   3/4/23  3/5/23  3/6/23  3/7/23  3/8/23  3/9/23  \n",
       "0  209369  209390  209406  209436  209451  209451  \n",
       "1  334427  334427  334427  334427  334443  334457  \n",
       "2  271469  271477  271477  271490  271494  271496  \n",
       "3   47875   47875   47875   47875   47890   47890  \n",
       "4  105277  105277  105277  105277  105288  105288  \n",
       "\n",
       "[5 rows x 1147 columns]"
      ]
     },
     "execution_count": 83,
     "metadata": {},
     "output_type": "execute_result"
    }
   ],
   "source": [
    "DF.head()"
   ]
  },
  {
   "cell_type": "code",
   "execution_count": 84,
   "id": "cd00d5a2-4f88-43c6-aba1-ea73148ba152",
   "metadata": {},
   "outputs": [
    {
     "data": {
      "text/plain": [
       "(289, 1147)"
      ]
     },
     "execution_count": 84,
     "metadata": {},
     "output_type": "execute_result"
    }
   ],
   "source": [
    "DF.shape"
   ]
  },
  {
   "cell_type": "code",
   "execution_count": 85,
   "id": "8b44adfb-c5c8-4b3e-a53f-f6b2a26acd2b",
   "metadata": {},
   "outputs": [
    {
     "data": {
      "text/plain": [
       "Index(['Country/Region', 'Province/State', 'Lat', 'Long'], dtype='object')"
      ]
     },
     "execution_count": 85,
     "metadata": {},
     "output_type": "execute_result"
    }
   ],
   "source": [
    "cols = DF[DF.columns[:4]].columns\n",
    "cols"
   ]
  },
  {
   "cell_type": "code",
   "execution_count": 86,
   "id": "97995cc0-8154-4d5b-8547-6e80ed51951e",
   "metadata": {},
   "outputs": [
    {
     "data": {
      "text/plain": [
       "False"
      ]
     },
     "execution_count": 86,
     "metadata": {},
     "output_type": "execute_result"
    }
   ],
   "source": [
    "DF[cols].duplicated().any()"
   ]
  },
  {
   "cell_type": "code",
   "execution_count": 87,
   "id": "456022fb-4204-440c-8a25-a687097e6abe",
   "metadata": {},
   "outputs": [
    {
     "name": "stdout",
     "output_type": "stream",
     "text": [
      "Country/Region  :  ['Afghanistan' 'Albania' 'Algeria' 'Andorra' 'Angola' 'Antarctica'\n",
      " 'Antigua and Barbuda' 'Argentina' 'Armenia' 'Australia' 'Austria'\n",
      " 'Azerbaijan' 'Bahamas' 'Bahrain' 'Bangladesh' 'Barbados' 'Belarus'\n",
      " 'Belgium' 'Belize' 'Benin' 'Bhutan' 'Bolivia' 'Bosnia and Herzegovina'\n",
      " 'Botswana' 'Brazil' 'Brunei' 'Bulgaria' 'Burkina Faso' 'Burma' 'Burundi'\n",
      " 'Cabo Verde' 'Cambodia' 'Cameroon' 'Canada' 'Central African Republic'\n",
      " 'Chad' 'Chile' 'China' 'Colombia' 'Comoros' 'Congo (Brazzaville)'\n",
      " 'Congo (Kinshasa)' 'Costa Rica' \"Cote d'Ivoire\" 'Croatia' 'Cuba' 'Cyprus'\n",
      " 'Czechia' 'Denmark' 'Diamond Princess' 'Djibouti' 'Dominica'\n",
      " 'Dominican Republic' 'Ecuador' 'Egypt' 'El Salvador' 'Equatorial Guinea'\n",
      " 'Eritrea' 'Estonia' 'Eswatini' 'Ethiopia' 'Fiji' 'Finland' 'France'\n",
      " 'Gabon' 'Gambia' 'Georgia' 'Germany' 'Ghana' 'Greece' 'Grenada'\n",
      " 'Guatemala' 'Guinea' 'Guinea-Bissau' 'Guyana' 'Haiti' 'Holy See'\n",
      " 'Honduras' 'Hungary' 'Iceland' 'India' 'Indonesia' 'Iran' 'Iraq'\n",
      " 'Ireland' 'Israel' 'Italy' 'Jamaica' 'Japan' 'Jordan' 'Kazakhstan'\n",
      " 'Kenya' 'Kiribati' 'Korea, North' 'Korea, South' 'Kosovo' 'Kuwait'\n",
      " 'Kyrgyzstan' 'Laos' 'Latvia' 'Lebanon' 'Lesotho' 'Liberia' 'Libya'\n",
      " 'Liechtenstein' 'Lithuania' 'Luxembourg' 'MS Zaandam' 'Madagascar'\n",
      " 'Malawi' 'Malaysia' 'Maldives' 'Mali' 'Malta' 'Marshall Islands'\n",
      " 'Mauritania' 'Mauritius' 'Mexico' 'Micronesia' 'Moldova' 'Monaco'\n",
      " 'Mongolia' 'Montenegro' 'Morocco' 'Mozambique' 'Namibia' 'Nauru' 'Nepal'\n",
      " 'Netherlands' 'New Zealand' 'Nicaragua' 'Niger' 'Nigeria'\n",
      " 'North Macedonia' 'Norway' 'Oman' 'Pakistan' 'Palau' 'Panama'\n",
      " 'Papua New Guinea' 'Paraguay' 'Peru' 'Philippines' 'Poland' 'Portugal'\n",
      " 'Qatar' 'Romania' 'Russia' 'Rwanda' 'Saint Kitts and Nevis' 'Saint Lucia'\n",
      " 'Saint Vincent and the Grenadines' 'Samoa' 'San Marino'\n",
      " 'Sao Tome and Principe' 'Saudi Arabia' 'Senegal' 'Serbia' 'Seychelles'\n",
      " 'Sierra Leone' 'Singapore' 'Slovakia' 'Slovenia' 'Solomon Islands'\n",
      " 'Somalia' 'South Africa' 'South Sudan' 'Spain' 'Sri Lanka' 'Sudan'\n",
      " 'Summer Olympics 2020' 'Suriname' 'Sweden' 'Switzerland' 'Syria'\n",
      " 'Taiwan*' 'Tajikistan' 'Tanzania' 'Thailand' 'Timor-Leste' 'Togo' 'Tonga'\n",
      " 'Trinidad and Tobago' 'Tunisia' 'Turkey' 'Tuvalu' 'US' 'Uganda' 'Ukraine'\n",
      " 'United Arab Emirates' 'United Kingdom' 'Uruguay' 'Uzbekistan' 'Vanuatu'\n",
      " 'Venezuela' 'Vietnam' 'West Bank and Gaza' 'Winter Olympics 2022' 'Yemen'\n",
      " 'Zambia' 'Zimbabwe']\n",
      "Province/State  :  [nan 'Australian Capital Territory' 'New South Wales' 'Northern Territory'\n",
      " 'Queensland' 'South Australia' 'Tasmania' 'Victoria' 'Western Australia'\n",
      " 'Alberta' 'British Columbia' 'Diamond Princess' 'Grand Princess'\n",
      " 'Manitoba' 'New Brunswick' 'Newfoundland and Labrador'\n",
      " 'Northwest Territories' 'Nova Scotia' 'Nunavut' 'Ontario'\n",
      " 'Prince Edward Island' 'Quebec' 'Repatriated Travellers' 'Saskatchewan'\n",
      " 'Yukon' 'Anhui' 'Beijing' 'Chongqing' 'Fujian' 'Gansu' 'Guangdong'\n",
      " 'Guangxi' 'Guizhou' 'Hainan' 'Hebei' 'Heilongjiang' 'Henan' 'Hong Kong'\n",
      " 'Hubei' 'Hunan' 'Inner Mongolia' 'Jiangsu' 'Jiangxi' 'Jilin' 'Liaoning'\n",
      " 'Macau' 'Ningxia' 'Qinghai' 'Shaanxi' 'Shandong' 'Shanghai' 'Shanxi'\n",
      " 'Sichuan' 'Tianjin' 'Tibet' 'Unknown' 'Xinjiang' 'Yunnan' 'Zhejiang'\n",
      " 'Faroe Islands' 'Greenland' 'French Guiana' 'French Polynesia'\n",
      " 'Guadeloupe' 'Martinique' 'Mayotte' 'New Caledonia' 'Reunion'\n",
      " 'Saint Barthelemy' 'Saint Pierre and Miquelon' 'St Martin'\n",
      " 'Wallis and Futuna' 'Aruba' 'Bonaire, Sint Eustatius and Saba' 'Curacao'\n",
      " 'Sint Maarten' 'Cook Islands' 'Niue' 'Anguilla' 'Bermuda'\n",
      " 'British Virgin Islands' 'Cayman Islands' 'Channel Islands'\n",
      " 'Falkland Islands (Malvinas)' 'Gibraltar' 'Guernsey' 'Isle of Man'\n",
      " 'Jersey' 'Montserrat' 'Pitcairn Islands'\n",
      " 'Saint Helena, Ascension and Tristan da Cunha' 'Turks and Caicos Islands']\n",
      "Lat  :  [ 3.3939110e+01  4.1153300e+01  2.8033900e+01  4.2506300e+01\n",
      " -1.1202700e+01 -7.1949900e+01  1.7060800e+01 -3.8416100e+01\n",
      "  4.0069100e+01 -3.5473500e+01 -3.3868800e+01 -1.2463400e+01\n",
      " -2.7469800e+01 -3.4928500e+01 -4.2882100e+01 -3.7813600e+01\n",
      " -3.1950500e+01  4.7516200e+01  4.0143100e+01  2.5025885e+01\n",
      "  2.6027500e+01  2.3685000e+01  1.3193900e+01  5.3709800e+01\n",
      "  5.0833300e+01  1.7189900e+01  9.3077000e+00  2.7514200e+01\n",
      " -1.6290200e+01  4.3915900e+01 -2.2328500e+01 -1.4235000e+01\n",
      "  4.5353000e+00  4.2733900e+01  1.2238300e+01  2.1916200e+01\n",
      " -3.3731000e+00  1.6538800e+01  1.1550000e+01  3.8480000e+00\n",
      "  5.3933300e+01  5.3726700e+01  0.0000000e+00  5.3760900e+01\n",
      "  4.6565300e+01  5.3135500e+01  6.4825500e+01  4.4682000e+01\n",
      "  7.0299800e+01  5.1253800e+01  4.6510700e+01  5.2939900e+01\n",
      "            nan  6.4282300e+01  6.6111000e+00  1.5454200e+01\n",
      " -3.5675100e+01  3.1825700e+01  4.0182400e+01  3.0057200e+01\n",
      "  2.6078900e+01  3.5751800e+01  2.3341700e+01  2.3829800e+01\n",
      "  2.6815400e+01  1.9195900e+01  3.9549000e+01  4.7862000e+01\n",
      "  3.7895700e+01  2.2300000e+01  3.0975600e+01  2.7610400e+01\n",
      "  4.4093500e+01  3.2971100e+01  2.7614000e+01  4.3666100e+01\n",
      "  4.1295600e+01  2.2166700e+01  3.7269200e+01  3.5745200e+01\n",
      "  3.5191700e+01  3.6342700e+01  3.1202000e+01  3.7577700e+01\n",
      "  3.0617100e+01  3.9305400e+01  3.1692700e+01  4.1112900e+01\n",
      "  2.4974000e+01  2.9183200e+01  4.5709000e+00 -1.1645500e+01\n",
      " -2.2800000e-01 -4.0383000e+00  9.7489000e+00  7.5400000e+00\n",
      "  4.5100000e+01  2.1521757e+01  3.5126400e+01  4.9817500e+01\n",
      "  6.1892600e+01  7.1706900e+01  5.6263900e+01  1.1825100e+01\n",
      "  1.5415000e+01  1.8735700e+01 -1.8312000e+00  2.6820553e+01\n",
      "  1.3794200e+01  1.6508000e+00  1.5179400e+01  5.8595300e+01\n",
      " -2.6522500e+01  9.1450000e+00 -1.7713400e+01  6.1924110e+01\n",
      "  3.9339000e+00 -1.7679700e+01  1.6265000e+01  1.4641500e+01\n",
      " -1.2827500e+01 -2.0904305e+01 -2.1115100e+01  1.7900000e+01\n",
      "  4.6885200e+01  1.8070800e+01 -1.4293800e+01  4.6227600e+01\n",
      " -8.0370000e-01  1.3443200e+01  4.2315400e+01  5.1165691e+01\n",
      "  7.9465000e+00  3.9074200e+01  1.2116500e+01  1.5783500e+01\n",
      "  9.9456000e+00  1.1803700e+01  4.8604160e+00  1.8971200e+01\n",
      "  4.1902900e+01  1.5200000e+01  4.7162500e+01  6.4963100e+01\n",
      "  2.0593684e+01 -7.8930000e-01  3.2427908e+01  3.3223191e+01\n",
      "  5.3142400e+01  3.1046051e+01  4.1871940e+01  1.8109600e+01\n",
      "  3.6204824e+01  3.1240000e+01  4.8019600e+01 -2.3600000e-02\n",
      " -3.3704000e+00  4.0339900e+01  3.5907757e+01  4.2602636e+01\n",
      "  2.9311660e+01  4.1204380e+01  1.9856270e+01  5.6879600e+01\n",
      "  3.3854700e+01 -2.9610000e+01  6.4280550e+00  2.6335100e+01\n",
      "  4.7140000e+01  5.5169400e+01  4.9815300e+01 -1.8766947e+01\n",
      " -1.3254300e+01  4.2104840e+00  3.2028000e+00  1.7570692e+01\n",
      "  3.5937500e+01  7.1315000e+00  2.1007900e+01 -2.0348404e+01\n",
      "  2.3634500e+01  7.4256000e+00  4.7411600e+01  4.3733300e+01\n",
      "  4.6862500e+01  4.2708678e+01  3.1791700e+01 -1.8665695e+01\n",
      " -2.2957600e+01 -5.2280000e-01  2.8166700e+01  1.2521100e+01\n",
      "  1.2178400e+01  1.2169600e+01  1.8042500e+01  5.2132600e+01\n",
      " -2.1236700e+01 -1.9054400e+01 -4.0900600e+01  1.2865416e+01\n",
      "  1.7607789e+01  9.0820000e+00  4.1608600e+01  6.0472000e+01\n",
      "  2.1512583e+01  3.0375300e+01  7.5150000e+00  8.5380000e+00\n",
      " -6.3149930e+00 -2.3442500e+01 -9.1900000e+00  1.2879721e+01\n",
      "  5.1919400e+01  3.9399900e+01  2.5354800e+01  4.5943200e+01\n",
      "  6.1524010e+01 -1.9403000e+00  1.7357822e+01  1.3909400e+01\n",
      "  1.2984300e+01 -1.3759000e+01  4.3942400e+01  1.8640000e-01\n",
      "  2.3885942e+01  1.4497400e+01  4.4016500e+01 -4.6796000e+00\n",
      "  8.4605550e+00  1.2833000e+00  4.8669000e+01  4.6151200e+01\n",
      " -9.6457000e+00  5.1521490e+00 -3.0559500e+01  6.8770000e+00\n",
      "  4.0463667e+01  7.8730540e+00  1.2862800e+01  3.5649100e+01\n",
      "  3.9193000e+00  6.0128161e+01  4.6818200e+01  3.4802075e+01\n",
      "  2.3700000e+01  3.8861000e+01 -6.3690280e+00  1.5870032e+01\n",
      " -8.8742170e+00  8.6195000e+00 -2.1179000e+01  1.0691800e+01\n",
      "  3.3886917e+01  3.8963700e+01 -7.1095000e+00  4.0000000e+01\n",
      "  1.3733330e+00  4.8379400e+01  2.3424076e+01  1.8220600e+01\n",
      "  3.2307800e+01  1.8420700e+01  1.9313300e+01  4.9372300e+01\n",
      " -5.1796300e+01  3.6140800e+01  4.9448196e+01  5.4236100e+01\n",
      "  4.9213800e+01  1.6742498e+01 -2.4376800e+01 -7.9467000e+00\n",
      "  2.1694000e+01  5.5378100e+01 -3.2522800e+01  4.1377491e+01\n",
      " -1.5376700e+01  6.4238000e+00  1.4058324e+01  3.1952200e+01\n",
      "  3.9904200e+01  1.5552727e+01 -1.3133897e+01 -1.9015438e+01]\n",
      "Long  :  [  67.709953   20.1683      1.6596      1.5218     17.8739     23.347\n",
      "  -61.7964    -63.6167     45.0382    149.0124    151.2093    130.8456\n",
      "  153.0251    138.6007    147.3272    144.9631    115.8605     14.5501\n",
      "   47.5769    -78.035889   50.55       90.3563    -59.5432     27.9534\n",
      "    4.469936  -88.4976      2.3158     90.4336    -63.5887     17.6791\n",
      "   24.6849    -51.9253    114.7277     25.4858     -1.5616     95.956\n",
      "   29.9189    -23.0418    104.9167     11.5021   -116.5765   -127.6476\n",
      "    0.        -98.8139    -66.4619    -57.6604   -124.8457    -63.7443\n",
      "  -83.1076    -85.3232    -63.4168    -73.5491           nan -106.4509\n",
      " -135.         20.9394     18.7322    -71.543     117.2264    116.4142\n",
      "  107.874     117.9874    104.2861    113.4244    108.7881    106.8748\n",
      "  109.7453    116.1306    127.7615    114.9042    114.2       112.2707\n",
      "  111.7088    113.9448    119.455     115.7221    126.1923    122.6085\n",
      "  113.55      106.1655     95.9956    108.8701    118.1498    121.4491\n",
      "  112.2922    102.7103    117.323      88.0924     85.2401    101.487\n",
      "  120.0934    -74.2973     43.3333     15.8277     21.7587    -83.7534\n",
      "   -5.5471     15.2       -77.781167   33.4299     15.473      -6.9118\n",
      "  -42.6043      9.5018     42.5903    -61.371     -70.1627    -78.1834\n",
      "   30.802498  -88.8965     10.2679     39.7823     25.0136     31.4659\n",
      "   40.4897    178.065      25.748151  -53.1258    149.4068    -61.551\n",
      "  -61.0242     45.166244  165.618042   55.5364    -62.8333    -56.3159\n",
      "  -63.0501   -178.1165      2.2137     11.6094    -15.3101     43.3569\n",
      "   10.451526   -1.0232     21.8243    -61.679     -90.2308     -9.6966\n",
      "  -15.1804    -58.93018   -72.2852     12.4534    -86.2419     19.5033\n",
      "  -19.0208     78.96288   113.9213     53.688046   43.679291   -7.6921\n",
      "   34.851612   12.56738   -77.2975    138.252924   36.51       66.9237\n",
      "   37.9062   -168.734     127.5101    127.766922   20.902977   47.481766\n",
      "   74.766098  102.495496   24.6032     35.8623     28.2336     -9.429499\n",
      "   17.228331    9.55       23.8813      6.1296     46.869107   34.3015\n",
      "  101.975766   73.2207     -3.996166   14.3754    171.1845    -10.9408\n",
      "   57.552152 -102.5528    150.5508     28.3699      7.4167    103.8467\n",
      "   19.37439    -7.0926     35.529562   18.4904    166.9315     84.25\n",
      "  -69.9683    -68.2385    -68.99      -63.0548      5.2913   -159.7777\n",
      " -169.8672    174.886     -85.207229    8.081666    8.6753     21.7453\n",
      "    8.4689     55.923255   69.3451    134.5825    -80.7821    143.95555\n",
      "  -58.4438    -75.0152    121.774017   19.1451     -8.2245     51.1839\n",
      "   24.9668    105.318756   29.8739    -62.782998  -60.9789    -61.2872\n",
      " -172.1046     12.4578      6.6131     45.079162  -14.4524     21.0059\n",
      "   55.492     -11.779889  103.8333     19.699      14.9955    160.1562\n",
      "   46.199616   22.9375     31.307      -3.74922    80.771797   30.2176\n",
      "  139.7737    -56.0278     18.643501    8.2275     38.996815  121.\n",
      "   71.2761     34.888822  100.992541  125.727539    0.8248   -175.1982\n",
      "  -61.2225      9.537499   35.2433    177.6493   -100.         32.290275\n",
      "   31.1656     53.847818  -63.0686    -64.7505    -64.64      -81.2546\n",
      "   -2.3644    -59.5236     -5.3536     -2.58949    -4.5481     -2.1358\n",
      "  -62.187366 -128.3242    -14.3559    -71.7979     -3.436     -55.7658\n",
      "   64.585262  166.9592    -66.5897    108.277199   35.2332    116.4074\n",
      "   48.516388   27.849332   29.154857]\n"
     ]
    }
   ],
   "source": [
    "for col in cols:\n",
    "    print(col,\" : \", DF[col].unique())"
   ]
  },
  {
   "cell_type": "code",
   "execution_count": 88,
   "id": "60e07f21-e973-4396-8dd3-cb5e09ca9428",
   "metadata": {},
   "outputs": [
    {
     "name": "stdout",
     "output_type": "stream",
     "text": [
      "<class 'pandas.core.frame.DataFrame'>\n",
      "RangeIndex: 289 entries, 0 to 288\n",
      "Columns: 1147 entries, Country/Region to 3/9/23\n",
      "dtypes: float64(2), int64(1143), object(2)\n",
      "memory usage: 2.5+ MB\n"
     ]
    }
   ],
   "source": [
    "DF.info()"
   ]
  },
  {
   "cell_type": "code",
   "execution_count": 89,
   "id": "a760f84f-d259-484d-a5c9-6d8345463175",
   "metadata": {},
   "outputs": [
    {
     "data": {
      "text/plain": [
       "Country/Region     object\n",
       "Province/State     object\n",
       "Lat               float64\n",
       "Long              float64\n",
       "1/22/20             int64\n",
       "                   ...   \n",
       "3/5/23              int64\n",
       "3/6/23              int64\n",
       "3/7/23              int64\n",
       "3/8/23              int64\n",
       "3/9/23              int64\n",
       "Length: 1147, dtype: object"
      ]
     },
     "execution_count": 89,
     "metadata": {},
     "output_type": "execute_result"
    }
   ],
   "source": [
    "DF.dtypes"
   ]
  },
  {
   "cell_type": "code",
   "execution_count": 90,
   "id": "36d2a459-97d5-4165-b1fe-f8ca0b4b2d2a",
   "metadata": {},
   "outputs": [
    {
     "data": {
      "text/html": [
       "<div>\n",
       "<style scoped>\n",
       "    .dataframe tbody tr th:only-of-type {\n",
       "        vertical-align: middle;\n",
       "    }\n",
       "\n",
       "    .dataframe tbody tr th {\n",
       "        vertical-align: top;\n",
       "    }\n",
       "\n",
       "    .dataframe thead th {\n",
       "        text-align: right;\n",
       "    }\n",
       "</style>\n",
       "<table border=\"1\" class=\"dataframe\">\n",
       "  <thead>\n",
       "    <tr style=\"text-align: right;\">\n",
       "      <th></th>\n",
       "      <th>Lat</th>\n",
       "      <th>Long</th>\n",
       "      <th>1/22/20</th>\n",
       "      <th>1/23/20</th>\n",
       "      <th>1/24/20</th>\n",
       "      <th>1/25/20</th>\n",
       "      <th>1/26/20</th>\n",
       "      <th>1/27/20</th>\n",
       "      <th>1/28/20</th>\n",
       "      <th>1/29/20</th>\n",
       "      <th>...</th>\n",
       "      <th>2/28/23</th>\n",
       "      <th>3/1/23</th>\n",
       "      <th>3/2/23</th>\n",
       "      <th>3/3/23</th>\n",
       "      <th>3/4/23</th>\n",
       "      <th>3/5/23</th>\n",
       "      <th>3/6/23</th>\n",
       "      <th>3/7/23</th>\n",
       "      <th>3/8/23</th>\n",
       "      <th>3/9/23</th>\n",
       "    </tr>\n",
       "  </thead>\n",
       "  <tbody>\n",
       "    <tr>\n",
       "      <th>count</th>\n",
       "      <td>287.000000</td>\n",
       "      <td>287.000000</td>\n",
       "      <td>289.000000</td>\n",
       "      <td>289.000000</td>\n",
       "      <td>289.000000</td>\n",
       "      <td>289.000000</td>\n",
       "      <td>289.000000</td>\n",
       "      <td>289.000000</td>\n",
       "      <td>289.000000</td>\n",
       "      <td>289.000000</td>\n",
       "      <td>...</td>\n",
       "      <td>2.890000e+02</td>\n",
       "      <td>2.890000e+02</td>\n",
       "      <td>2.890000e+02</td>\n",
       "      <td>2.890000e+02</td>\n",
       "      <td>2.890000e+02</td>\n",
       "      <td>2.890000e+02</td>\n",
       "      <td>2.890000e+02</td>\n",
       "      <td>2.890000e+02</td>\n",
       "      <td>2.890000e+02</td>\n",
       "      <td>2.890000e+02</td>\n",
       "    </tr>\n",
       "    <tr>\n",
       "      <th>mean</th>\n",
       "      <td>19.718719</td>\n",
       "      <td>22.182084</td>\n",
       "      <td>1.927336</td>\n",
       "      <td>2.273356</td>\n",
       "      <td>3.266436</td>\n",
       "      <td>4.972318</td>\n",
       "      <td>7.335640</td>\n",
       "      <td>10.134948</td>\n",
       "      <td>19.307958</td>\n",
       "      <td>21.346021</td>\n",
       "      <td>...</td>\n",
       "      <td>2.336755e+06</td>\n",
       "      <td>2.337519e+06</td>\n",
       "      <td>2.338173e+06</td>\n",
       "      <td>2.338805e+06</td>\n",
       "      <td>2.338992e+06</td>\n",
       "      <td>2.339187e+06</td>\n",
       "      <td>2.339387e+06</td>\n",
       "      <td>2.339839e+06</td>\n",
       "      <td>2.340460e+06</td>\n",
       "      <td>2.341073e+06</td>\n",
       "    </tr>\n",
       "    <tr>\n",
       "      <th>std</th>\n",
       "      <td>25.956609</td>\n",
       "      <td>77.870931</td>\n",
       "      <td>26.173664</td>\n",
       "      <td>26.270191</td>\n",
       "      <td>32.707271</td>\n",
       "      <td>45.523871</td>\n",
       "      <td>63.623197</td>\n",
       "      <td>85.724481</td>\n",
       "      <td>210.329649</td>\n",
       "      <td>211.628535</td>\n",
       "      <td>...</td>\n",
       "      <td>8.506608e+06</td>\n",
       "      <td>8.511285e+06</td>\n",
       "      <td>8.514488e+06</td>\n",
       "      <td>8.518031e+06</td>\n",
       "      <td>8.518408e+06</td>\n",
       "      <td>8.518645e+06</td>\n",
       "      <td>8.519346e+06</td>\n",
       "      <td>8.521641e+06</td>\n",
       "      <td>8.524968e+06</td>\n",
       "      <td>8.527765e+06</td>\n",
       "    </tr>\n",
       "    <tr>\n",
       "      <th>min</th>\n",
       "      <td>-71.949900</td>\n",
       "      <td>-178.116500</td>\n",
       "      <td>0.000000</td>\n",
       "      <td>0.000000</td>\n",
       "      <td>0.000000</td>\n",
       "      <td>0.000000</td>\n",
       "      <td>0.000000</td>\n",
       "      <td>0.000000</td>\n",
       "      <td>0.000000</td>\n",
       "      <td>0.000000</td>\n",
       "      <td>...</td>\n",
       "      <td>0.000000e+00</td>\n",
       "      <td>0.000000e+00</td>\n",
       "      <td>0.000000e+00</td>\n",
       "      <td>0.000000e+00</td>\n",
       "      <td>0.000000e+00</td>\n",
       "      <td>0.000000e+00</td>\n",
       "      <td>0.000000e+00</td>\n",
       "      <td>0.000000e+00</td>\n",
       "      <td>0.000000e+00</td>\n",
       "      <td>0.000000e+00</td>\n",
       "    </tr>\n",
       "    <tr>\n",
       "      <th>25%</th>\n",
       "      <td>4.072192</td>\n",
       "      <td>-32.823050</td>\n",
       "      <td>0.000000</td>\n",
       "      <td>0.000000</td>\n",
       "      <td>0.000000</td>\n",
       "      <td>0.000000</td>\n",
       "      <td>0.000000</td>\n",
       "      <td>0.000000</td>\n",
       "      <td>0.000000</td>\n",
       "      <td>0.000000</td>\n",
       "      <td>...</td>\n",
       "      <td>1.456700e+04</td>\n",
       "      <td>1.456700e+04</td>\n",
       "      <td>1.456700e+04</td>\n",
       "      <td>1.456700e+04</td>\n",
       "      <td>1.456700e+04</td>\n",
       "      <td>1.456700e+04</td>\n",
       "      <td>1.456700e+04</td>\n",
       "      <td>1.456700e+04</td>\n",
       "      <td>1.456700e+04</td>\n",
       "      <td>1.456700e+04</td>\n",
       "    </tr>\n",
       "    <tr>\n",
       "      <th>50%</th>\n",
       "      <td>21.512583</td>\n",
       "      <td>20.939400</td>\n",
       "      <td>0.000000</td>\n",
       "      <td>0.000000</td>\n",
       "      <td>0.000000</td>\n",
       "      <td>0.000000</td>\n",
       "      <td>0.000000</td>\n",
       "      <td>0.000000</td>\n",
       "      <td>0.000000</td>\n",
       "      <td>0.000000</td>\n",
       "      <td>...</td>\n",
       "      <td>1.032480e+05</td>\n",
       "      <td>1.032480e+05</td>\n",
       "      <td>1.032480e+05</td>\n",
       "      <td>1.032480e+05</td>\n",
       "      <td>1.032480e+05</td>\n",
       "      <td>1.032480e+05</td>\n",
       "      <td>1.032480e+05</td>\n",
       "      <td>1.032480e+05</td>\n",
       "      <td>1.032480e+05</td>\n",
       "      <td>1.032480e+05</td>\n",
       "    </tr>\n",
       "    <tr>\n",
       "      <th>75%</th>\n",
       "      <td>40.401784</td>\n",
       "      <td>89.224350</td>\n",
       "      <td>0.000000</td>\n",
       "      <td>0.000000</td>\n",
       "      <td>0.000000</td>\n",
       "      <td>0.000000</td>\n",
       "      <td>0.000000</td>\n",
       "      <td>0.000000</td>\n",
       "      <td>0.000000</td>\n",
       "      <td>0.000000</td>\n",
       "      <td>...</td>\n",
       "      <td>1.051998e+06</td>\n",
       "      <td>1.052122e+06</td>\n",
       "      <td>1.052247e+06</td>\n",
       "      <td>1.052382e+06</td>\n",
       "      <td>1.052519e+06</td>\n",
       "      <td>1.052664e+06</td>\n",
       "      <td>1.052664e+06</td>\n",
       "      <td>1.052926e+06</td>\n",
       "      <td>1.053068e+06</td>\n",
       "      <td>1.053213e+06</td>\n",
       "    </tr>\n",
       "    <tr>\n",
       "      <th>max</th>\n",
       "      <td>71.706900</td>\n",
       "      <td>178.065000</td>\n",
       "      <td>444.000000</td>\n",
       "      <td>444.000000</td>\n",
       "      <td>549.000000</td>\n",
       "      <td>761.000000</td>\n",
       "      <td>1058.000000</td>\n",
       "      <td>1423.000000</td>\n",
       "      <td>3554.000000</td>\n",
       "      <td>3554.000000</td>\n",
       "      <td>...</td>\n",
       "      <td>1.034435e+08</td>\n",
       "      <td>1.035339e+08</td>\n",
       "      <td>1.035898e+08</td>\n",
       "      <td>1.036487e+08</td>\n",
       "      <td>1.036508e+08</td>\n",
       "      <td>1.036470e+08</td>\n",
       "      <td>1.036555e+08</td>\n",
       "      <td>1.036909e+08</td>\n",
       "      <td>1.037558e+08</td>\n",
       "      <td>1.038027e+08</td>\n",
       "    </tr>\n",
       "  </tbody>\n",
       "</table>\n",
       "<p>8 rows × 1145 columns</p>\n",
       "</div>"
      ],
      "text/plain": [
       "              Lat        Long     1/22/20     1/23/20     1/24/20     1/25/20  \\\n",
       "count  287.000000  287.000000  289.000000  289.000000  289.000000  289.000000   \n",
       "mean    19.718719   22.182084    1.927336    2.273356    3.266436    4.972318   \n",
       "std     25.956609   77.870931   26.173664   26.270191   32.707271   45.523871   \n",
       "min    -71.949900 -178.116500    0.000000    0.000000    0.000000    0.000000   \n",
       "25%      4.072192  -32.823050    0.000000    0.000000    0.000000    0.000000   \n",
       "50%     21.512583   20.939400    0.000000    0.000000    0.000000    0.000000   \n",
       "75%     40.401784   89.224350    0.000000    0.000000    0.000000    0.000000   \n",
       "max     71.706900  178.065000  444.000000  444.000000  549.000000  761.000000   \n",
       "\n",
       "           1/26/20      1/27/20      1/28/20      1/29/20  ...       2/28/23  \\\n",
       "count   289.000000   289.000000   289.000000   289.000000  ...  2.890000e+02   \n",
       "mean      7.335640    10.134948    19.307958    21.346021  ...  2.336755e+06   \n",
       "std      63.623197    85.724481   210.329649   211.628535  ...  8.506608e+06   \n",
       "min       0.000000     0.000000     0.000000     0.000000  ...  0.000000e+00   \n",
       "25%       0.000000     0.000000     0.000000     0.000000  ...  1.456700e+04   \n",
       "50%       0.000000     0.000000     0.000000     0.000000  ...  1.032480e+05   \n",
       "75%       0.000000     0.000000     0.000000     0.000000  ...  1.051998e+06   \n",
       "max    1058.000000  1423.000000  3554.000000  3554.000000  ...  1.034435e+08   \n",
       "\n",
       "             3/1/23        3/2/23        3/3/23        3/4/23        3/5/23  \\\n",
       "count  2.890000e+02  2.890000e+02  2.890000e+02  2.890000e+02  2.890000e+02   \n",
       "mean   2.337519e+06  2.338173e+06  2.338805e+06  2.338992e+06  2.339187e+06   \n",
       "std    8.511285e+06  8.514488e+06  8.518031e+06  8.518408e+06  8.518645e+06   \n",
       "min    0.000000e+00  0.000000e+00  0.000000e+00  0.000000e+00  0.000000e+00   \n",
       "25%    1.456700e+04  1.456700e+04  1.456700e+04  1.456700e+04  1.456700e+04   \n",
       "50%    1.032480e+05  1.032480e+05  1.032480e+05  1.032480e+05  1.032480e+05   \n",
       "75%    1.052122e+06  1.052247e+06  1.052382e+06  1.052519e+06  1.052664e+06   \n",
       "max    1.035339e+08  1.035898e+08  1.036487e+08  1.036508e+08  1.036470e+08   \n",
       "\n",
       "             3/6/23        3/7/23        3/8/23        3/9/23  \n",
       "count  2.890000e+02  2.890000e+02  2.890000e+02  2.890000e+02  \n",
       "mean   2.339387e+06  2.339839e+06  2.340460e+06  2.341073e+06  \n",
       "std    8.519346e+06  8.521641e+06  8.524968e+06  8.527765e+06  \n",
       "min    0.000000e+00  0.000000e+00  0.000000e+00  0.000000e+00  \n",
       "25%    1.456700e+04  1.456700e+04  1.456700e+04  1.456700e+04  \n",
       "50%    1.032480e+05  1.032480e+05  1.032480e+05  1.032480e+05  \n",
       "75%    1.052664e+06  1.052926e+06  1.053068e+06  1.053213e+06  \n",
       "max    1.036555e+08  1.036909e+08  1.037558e+08  1.038027e+08  \n",
       "\n",
       "[8 rows x 1145 columns]"
      ]
     },
     "execution_count": 90,
     "metadata": {},
     "output_type": "execute_result"
    }
   ],
   "source": [
    "DF.describe()"
   ]
  },
  {
   "cell_type": "code",
   "execution_count": 91,
   "id": "d4a20fd0-0020-41f8-b4c0-db0a72fb0ff7",
   "metadata": {},
   "outputs": [
    {
     "data": {
      "text/plain": [
       "Index(['Province/State', 'Lat', 'Long'], dtype='object')"
      ]
     },
     "execution_count": 91,
     "metadata": {},
     "output_type": "execute_result"
    }
   ],
   "source": [
    "DF.columns[DF.isnull().any()]"
   ]
  },
  {
   "cell_type": "code",
   "execution_count": 92,
   "id": "ab5527d2-cd50-451c-af22-7391cca0a5dc",
   "metadata": {},
   "outputs": [
    {
     "name": "stdout",
     "output_type": "stream",
     "text": [
      "0      NaN\n",
      "1      NaN\n",
      "2      NaN\n",
      "3      NaN\n",
      "4      NaN\n",
      "      ... \n",
      "284    NaN\n",
      "285    NaN\n",
      "286    NaN\n",
      "287    NaN\n",
      "288    NaN\n",
      "Name: Province/State, Length: 289, dtype: object\n",
      "0      33.939110\n",
      "1      41.153300\n",
      "2      28.033900\n",
      "3      42.506300\n",
      "4     -11.202700\n",
      "         ...    \n",
      "284    31.952200\n",
      "285    39.904200\n",
      "286    15.552727\n",
      "287   -13.133897\n",
      "288   -19.015438\n",
      "Name: Lat, Length: 289, dtype: float64\n",
      "0       67.709953\n",
      "1       20.168300\n",
      "2        1.659600\n",
      "3        1.521800\n",
      "4       17.873900\n",
      "          ...    \n",
      "284     35.233200\n",
      "285    116.407400\n",
      "286     48.516388\n",
      "287     27.849332\n",
      "288     29.154857\n",
      "Name: Long, Length: 289, dtype: float64\n"
     ]
    }
   ],
   "source": [
    "print(DF['Province/State'])\n",
    "print(DF['Lat'])\n",
    "print(DF['Long'])"
   ]
  },
  {
   "cell_type": "markdown",
   "id": "37e77217-2616-4ad4-8378-39f3a31a0d07",
   "metadata": {
    "tags": []
   },
   "source": [
    "### Data Cleaning"
   ]
  },
  {
   "cell_type": "markdown",
   "id": "da4c845d-93d5-4e24-b4d5-af7c5c6ec55c",
   "metadata": {
    "jp-MarkdownHeadingCollapsed": true,
    "tags": []
   },
   "source": [
    "#### Extraction of the data"
   ]
  },
  {
   "cell_type": "code",
   "execution_count": null,
   "id": "77f3fcde-4f86-4992-b4f2-0c493b191119",
   "metadata": {},
   "outputs": [],
   "source": [
    "# data = DF[\"Province_State\"]\n",
    "\n",
    "# col_index_max = DF.shape[0]\n",
    "\n",
    "# columns = (DF.columns).tolist()\n",
    "\n",
    "# row_values = []\n",
    "# my_dict = {}\n",
    "    \n",
    "# for i in range(0, col_index_max):\n",
    "#     input_string = data[i]\n",
    "    \n",
    "#     parts = input_string.split('\\\"')\n",
    "#     dict = {}\n",
    "\n",
    "#     for j, part in enumerate(parts, 1):\n",
    "#         list_part = [elm.replace('\\\"', '') for elm in part.split(',') if elm]\n",
    "\n",
    "#         if len(list_part) != 3:\n",
    "#             my_dict[str(j)] = list_part\n",
    "\n",
    "#     values_list = [val for sublist in my_dict.values() for val in sublist]\n",
    "\n",
    "#     row_values.append(tuple(values_list))\n",
    "\n",
    "    \n",
    "# cleaned_us_list = [(key, *value) for key, value in zip(columns, row_values)]\n",
    "\n",
    "# with open(cleaned_dataset_path, 'w') as csvfile:\n",
    "#     csvwriter = csv.writer(csvfile)\n",
    "    \n",
    "#     csvwriter.writerows(cleaned_us_list)"
   ]
  },
  {
   "cell_type": "markdown",
   "id": "807f7bb4-a961-4580-94fd-d241413281ad",
   "metadata": {},
   "source": [
    "#### Separation and conversion of data"
   ]
  },
  {
   "cell_type": "code",
   "execution_count": 93,
   "id": "d1e2e557-f4f5-4277-85ed-335d5d4d8275",
   "metadata": {},
   "outputs": [
    {
     "data": {
      "text/plain": [
       "Index(['Country/Region', 'Province/State'], dtype='object')"
      ]
     },
     "execution_count": 93,
     "metadata": {},
     "output_type": "execute_result"
    }
   ],
   "source": [
    "DF.columns[:2]"
   ]
  },
  {
   "cell_type": "code",
   "execution_count": 94,
   "id": "5dd5b275-1b22-4111-b44a-aab101452637",
   "metadata": {},
   "outputs": [],
   "source": [
    "cat_cols = list(DF.columns[:2])\n",
    "DF[cat_cols] = DF[cat_cols].astype('category')"
   ]
  },
  {
   "cell_type": "code",
   "execution_count": 95,
   "id": "5d04560e-d6ee-41ca-9618-5368aeec1d71",
   "metadata": {},
   "outputs": [
    {
     "data": {
      "text/plain": [
       "Index(['Lat', 'Long'], dtype='object')"
      ]
     },
     "execution_count": 95,
     "metadata": {},
     "output_type": "execute_result"
    }
   ],
   "source": [
    "DF.columns[2:4]"
   ]
  },
  {
   "cell_type": "code",
   "execution_count": 96,
   "id": "5e1d376c-3bf3-40e5-89d1-69de789bd7e0",
   "metadata": {},
   "outputs": [],
   "source": [
    "float_cols = list(DF.columns[2:4])\n",
    "DF[float_cols] = DF[float_cols].astype('float')"
   ]
  },
  {
   "cell_type": "code",
   "execution_count": 97,
   "id": "78431284-934d-4057-9ceb-84478b005f7a",
   "metadata": {},
   "outputs": [
    {
     "data": {
      "text/plain": [
       "Index(['1/22/20', '1/23/20', '1/24/20', '1/25/20', '1/26/20', '1/27/20',\n",
       "       '1/28/20', '1/29/20', '1/30/20', '1/31/20',\n",
       "       ...\n",
       "       '2/28/23', '3/1/23', '3/2/23', '3/3/23', '3/4/23', '3/5/23', '3/6/23',\n",
       "       '3/7/23', '3/8/23', '3/9/23'],\n",
       "      dtype='object', length=1143)"
      ]
     },
     "execution_count": 97,
     "metadata": {},
     "output_type": "execute_result"
    }
   ],
   "source": [
    "DF.columns[4:]"
   ]
  },
  {
   "cell_type": "code",
   "execution_count": 98,
   "id": "14f06650-b5b5-4471-90ae-3617c0286ec7",
   "metadata": {},
   "outputs": [],
   "source": [
    "date_cols = DF.columns[4:]\n",
    "\n",
    "DF[date_cols] = DF[date_cols].astype('int')"
   ]
  },
  {
   "cell_type": "code",
   "execution_count": 99,
   "id": "d5c53d1e-6fe2-411d-9e1d-4bfef28a0b4b",
   "metadata": {},
   "outputs": [
    {
     "name": "stdout",
     "output_type": "stream",
     "text": [
      "Country/Region    category\n",
      "Province/State    category\n",
      "Lat                float64\n",
      "Long               float64\n",
      "1/22/20              int64\n",
      "                    ...   \n",
      "3/5/23               int64\n",
      "3/6/23               int64\n",
      "3/7/23               int64\n",
      "3/8/23               int64\n",
      "3/9/23               int64\n",
      "Length: 1147, dtype: object\n"
     ]
    }
   ],
   "source": [
    "print(DF.dtypes)"
   ]
  },
  {
   "cell_type": "markdown",
   "id": "075ea867-1485-4cbf-8129-3a9ef19590e1",
   "metadata": {},
   "source": [
    "#### Removing of unnecessary data and null values"
   ]
  },
  {
   "cell_type": "code",
   "execution_count": 105,
   "id": "23bf4e7b-b85a-47d5-bc86-3aef7fc09897",
   "metadata": {},
   "outputs": [
    {
     "name": "stdout",
     "output_type": "stream",
     "text": [
      "False\n",
      "False\n",
      "False\n"
     ]
    }
   ],
   "source": [
    "print(DF['Province/State'].isnull().any())\n",
    "print(DF['Lat'].isnull().any())\n",
    "print(DF['Long'].isnull().any())"
   ]
  },
  {
   "cell_type": "code",
   "execution_count": 101,
   "id": "5af73b79-975f-4e77-a9c2-3fd4054aa8b3",
   "metadata": {},
   "outputs": [],
   "source": [
    "if 'Unknown' not in DF['Province/State'].cat.categories:\n",
    "    DF['Province/State'] = DF['Province/State'].cat.add_categories('Unknown')\n",
    "\n",
    "DF['Province/State'] = DF['Province/State'].fillna('Unknown')"
   ]
  },
  {
   "cell_type": "code",
   "execution_count": 102,
   "id": "0a476011-f0ca-4b84-987c-3dbb47abcd95",
   "metadata": {},
   "outputs": [
    {
     "name": "stdout",
     "output_type": "stream",
     "text": [
      "    Lat  Long Country/Region\n",
      "53  NaN   NaN         Canada\n",
      "89  NaN   NaN          China\n"
     ]
    }
   ],
   "source": [
    "    mask = DF['Lat'].isnull()\n",
    "\n",
    "    result = DF.loc[mask, ['Lat', 'Long', 'Country/Region']]\n",
    "\n",
    "    print(result)"
   ]
  },
  {
   "cell_type": "code",
   "execution_count": 103,
   "id": "02f09e9d-ac40-4265-b7e6-bd49da41c74e",
   "metadata": {},
   "outputs": [
    {
     "name": "stdout",
     "output_type": "stream",
     "text": [
      "Requirement already satisfied: geopy in /opt/conda/lib/python3.7/site-packages (2.4.1)\n",
      "Requirement already satisfied: geographiclib<3,>=1.52 in /opt/conda/lib/python3.7/site-packages (from geopy) (2.0)\n"
     ]
    }
   ],
   "source": [
    "!pip install geopy"
   ]
  },
  {
   "cell_type": "code",
   "execution_count": 104,
   "id": "8a322cda-bee8-4dc3-9f80-6a4dab4af3b5",
   "metadata": {},
   "outputs": [
    {
     "name": "stdout",
     "output_type": "stream",
     "text": [
      "           Country/Region Province/State        Lat        Long  1/22/20  \\\n",
      "0             Afghanistan        Unknown  33.939110   67.709953        0   \n",
      "1                 Albania        Unknown  41.153300   20.168300        0   \n",
      "2                 Algeria        Unknown  28.033900    1.659600        0   \n",
      "3                 Andorra        Unknown  42.506300    1.521800        0   \n",
      "4                  Angola        Unknown -11.202700   17.873900        0   \n",
      "..                    ...            ...        ...         ...      ...   \n",
      "284    West Bank and Gaza        Unknown  31.952200   35.233200        0   \n",
      "285  Winter Olympics 2022        Unknown  39.904200  116.407400        0   \n",
      "286                 Yemen        Unknown  15.552727   48.516388        0   \n",
      "287                Zambia        Unknown -13.133897   27.849332        0   \n",
      "288              Zimbabwe        Unknown -19.015438   29.154857        0   \n",
      "\n",
      "     1/23/20  1/24/20  1/25/20  1/26/20  1/27/20  ...  2/28/23  3/1/23  \\\n",
      "0          0        0        0        0        0  ...   209322  209340   \n",
      "1          0        0        0        0        0  ...   334391  334408   \n",
      "2          0        0        0        0        0  ...   271441  271448   \n",
      "3          0        0        0        0        0  ...    47866   47875   \n",
      "4          0        0        0        0        0  ...   105255  105277   \n",
      "..       ...      ...      ...      ...      ...  ...      ...     ...   \n",
      "284        0        0        0        0        0  ...   703228  703228   \n",
      "285        0        0        0        0        0  ...      535     535   \n",
      "286        0        0        0        0        0  ...    11945   11945   \n",
      "287        0        0        0        0        0  ...   343012  343012   \n",
      "288        0        0        0        0        0  ...   263921  264127   \n",
      "\n",
      "     3/2/23  3/3/23  3/4/23  3/5/23  3/6/23  3/7/23  3/8/23  3/9/23  \n",
      "0    209358  209362  209369  209390  209406  209436  209451  209451  \n",
      "1    334408  334427  334427  334427  334427  334427  334443  334457  \n",
      "2    271463  271469  271469  271477  271477  271490  271494  271496  \n",
      "3     47875   47875   47875   47875   47875   47875   47890   47890  \n",
      "4    105277  105277  105277  105277  105277  105277  105288  105288  \n",
      "..      ...     ...     ...     ...     ...     ...     ...     ...  \n",
      "284  703228  703228  703228  703228  703228  703228  703228  703228  \n",
      "285     535     535     535     535     535     535     535     535  \n",
      "286   11945   11945   11945   11945   11945   11945   11945   11945  \n",
      "287  343079  343079  343079  343135  343135  343135  343135  343135  \n",
      "288  264127  264127  264127  264127  264127  264127  264276  264276  \n",
      "\n",
      "[289 rows x 1147 columns]\n"
     ]
    }
   ],
   "source": [
    "import numpy as np\n",
    "from geopy.geocoders import Nominatim\n",
    "\n",
    "geolocator = Nominatim(user_agent=\"geoapiExercises\")\n",
    "\n",
    "def geocode_location(row):\n",
    "    address = f\"{row['Country/Region']}\"\n",
    "    try:\n",
    "        location = geolocator.geocode(address)\n",
    "        if location:\n",
    "            return pd.Series([location.latitude, location.longitude], index=['Lat', 'Long'])\n",
    "        else:\n",
    "            print(f\"Geocoding failed for address: {address}\")\n",
    "            return pd.Series([np.nan, np.nan], index=['Lat', 'Long'])\n",
    "    except Exception as e:\n",
    "        print(f\"Error geocoding {address}: {e}\")\n",
    "        return pd.Series([np.nan, np.nan], index=['Lat', 'Long'])\n",
    "\n",
    "\n",
    "missing_lat_long = DF[DF['Lat'].isnull()]\n",
    "\n",
    "geocoded_values = missing_lat_long.apply(geocode_location, axis=1)\n",
    "\n",
    "DF.loc[missing_lat_long.index, ['Lat', 'Long']] = geocoded_values\n",
    "\n",
    "print(DF)"
   ]
  },
  {
   "cell_type": "code",
   "execution_count": 107,
   "id": "e593dafc-7c7c-462e-b542-c4fb3351b47c",
   "metadata": {},
   "outputs": [
    {
     "name": "stdout",
     "output_type": "stream",
     "text": [
      "Empty DataFrame\n",
      "Columns: [Country/Region, Province/State, Lat, Long, 1/22/20, 1/23/20, 1/24/20, 1/25/20, 1/26/20, 1/27/20, 1/28/20, 1/29/20, 1/30/20, 1/31/20, 2/1/20, 2/2/20, 2/3/20, 2/4/20, 2/5/20, 2/6/20, 2/7/20, 2/8/20, 2/9/20, 2/10/20, 2/11/20, 2/12/20, 2/13/20, 2/14/20, 2/15/20, 2/16/20, 2/17/20, 2/18/20, 2/19/20, 2/20/20, 2/21/20, 2/22/20, 2/23/20, 2/24/20, 2/25/20, 2/26/20, 2/27/20, 2/28/20, 2/29/20, 3/1/20, 3/2/20, 3/3/20, 3/4/20, 3/5/20, 3/6/20, 3/7/20, 3/8/20, 3/9/20, 3/10/20, 3/11/20, 3/12/20, 3/13/20, 3/14/20, 3/15/20, 3/16/20, 3/17/20, 3/18/20, 3/19/20, 3/20/20, 3/21/20, 3/22/20, 3/23/20, 3/24/20, 3/25/20, 3/26/20, 3/27/20, 3/28/20, 3/29/20, 3/30/20, 3/31/20, 4/1/20, 4/2/20, 4/3/20, 4/4/20, 4/5/20, 4/6/20, 4/7/20, 4/8/20, 4/9/20, 4/10/20, 4/11/20, 4/12/20, 4/13/20, 4/14/20, 4/15/20, 4/16/20, 4/17/20, 4/18/20, 4/19/20, 4/20/20, 4/21/20, 4/22/20, 4/23/20, 4/24/20, 4/25/20, 4/26/20, ...]\n",
      "Index: []\n",
      "\n",
      "[0 rows x 1147 columns]\n",
      "Empty DataFrame\n",
      "Columns: [Country/Region, Province/State, Lat, Long, 1/22/20, 1/23/20, 1/24/20, 1/25/20, 1/26/20, 1/27/20, 1/28/20, 1/29/20, 1/30/20, 1/31/20, 2/1/20, 2/2/20, 2/3/20, 2/4/20, 2/5/20, 2/6/20, 2/7/20, 2/8/20, 2/9/20, 2/10/20, 2/11/20, 2/12/20, 2/13/20, 2/14/20, 2/15/20, 2/16/20, 2/17/20, 2/18/20, 2/19/20, 2/20/20, 2/21/20, 2/22/20, 2/23/20, 2/24/20, 2/25/20, 2/26/20, 2/27/20, 2/28/20, 2/29/20, 3/1/20, 3/2/20, 3/3/20, 3/4/20, 3/5/20, 3/6/20, 3/7/20, 3/8/20, 3/9/20, 3/10/20, 3/11/20, 3/12/20, 3/13/20, 3/14/20, 3/15/20, 3/16/20, 3/17/20, 3/18/20, 3/19/20, 3/20/20, 3/21/20, 3/22/20, 3/23/20, 3/24/20, 3/25/20, 3/26/20, 3/27/20, 3/28/20, 3/29/20, 3/30/20, 3/31/20, 4/1/20, 4/2/20, 4/3/20, 4/4/20, 4/5/20, 4/6/20, 4/7/20, 4/8/20, 4/9/20, 4/10/20, 4/11/20, 4/12/20, 4/13/20, 4/14/20, 4/15/20, 4/16/20, 4/17/20, 4/18/20, 4/19/20, 4/20/20, 4/21/20, 4/22/20, 4/23/20, 4/24/20, 4/25/20, 4/26/20, ...]\n",
      "Index: []\n",
      "\n",
      "[0 rows x 1147 columns]\n"
     ]
    }
   ],
   "source": [
    "print(DF[DF['Lat'].isnull() & DF['Long'].notnull()])\n",
    "print(DF[DF['Long'].isnull() & DF['Lat'].notnull()])"
   ]
  },
  {
   "cell_type": "code",
   "execution_count": 108,
   "id": "d585caec-b93c-42ab-b80b-ce0057bcd9a2",
   "metadata": {},
   "outputs": [
    {
     "data": {
      "text/plain": [
       "Index(['Country/Region', 'Province/State', 'Lat', 'Long', '1/22/20', '1/23/20',\n",
       "       '1/24/20', '1/25/20', '1/26/20', '1/27/20',\n",
       "       ...\n",
       "       '2/28/23', '3/1/23', '3/2/23', '3/3/23', '3/4/23', '3/5/23', '3/6/23',\n",
       "       '3/7/23', '3/8/23', '3/9/23'],\n",
       "      dtype='object', length=1147)"
      ]
     },
     "execution_count": 108,
     "metadata": {},
     "output_type": "execute_result"
    }
   ],
   "source": [
    "DF.columns"
   ]
  },
  {
   "cell_type": "code",
   "execution_count": 109,
   "id": "17b031f4-5d22-4f02-9c9c-f7d8653441b1",
   "metadata": {},
   "outputs": [],
   "source": [
    "DF.to_csv(cleaned_dataset_path, index=False)"
   ]
  },
  {
   "cell_type": "markdown",
   "id": "1ead5885-4f8d-4884-88a4-612ec5b3cb6c",
   "metadata": {
    "tags": []
   },
   "source": [
    "### Advanced cleaning / Preprocessing"
   ]
  },
  {
   "cell_type": "code",
   "execution_count": null,
   "id": "6f570e22-01ef-4ed2-8394-738a52643e90",
   "metadata": {},
   "outputs": [],
   "source": [
    "DF_desc = DF[DF.columns[:11]]\n",
    "DF_date = DF[DF.columns[11:]]\n",
    "\n",
    "print(DF_desc.head(2))\n",
    "print(\"-- * --\"*10)\n",
    "print(DF_date.tail(2))\n",
    "\n",
    "date_cols = DF.columns[11:]\n",
    "\n",
    "DF[date_cols] = DF[date_cols].apply(pd.to_datetime)"
   ]
  },
  {
   "cell_type": "raw",
   "id": "209139d9-0780-480c-a7fe-409c779ece4e",
   "metadata": {},
   "source": [
    "In this phase, each variable in the dataset is analyzed individually to understand its distribution, detect outliers, etc. The output of this phase is a set of statistics and visualizations for each variable."
   ]
  },
  {
   "cell_type": "markdown",
   "id": "00a7ac39-1258-4ff0-ac01-e290abf416fd",
   "metadata": {
    "jp-MarkdownHeadingCollapsed": true,
    "tags": []
   },
   "source": [
    "### Univariate Analysis:"
   ]
  },
  {
   "cell_type": "markdown",
   "id": "9cd8fe83-0f22-4f2a-bdb3-05288803366f",
   "metadata": {
    "jp-MarkdownHeadingCollapsed": true,
    "tags": []
   },
   "source": [
    "### Bivariate/Multivariate Analysis: "
   ]
  },
  {
   "cell_type": "raw",
   "id": "8bdfb678-87a4-48d4-afce-6efff13b7e0b",
   "metadata": {},
   "source": [
    "Here, the relationships between two or more variables are analyzed. This could involve creating scatter plots, correlation matrices, etc. The output of this phase is an understanding of the relationships between variables."
   ]
  },
  {
   "cell_type": "markdown",
   "id": "59e1de3f-d3d1-4f33-974a-c14462ab3b7a",
   "metadata": {
    "jp-MarkdownHeadingCollapsed": true,
    "tags": []
   },
   "source": [
    "### Data Visualization: "
   ]
  },
  {
   "cell_type": "raw",
   "id": "c2971d93-5390-4db7-8298-d8b26ab1ddae",
   "metadata": {},
   "source": [
    "This phase involves creating visual representations of the data to understand patterns, trends, and relationships in the data. The output of this phase is a set of plots and charts that represent the data."
   ]
  },
  {
   "cell_type": "markdown",
   "id": "61d47554-9fcb-4039-b0d3-6b33a24d9084",
   "metadata": {
    "jp-MarkdownHeadingCollapsed": true,
    "tags": []
   },
   "source": [
    "### Insights Generation: "
   ]
  },
  {
   "cell_type": "raw",
   "id": "aca38d8d-9724-4b0a-9395-46795ad00ba6",
   "metadata": {},
   "source": [
    "Based on the above analyses, meaningful insights are generated from the data. The output of this phase is a set of insights that can guide further data analysis or predictive modeling."
   ]
  },
  {
   "cell_type": "markdown",
   "id": "c40c9095-1958-42e5-93a1-3e2ff5dc5a31",
   "metadata": {
    "tags": []
   },
   "source": [
    "### Data Profiling"
   ]
  },
  {
   "cell_type": "code",
   "execution_count": null,
   "id": "ef0d5295-476a-405c-bf40-9da33073de84",
   "metadata": {},
   "outputs": [],
   "source": []
  },
  {
   "cell_type": "markdown",
   "id": "aae67425-c5f0-43d2-9208-939c3bc916ec",
   "metadata": {
    "tags": []
   },
   "source": [
    "## DEATHS"
   ]
  },
  {
   "cell_type": "markdown",
   "id": "e40a15f2-f089-4faa-9072-ca31d3fab560",
   "metadata": {
    "jp-MarkdownHeadingCollapsed": true,
    "tags": []
   },
   "source": [
    "### Data Profiling"
   ]
  },
  {
   "cell_type": "code",
   "execution_count": 83,
   "id": "8c003779-db6f-45ae-a72e-e4cc302eccd3",
   "metadata": {},
   "outputs": [
    {
     "data": {
      "text/html": [
       "<div>\n",
       "<style scoped>\n",
       "    .dataframe tbody tr th:only-of-type {\n",
       "        vertical-align: middle;\n",
       "    }\n",
       "\n",
       "    .dataframe tbody tr th {\n",
       "        vertical-align: top;\n",
       "    }\n",
       "\n",
       "    .dataframe thead th {\n",
       "        text-align: right;\n",
       "    }\n",
       "</style>\n",
       "<table border=\"1\" class=\"dataframe\">\n",
       "  <thead>\n",
       "    <tr style=\"text-align: right;\">\n",
       "      <th></th>\n",
       "      <th>Country/Region</th>\n",
       "      <th>Province/State</th>\n",
       "      <th>Lat</th>\n",
       "      <th>Long</th>\n",
       "      <th>1/22/20</th>\n",
       "      <th>1/23/20</th>\n",
       "      <th>1/24/20</th>\n",
       "      <th>1/25/20</th>\n",
       "      <th>1/26/20</th>\n",
       "      <th>1/27/20</th>\n",
       "      <th>...</th>\n",
       "      <th>2/28/23</th>\n",
       "      <th>3/1/23</th>\n",
       "      <th>3/2/23</th>\n",
       "      <th>3/3/23</th>\n",
       "      <th>3/4/23</th>\n",
       "      <th>3/5/23</th>\n",
       "      <th>3/6/23</th>\n",
       "      <th>3/7/23</th>\n",
       "      <th>3/8/23</th>\n",
       "      <th>3/9/23</th>\n",
       "    </tr>\n",
       "  </thead>\n",
       "  <tbody>\n",
       "    <tr>\n",
       "      <th>0</th>\n",
       "      <td>Afghanistan</td>\n",
       "      <td>NaN</td>\n",
       "      <td>33.93911</td>\n",
       "      <td>67.709953</td>\n",
       "      <td>0</td>\n",
       "      <td>0</td>\n",
       "      <td>0</td>\n",
       "      <td>0</td>\n",
       "      <td>0</td>\n",
       "      <td>0</td>\n",
       "      <td>...</td>\n",
       "      <td>209322</td>\n",
       "      <td>209340</td>\n",
       "      <td>209358</td>\n",
       "      <td>209362</td>\n",
       "      <td>209369</td>\n",
       "      <td>209390</td>\n",
       "      <td>209406</td>\n",
       "      <td>209436</td>\n",
       "      <td>209451</td>\n",
       "      <td>209451</td>\n",
       "    </tr>\n",
       "    <tr>\n",
       "      <th>1</th>\n",
       "      <td>Albania</td>\n",
       "      <td>NaN</td>\n",
       "      <td>41.15330</td>\n",
       "      <td>20.168300</td>\n",
       "      <td>0</td>\n",
       "      <td>0</td>\n",
       "      <td>0</td>\n",
       "      <td>0</td>\n",
       "      <td>0</td>\n",
       "      <td>0</td>\n",
       "      <td>...</td>\n",
       "      <td>334391</td>\n",
       "      <td>334408</td>\n",
       "      <td>334408</td>\n",
       "      <td>334427</td>\n",
       "      <td>334427</td>\n",
       "      <td>334427</td>\n",
       "      <td>334427</td>\n",
       "      <td>334427</td>\n",
       "      <td>334443</td>\n",
       "      <td>334457</td>\n",
       "    </tr>\n",
       "    <tr>\n",
       "      <th>2</th>\n",
       "      <td>Algeria</td>\n",
       "      <td>NaN</td>\n",
       "      <td>28.03390</td>\n",
       "      <td>1.659600</td>\n",
       "      <td>0</td>\n",
       "      <td>0</td>\n",
       "      <td>0</td>\n",
       "      <td>0</td>\n",
       "      <td>0</td>\n",
       "      <td>0</td>\n",
       "      <td>...</td>\n",
       "      <td>271441</td>\n",
       "      <td>271448</td>\n",
       "      <td>271463</td>\n",
       "      <td>271469</td>\n",
       "      <td>271469</td>\n",
       "      <td>271477</td>\n",
       "      <td>271477</td>\n",
       "      <td>271490</td>\n",
       "      <td>271494</td>\n",
       "      <td>271496</td>\n",
       "    </tr>\n",
       "    <tr>\n",
       "      <th>3</th>\n",
       "      <td>Andorra</td>\n",
       "      <td>NaN</td>\n",
       "      <td>42.50630</td>\n",
       "      <td>1.521800</td>\n",
       "      <td>0</td>\n",
       "      <td>0</td>\n",
       "      <td>0</td>\n",
       "      <td>0</td>\n",
       "      <td>0</td>\n",
       "      <td>0</td>\n",
       "      <td>...</td>\n",
       "      <td>47866</td>\n",
       "      <td>47875</td>\n",
       "      <td>47875</td>\n",
       "      <td>47875</td>\n",
       "      <td>47875</td>\n",
       "      <td>47875</td>\n",
       "      <td>47875</td>\n",
       "      <td>47875</td>\n",
       "      <td>47890</td>\n",
       "      <td>47890</td>\n",
       "    </tr>\n",
       "    <tr>\n",
       "      <th>4</th>\n",
       "      <td>Angola</td>\n",
       "      <td>NaN</td>\n",
       "      <td>-11.20270</td>\n",
       "      <td>17.873900</td>\n",
       "      <td>0</td>\n",
       "      <td>0</td>\n",
       "      <td>0</td>\n",
       "      <td>0</td>\n",
       "      <td>0</td>\n",
       "      <td>0</td>\n",
       "      <td>...</td>\n",
       "      <td>105255</td>\n",
       "      <td>105277</td>\n",
       "      <td>105277</td>\n",
       "      <td>105277</td>\n",
       "      <td>105277</td>\n",
       "      <td>105277</td>\n",
       "      <td>105277</td>\n",
       "      <td>105277</td>\n",
       "      <td>105288</td>\n",
       "      <td>105288</td>\n",
       "    </tr>\n",
       "  </tbody>\n",
       "</table>\n",
       "<p>5 rows × 1147 columns</p>\n",
       "</div>"
      ],
      "text/plain": [
       "  Country/Region Province/State       Lat       Long  1/22/20  1/23/20  \\\n",
       "0    Afghanistan            NaN  33.93911  67.709953        0        0   \n",
       "1        Albania            NaN  41.15330  20.168300        0        0   \n",
       "2        Algeria            NaN  28.03390   1.659600        0        0   \n",
       "3        Andorra            NaN  42.50630   1.521800        0        0   \n",
       "4         Angola            NaN -11.20270  17.873900        0        0   \n",
       "\n",
       "   1/24/20  1/25/20  1/26/20  1/27/20  ...  2/28/23  3/1/23  3/2/23  3/3/23  \\\n",
       "0        0        0        0        0  ...   209322  209340  209358  209362   \n",
       "1        0        0        0        0  ...   334391  334408  334408  334427   \n",
       "2        0        0        0        0  ...   271441  271448  271463  271469   \n",
       "3        0        0        0        0  ...    47866   47875   47875   47875   \n",
       "4        0        0        0        0  ...   105255  105277  105277  105277   \n",
       "\n",
       "   3/4/23  3/5/23  3/6/23  3/7/23  3/8/23  3/9/23  \n",
       "0  209369  209390  209406  209436  209451  209451  \n",
       "1  334427  334427  334427  334427  334443  334457  \n",
       "2  271469  271477  271477  271490  271494  271496  \n",
       "3   47875   47875   47875   47875   47890   47890  \n",
       "4  105277  105277  105277  105277  105288  105288  \n",
       "\n",
       "[5 rows x 1147 columns]"
      ]
     },
     "execution_count": 83,
     "metadata": {},
     "output_type": "execute_result"
    }
   ],
   "source": [
    "DF.head()"
   ]
  },
  {
   "cell_type": "code",
   "execution_count": 84,
   "id": "671efe38-9426-4a34-9be0-b62295d8a7f9",
   "metadata": {},
   "outputs": [
    {
     "data": {
      "text/plain": [
       "(289, 1147)"
      ]
     },
     "execution_count": 84,
     "metadata": {},
     "output_type": "execute_result"
    }
   ],
   "source": [
    "DF.shape"
   ]
  },
  {
   "cell_type": "code",
   "execution_count": 85,
   "id": "dc7f76a9-ce1f-4d5d-a3f5-d19475723194",
   "metadata": {},
   "outputs": [
    {
     "data": {
      "text/plain": [
       "Index(['Country/Region', 'Province/State', 'Lat', 'Long'], dtype='object')"
      ]
     },
     "execution_count": 85,
     "metadata": {},
     "output_type": "execute_result"
    }
   ],
   "source": [
    "cols = DF[DF.columns[:4]].columns\n",
    "cols"
   ]
  },
  {
   "cell_type": "code",
   "execution_count": 86,
   "id": "fc38ec8c-e2c2-4e83-a541-a63fbd5feabe",
   "metadata": {},
   "outputs": [
    {
     "data": {
      "text/plain": [
       "False"
      ]
     },
     "execution_count": 86,
     "metadata": {},
     "output_type": "execute_result"
    }
   ],
   "source": [
    "DF[cols].duplicated().any()"
   ]
  },
  {
   "cell_type": "code",
   "execution_count": 87,
   "id": "8508f475-46fb-44a9-9e29-037d12677ae3",
   "metadata": {},
   "outputs": [
    {
     "name": "stdout",
     "output_type": "stream",
     "text": [
      "Country/Region  :  ['Afghanistan' 'Albania' 'Algeria' 'Andorra' 'Angola' 'Antarctica'\n",
      " 'Antigua and Barbuda' 'Argentina' 'Armenia' 'Australia' 'Austria'\n",
      " 'Azerbaijan' 'Bahamas' 'Bahrain' 'Bangladesh' 'Barbados' 'Belarus'\n",
      " 'Belgium' 'Belize' 'Benin' 'Bhutan' 'Bolivia' 'Bosnia and Herzegovina'\n",
      " 'Botswana' 'Brazil' 'Brunei' 'Bulgaria' 'Burkina Faso' 'Burma' 'Burundi'\n",
      " 'Cabo Verde' 'Cambodia' 'Cameroon' 'Canada' 'Central African Republic'\n",
      " 'Chad' 'Chile' 'China' 'Colombia' 'Comoros' 'Congo (Brazzaville)'\n",
      " 'Congo (Kinshasa)' 'Costa Rica' \"Cote d'Ivoire\" 'Croatia' 'Cuba' 'Cyprus'\n",
      " 'Czechia' 'Denmark' 'Diamond Princess' 'Djibouti' 'Dominica'\n",
      " 'Dominican Republic' 'Ecuador' 'Egypt' 'El Salvador' 'Equatorial Guinea'\n",
      " 'Eritrea' 'Estonia' 'Eswatini' 'Ethiopia' 'Fiji' 'Finland' 'France'\n",
      " 'Gabon' 'Gambia' 'Georgia' 'Germany' 'Ghana' 'Greece' 'Grenada'\n",
      " 'Guatemala' 'Guinea' 'Guinea-Bissau' 'Guyana' 'Haiti' 'Holy See'\n",
      " 'Honduras' 'Hungary' 'Iceland' 'India' 'Indonesia' 'Iran' 'Iraq'\n",
      " 'Ireland' 'Israel' 'Italy' 'Jamaica' 'Japan' 'Jordan' 'Kazakhstan'\n",
      " 'Kenya' 'Kiribati' 'Korea, North' 'Korea, South' 'Kosovo' 'Kuwait'\n",
      " 'Kyrgyzstan' 'Laos' 'Latvia' 'Lebanon' 'Lesotho' 'Liberia' 'Libya'\n",
      " 'Liechtenstein' 'Lithuania' 'Luxembourg' 'MS Zaandam' 'Madagascar'\n",
      " 'Malawi' 'Malaysia' 'Maldives' 'Mali' 'Malta' 'Marshall Islands'\n",
      " 'Mauritania' 'Mauritius' 'Mexico' 'Micronesia' 'Moldova' 'Monaco'\n",
      " 'Mongolia' 'Montenegro' 'Morocco' 'Mozambique' 'Namibia' 'Nauru' 'Nepal'\n",
      " 'Netherlands' 'New Zealand' 'Nicaragua' 'Niger' 'Nigeria'\n",
      " 'North Macedonia' 'Norway' 'Oman' 'Pakistan' 'Palau' 'Panama'\n",
      " 'Papua New Guinea' 'Paraguay' 'Peru' 'Philippines' 'Poland' 'Portugal'\n",
      " 'Qatar' 'Romania' 'Russia' 'Rwanda' 'Saint Kitts and Nevis' 'Saint Lucia'\n",
      " 'Saint Vincent and the Grenadines' 'Samoa' 'San Marino'\n",
      " 'Sao Tome and Principe' 'Saudi Arabia' 'Senegal' 'Serbia' 'Seychelles'\n",
      " 'Sierra Leone' 'Singapore' 'Slovakia' 'Slovenia' 'Solomon Islands'\n",
      " 'Somalia' 'South Africa' 'South Sudan' 'Spain' 'Sri Lanka' 'Sudan'\n",
      " 'Summer Olympics 2020' 'Suriname' 'Sweden' 'Switzerland' 'Syria'\n",
      " 'Taiwan*' 'Tajikistan' 'Tanzania' 'Thailand' 'Timor-Leste' 'Togo' 'Tonga'\n",
      " 'Trinidad and Tobago' 'Tunisia' 'Turkey' 'Tuvalu' 'US' 'Uganda' 'Ukraine'\n",
      " 'United Arab Emirates' 'United Kingdom' 'Uruguay' 'Uzbekistan' 'Vanuatu'\n",
      " 'Venezuela' 'Vietnam' 'West Bank and Gaza' 'Winter Olympics 2022' 'Yemen'\n",
      " 'Zambia' 'Zimbabwe']\n",
      "Province/State  :  [nan 'Australian Capital Territory' 'New South Wales' 'Northern Territory'\n",
      " 'Queensland' 'South Australia' 'Tasmania' 'Victoria' 'Western Australia'\n",
      " 'Alberta' 'British Columbia' 'Diamond Princess' 'Grand Princess'\n",
      " 'Manitoba' 'New Brunswick' 'Newfoundland and Labrador'\n",
      " 'Northwest Territories' 'Nova Scotia' 'Nunavut' 'Ontario'\n",
      " 'Prince Edward Island' 'Quebec' 'Repatriated Travellers' 'Saskatchewan'\n",
      " 'Yukon' 'Anhui' 'Beijing' 'Chongqing' 'Fujian' 'Gansu' 'Guangdong'\n",
      " 'Guangxi' 'Guizhou' 'Hainan' 'Hebei' 'Heilongjiang' 'Henan' 'Hong Kong'\n",
      " 'Hubei' 'Hunan' 'Inner Mongolia' 'Jiangsu' 'Jiangxi' 'Jilin' 'Liaoning'\n",
      " 'Macau' 'Ningxia' 'Qinghai' 'Shaanxi' 'Shandong' 'Shanghai' 'Shanxi'\n",
      " 'Sichuan' 'Tianjin' 'Tibet' 'Unknown' 'Xinjiang' 'Yunnan' 'Zhejiang'\n",
      " 'Faroe Islands' 'Greenland' 'French Guiana' 'French Polynesia'\n",
      " 'Guadeloupe' 'Martinique' 'Mayotte' 'New Caledonia' 'Reunion'\n",
      " 'Saint Barthelemy' 'Saint Pierre and Miquelon' 'St Martin'\n",
      " 'Wallis and Futuna' 'Aruba' 'Bonaire, Sint Eustatius and Saba' 'Curacao'\n",
      " 'Sint Maarten' 'Cook Islands' 'Niue' 'Anguilla' 'Bermuda'\n",
      " 'British Virgin Islands' 'Cayman Islands' 'Channel Islands'\n",
      " 'Falkland Islands (Malvinas)' 'Gibraltar' 'Guernsey' 'Isle of Man'\n",
      " 'Jersey' 'Montserrat' 'Pitcairn Islands'\n",
      " 'Saint Helena, Ascension and Tristan da Cunha' 'Turks and Caicos Islands']\n",
      "Lat  :  [ 3.3939110e+01  4.1153300e+01  2.8033900e+01  4.2506300e+01\n",
      " -1.1202700e+01 -7.1949900e+01  1.7060800e+01 -3.8416100e+01\n",
      "  4.0069100e+01 -3.5473500e+01 -3.3868800e+01 -1.2463400e+01\n",
      " -2.7469800e+01 -3.4928500e+01 -4.2882100e+01 -3.7813600e+01\n",
      " -3.1950500e+01  4.7516200e+01  4.0143100e+01  2.5025885e+01\n",
      "  2.6027500e+01  2.3685000e+01  1.3193900e+01  5.3709800e+01\n",
      "  5.0833300e+01  1.7189900e+01  9.3077000e+00  2.7514200e+01\n",
      " -1.6290200e+01  4.3915900e+01 -2.2328500e+01 -1.4235000e+01\n",
      "  4.5353000e+00  4.2733900e+01  1.2238300e+01  2.1916200e+01\n",
      " -3.3731000e+00  1.6538800e+01  1.1550000e+01  3.8480000e+00\n",
      "  5.3933300e+01  5.3726700e+01  0.0000000e+00  5.3760900e+01\n",
      "  4.6565300e+01  5.3135500e+01  6.4825500e+01  4.4682000e+01\n",
      "  7.0299800e+01  5.1253800e+01  4.6510700e+01  5.2939900e+01\n",
      "            nan  6.4282300e+01  6.6111000e+00  1.5454200e+01\n",
      " -3.5675100e+01  3.1825700e+01  4.0182400e+01  3.0057200e+01\n",
      "  2.6078900e+01  3.5751800e+01  2.3341700e+01  2.3829800e+01\n",
      "  2.6815400e+01  1.9195900e+01  3.9549000e+01  4.7862000e+01\n",
      "  3.7895700e+01  2.2300000e+01  3.0975600e+01  2.7610400e+01\n",
      "  4.4093500e+01  3.2971100e+01  2.7614000e+01  4.3666100e+01\n",
      "  4.1295600e+01  2.2166700e+01  3.7269200e+01  3.5745200e+01\n",
      "  3.5191700e+01  3.6342700e+01  3.1202000e+01  3.7577700e+01\n",
      "  3.0617100e+01  3.9305400e+01  3.1692700e+01  4.1112900e+01\n",
      "  2.4974000e+01  2.9183200e+01  4.5709000e+00 -1.1645500e+01\n",
      " -2.2800000e-01 -4.0383000e+00  9.7489000e+00  7.5400000e+00\n",
      "  4.5100000e+01  2.1521757e+01  3.5126400e+01  4.9817500e+01\n",
      "  6.1892600e+01  7.1706900e+01  5.6263900e+01  1.1825100e+01\n",
      "  1.5415000e+01  1.8735700e+01 -1.8312000e+00  2.6820553e+01\n",
      "  1.3794200e+01  1.6508000e+00  1.5179400e+01  5.8595300e+01\n",
      " -2.6522500e+01  9.1450000e+00 -1.7713400e+01  6.1924110e+01\n",
      "  3.9339000e+00 -1.7679700e+01  1.6265000e+01  1.4641500e+01\n",
      " -1.2827500e+01 -2.0904305e+01 -2.1115100e+01  1.7900000e+01\n",
      "  4.6885200e+01  1.8070800e+01 -1.4293800e+01  4.6227600e+01\n",
      " -8.0370000e-01  1.3443200e+01  4.2315400e+01  5.1165691e+01\n",
      "  7.9465000e+00  3.9074200e+01  1.2116500e+01  1.5783500e+01\n",
      "  9.9456000e+00  1.1803700e+01  4.8604160e+00  1.8971200e+01\n",
      "  4.1902900e+01  1.5200000e+01  4.7162500e+01  6.4963100e+01\n",
      "  2.0593684e+01 -7.8930000e-01  3.2427908e+01  3.3223191e+01\n",
      "  5.3142400e+01  3.1046051e+01  4.1871940e+01  1.8109600e+01\n",
      "  3.6204824e+01  3.1240000e+01  4.8019600e+01 -2.3600000e-02\n",
      " -3.3704000e+00  4.0339900e+01  3.5907757e+01  4.2602636e+01\n",
      "  2.9311660e+01  4.1204380e+01  1.9856270e+01  5.6879600e+01\n",
      "  3.3854700e+01 -2.9610000e+01  6.4280550e+00  2.6335100e+01\n",
      "  4.7140000e+01  5.5169400e+01  4.9815300e+01 -1.8766947e+01\n",
      " -1.3254300e+01  4.2104840e+00  3.2028000e+00  1.7570692e+01\n",
      "  3.5937500e+01  7.1315000e+00  2.1007900e+01 -2.0348404e+01\n",
      "  2.3634500e+01  7.4256000e+00  4.7411600e+01  4.3733300e+01\n",
      "  4.6862500e+01  4.2708678e+01  3.1791700e+01 -1.8665695e+01\n",
      " -2.2957600e+01 -5.2280000e-01  2.8166700e+01  1.2521100e+01\n",
      "  1.2178400e+01  1.2169600e+01  1.8042500e+01  5.2132600e+01\n",
      " -2.1236700e+01 -1.9054400e+01 -4.0900600e+01  1.2865416e+01\n",
      "  1.7607789e+01  9.0820000e+00  4.1608600e+01  6.0472000e+01\n",
      "  2.1512583e+01  3.0375300e+01  7.5150000e+00  8.5380000e+00\n",
      " -6.3149930e+00 -2.3442500e+01 -9.1900000e+00  1.2879721e+01\n",
      "  5.1919400e+01  3.9399900e+01  2.5354800e+01  4.5943200e+01\n",
      "  6.1524010e+01 -1.9403000e+00  1.7357822e+01  1.3909400e+01\n",
      "  1.2984300e+01 -1.3759000e+01  4.3942400e+01  1.8640000e-01\n",
      "  2.3885942e+01  1.4497400e+01  4.4016500e+01 -4.6796000e+00\n",
      "  8.4605550e+00  1.2833000e+00  4.8669000e+01  4.6151200e+01\n",
      " -9.6457000e+00  5.1521490e+00 -3.0559500e+01  6.8770000e+00\n",
      "  4.0463667e+01  7.8730540e+00  1.2862800e+01  3.5649100e+01\n",
      "  3.9193000e+00  6.0128161e+01  4.6818200e+01  3.4802075e+01\n",
      "  2.3700000e+01  3.8861000e+01 -6.3690280e+00  1.5870032e+01\n",
      " -8.8742170e+00  8.6195000e+00 -2.1179000e+01  1.0691800e+01\n",
      "  3.3886917e+01  3.8963700e+01 -7.1095000e+00  4.0000000e+01\n",
      "  1.3733330e+00  4.8379400e+01  2.3424076e+01  1.8220600e+01\n",
      "  3.2307800e+01  1.8420700e+01  1.9313300e+01  4.9372300e+01\n",
      " -5.1796300e+01  3.6140800e+01  4.9448196e+01  5.4236100e+01\n",
      "  4.9213800e+01  1.6742498e+01 -2.4376800e+01 -7.9467000e+00\n",
      "  2.1694000e+01  5.5378100e+01 -3.2522800e+01  4.1377491e+01\n",
      " -1.5376700e+01  6.4238000e+00  1.4058324e+01  3.1952200e+01\n",
      "  3.9904200e+01  1.5552727e+01 -1.3133897e+01 -1.9015438e+01]\n",
      "Long  :  [  67.709953   20.1683      1.6596      1.5218     17.8739     23.347\n",
      "  -61.7964    -63.6167     45.0382    149.0124    151.2093    130.8456\n",
      "  153.0251    138.6007    147.3272    144.9631    115.8605     14.5501\n",
      "   47.5769    -78.035889   50.55       90.3563    -59.5432     27.9534\n",
      "    4.469936  -88.4976      2.3158     90.4336    -63.5887     17.6791\n",
      "   24.6849    -51.9253    114.7277     25.4858     -1.5616     95.956\n",
      "   29.9189    -23.0418    104.9167     11.5021   -116.5765   -127.6476\n",
      "    0.        -98.8139    -66.4619    -57.6604   -124.8457    -63.7443\n",
      "  -83.1076    -85.3232    -63.4168    -73.5491           nan -106.4509\n",
      " -135.         20.9394     18.7322    -71.543     117.2264    116.4142\n",
      "  107.874     117.9874    104.2861    113.4244    108.7881    106.8748\n",
      "  109.7453    116.1306    127.7615    114.9042    114.2       112.2707\n",
      "  111.7088    113.9448    119.455     115.7221    126.1923    122.6085\n",
      "  113.55      106.1655     95.9956    108.8701    118.1498    121.4491\n",
      "  112.2922    102.7103    117.323      88.0924     85.2401    101.487\n",
      "  120.0934    -74.2973     43.3333     15.8277     21.7587    -83.7534\n",
      "   -5.5471     15.2       -77.781167   33.4299     15.473      -6.9118\n",
      "  -42.6043      9.5018     42.5903    -61.371     -70.1627    -78.1834\n",
      "   30.802498  -88.8965     10.2679     39.7823     25.0136     31.4659\n",
      "   40.4897    178.065      25.748151  -53.1258    149.4068    -61.551\n",
      "  -61.0242     45.166244  165.618042   55.5364    -62.8333    -56.3159\n",
      "  -63.0501   -178.1165      2.2137     11.6094    -15.3101     43.3569\n",
      "   10.451526   -1.0232     21.8243    -61.679     -90.2308     -9.6966\n",
      "  -15.1804    -58.93018   -72.2852     12.4534    -86.2419     19.5033\n",
      "  -19.0208     78.96288   113.9213     53.688046   43.679291   -7.6921\n",
      "   34.851612   12.56738   -77.2975    138.252924   36.51       66.9237\n",
      "   37.9062   -168.734     127.5101    127.766922   20.902977   47.481766\n",
      "   74.766098  102.495496   24.6032     35.8623     28.2336     -9.429499\n",
      "   17.228331    9.55       23.8813      6.1296     46.869107   34.3015\n",
      "  101.975766   73.2207     -3.996166   14.3754    171.1845    -10.9408\n",
      "   57.552152 -102.5528    150.5508     28.3699      7.4167    103.8467\n",
      "   19.37439    -7.0926     35.529562   18.4904    166.9315     84.25\n",
      "  -69.9683    -68.2385    -68.99      -63.0548      5.2913   -159.7777\n",
      " -169.8672    174.886     -85.207229    8.081666    8.6753     21.7453\n",
      "    8.4689     55.923255   69.3451    134.5825    -80.7821    143.95555\n",
      "  -58.4438    -75.0152    121.774017   19.1451     -8.2245     51.1839\n",
      "   24.9668    105.318756   29.8739    -62.782998  -60.9789    -61.2872\n",
      " -172.1046     12.4578      6.6131     45.079162  -14.4524     21.0059\n",
      "   55.492     -11.779889  103.8333     19.699      14.9955    160.1562\n",
      "   46.199616   22.9375     31.307      -3.74922    80.771797   30.2176\n",
      "  139.7737    -56.0278     18.643501    8.2275     38.996815  121.\n",
      "   71.2761     34.888822  100.992541  125.727539    0.8248   -175.1982\n",
      "  -61.2225      9.537499   35.2433    177.6493   -100.         32.290275\n",
      "   31.1656     53.847818  -63.0686    -64.7505    -64.64      -81.2546\n",
      "   -2.3644    -59.5236     -5.3536     -2.58949    -4.5481     -2.1358\n",
      "  -62.187366 -128.3242    -14.3559    -71.7979     -3.436     -55.7658\n",
      "   64.585262  166.9592    -66.5897    108.277199   35.2332    116.4074\n",
      "   48.516388   27.849332   29.154857]\n"
     ]
    }
   ],
   "source": [
    "for col in cols:\n",
    "    print(col,\" : \", DF[col].unique())"
   ]
  },
  {
   "cell_type": "code",
   "execution_count": 88,
   "id": "2c9c7d5c-8461-412d-b693-7191148eaf3a",
   "metadata": {},
   "outputs": [
    {
     "name": "stdout",
     "output_type": "stream",
     "text": [
      "<class 'pandas.core.frame.DataFrame'>\n",
      "RangeIndex: 289 entries, 0 to 288\n",
      "Columns: 1147 entries, Country/Region to 3/9/23\n",
      "dtypes: float64(2), int64(1143), object(2)\n",
      "memory usage: 2.5+ MB\n"
     ]
    }
   ],
   "source": [
    "DF.info()"
   ]
  },
  {
   "cell_type": "code",
   "execution_count": 89,
   "id": "21b6b02f-aa65-4c94-a4eb-1a4184285d0c",
   "metadata": {},
   "outputs": [
    {
     "data": {
      "text/plain": [
       "Country/Region     object\n",
       "Province/State     object\n",
       "Lat               float64\n",
       "Long              float64\n",
       "1/22/20             int64\n",
       "                   ...   \n",
       "3/5/23              int64\n",
       "3/6/23              int64\n",
       "3/7/23              int64\n",
       "3/8/23              int64\n",
       "3/9/23              int64\n",
       "Length: 1147, dtype: object"
      ]
     },
     "execution_count": 89,
     "metadata": {},
     "output_type": "execute_result"
    }
   ],
   "source": [
    "DF.dtypes"
   ]
  },
  {
   "cell_type": "code",
   "execution_count": 90,
   "id": "a23d3665-01da-423c-9f1b-5a6dbe9e91e0",
   "metadata": {},
   "outputs": [
    {
     "data": {
      "text/html": [
       "<div>\n",
       "<style scoped>\n",
       "    .dataframe tbody tr th:only-of-type {\n",
       "        vertical-align: middle;\n",
       "    }\n",
       "\n",
       "    .dataframe tbody tr th {\n",
       "        vertical-align: top;\n",
       "    }\n",
       "\n",
       "    .dataframe thead th {\n",
       "        text-align: right;\n",
       "    }\n",
       "</style>\n",
       "<table border=\"1\" class=\"dataframe\">\n",
       "  <thead>\n",
       "    <tr style=\"text-align: right;\">\n",
       "      <th></th>\n",
       "      <th>Lat</th>\n",
       "      <th>Long</th>\n",
       "      <th>1/22/20</th>\n",
       "      <th>1/23/20</th>\n",
       "      <th>1/24/20</th>\n",
       "      <th>1/25/20</th>\n",
       "      <th>1/26/20</th>\n",
       "      <th>1/27/20</th>\n",
       "      <th>1/28/20</th>\n",
       "      <th>1/29/20</th>\n",
       "      <th>...</th>\n",
       "      <th>2/28/23</th>\n",
       "      <th>3/1/23</th>\n",
       "      <th>3/2/23</th>\n",
       "      <th>3/3/23</th>\n",
       "      <th>3/4/23</th>\n",
       "      <th>3/5/23</th>\n",
       "      <th>3/6/23</th>\n",
       "      <th>3/7/23</th>\n",
       "      <th>3/8/23</th>\n",
       "      <th>3/9/23</th>\n",
       "    </tr>\n",
       "  </thead>\n",
       "  <tbody>\n",
       "    <tr>\n",
       "      <th>count</th>\n",
       "      <td>287.000000</td>\n",
       "      <td>287.000000</td>\n",
       "      <td>289.000000</td>\n",
       "      <td>289.000000</td>\n",
       "      <td>289.000000</td>\n",
       "      <td>289.000000</td>\n",
       "      <td>289.000000</td>\n",
       "      <td>289.000000</td>\n",
       "      <td>289.000000</td>\n",
       "      <td>289.000000</td>\n",
       "      <td>...</td>\n",
       "      <td>2.890000e+02</td>\n",
       "      <td>2.890000e+02</td>\n",
       "      <td>2.890000e+02</td>\n",
       "      <td>2.890000e+02</td>\n",
       "      <td>2.890000e+02</td>\n",
       "      <td>2.890000e+02</td>\n",
       "      <td>2.890000e+02</td>\n",
       "      <td>2.890000e+02</td>\n",
       "      <td>2.890000e+02</td>\n",
       "      <td>2.890000e+02</td>\n",
       "    </tr>\n",
       "    <tr>\n",
       "      <th>mean</th>\n",
       "      <td>19.718719</td>\n",
       "      <td>22.182084</td>\n",
       "      <td>1.927336</td>\n",
       "      <td>2.273356</td>\n",
       "      <td>3.266436</td>\n",
       "      <td>4.972318</td>\n",
       "      <td>7.335640</td>\n",
       "      <td>10.134948</td>\n",
       "      <td>19.307958</td>\n",
       "      <td>21.346021</td>\n",
       "      <td>...</td>\n",
       "      <td>2.336755e+06</td>\n",
       "      <td>2.337519e+06</td>\n",
       "      <td>2.338173e+06</td>\n",
       "      <td>2.338805e+06</td>\n",
       "      <td>2.338992e+06</td>\n",
       "      <td>2.339187e+06</td>\n",
       "      <td>2.339387e+06</td>\n",
       "      <td>2.339839e+06</td>\n",
       "      <td>2.340460e+06</td>\n",
       "      <td>2.341073e+06</td>\n",
       "    </tr>\n",
       "    <tr>\n",
       "      <th>std</th>\n",
       "      <td>25.956609</td>\n",
       "      <td>77.870931</td>\n",
       "      <td>26.173664</td>\n",
       "      <td>26.270191</td>\n",
       "      <td>32.707271</td>\n",
       "      <td>45.523871</td>\n",
       "      <td>63.623197</td>\n",
       "      <td>85.724481</td>\n",
       "      <td>210.329649</td>\n",
       "      <td>211.628535</td>\n",
       "      <td>...</td>\n",
       "      <td>8.506608e+06</td>\n",
       "      <td>8.511285e+06</td>\n",
       "      <td>8.514488e+06</td>\n",
       "      <td>8.518031e+06</td>\n",
       "      <td>8.518408e+06</td>\n",
       "      <td>8.518645e+06</td>\n",
       "      <td>8.519346e+06</td>\n",
       "      <td>8.521641e+06</td>\n",
       "      <td>8.524968e+06</td>\n",
       "      <td>8.527765e+06</td>\n",
       "    </tr>\n",
       "    <tr>\n",
       "      <th>min</th>\n",
       "      <td>-71.949900</td>\n",
       "      <td>-178.116500</td>\n",
       "      <td>0.000000</td>\n",
       "      <td>0.000000</td>\n",
       "      <td>0.000000</td>\n",
       "      <td>0.000000</td>\n",
       "      <td>0.000000</td>\n",
       "      <td>0.000000</td>\n",
       "      <td>0.000000</td>\n",
       "      <td>0.000000</td>\n",
       "      <td>...</td>\n",
       "      <td>0.000000e+00</td>\n",
       "      <td>0.000000e+00</td>\n",
       "      <td>0.000000e+00</td>\n",
       "      <td>0.000000e+00</td>\n",
       "      <td>0.000000e+00</td>\n",
       "      <td>0.000000e+00</td>\n",
       "      <td>0.000000e+00</td>\n",
       "      <td>0.000000e+00</td>\n",
       "      <td>0.000000e+00</td>\n",
       "      <td>0.000000e+00</td>\n",
       "    </tr>\n",
       "    <tr>\n",
       "      <th>25%</th>\n",
       "      <td>4.072192</td>\n",
       "      <td>-32.823050</td>\n",
       "      <td>0.000000</td>\n",
       "      <td>0.000000</td>\n",
       "      <td>0.000000</td>\n",
       "      <td>0.000000</td>\n",
       "      <td>0.000000</td>\n",
       "      <td>0.000000</td>\n",
       "      <td>0.000000</td>\n",
       "      <td>0.000000</td>\n",
       "      <td>...</td>\n",
       "      <td>1.456700e+04</td>\n",
       "      <td>1.456700e+04</td>\n",
       "      <td>1.456700e+04</td>\n",
       "      <td>1.456700e+04</td>\n",
       "      <td>1.456700e+04</td>\n",
       "      <td>1.456700e+04</td>\n",
       "      <td>1.456700e+04</td>\n",
       "      <td>1.456700e+04</td>\n",
       "      <td>1.456700e+04</td>\n",
       "      <td>1.456700e+04</td>\n",
       "    </tr>\n",
       "    <tr>\n",
       "      <th>50%</th>\n",
       "      <td>21.512583</td>\n",
       "      <td>20.939400</td>\n",
       "      <td>0.000000</td>\n",
       "      <td>0.000000</td>\n",
       "      <td>0.000000</td>\n",
       "      <td>0.000000</td>\n",
       "      <td>0.000000</td>\n",
       "      <td>0.000000</td>\n",
       "      <td>0.000000</td>\n",
       "      <td>0.000000</td>\n",
       "      <td>...</td>\n",
       "      <td>1.032480e+05</td>\n",
       "      <td>1.032480e+05</td>\n",
       "      <td>1.032480e+05</td>\n",
       "      <td>1.032480e+05</td>\n",
       "      <td>1.032480e+05</td>\n",
       "      <td>1.032480e+05</td>\n",
       "      <td>1.032480e+05</td>\n",
       "      <td>1.032480e+05</td>\n",
       "      <td>1.032480e+05</td>\n",
       "      <td>1.032480e+05</td>\n",
       "    </tr>\n",
       "    <tr>\n",
       "      <th>75%</th>\n",
       "      <td>40.401784</td>\n",
       "      <td>89.224350</td>\n",
       "      <td>0.000000</td>\n",
       "      <td>0.000000</td>\n",
       "      <td>0.000000</td>\n",
       "      <td>0.000000</td>\n",
       "      <td>0.000000</td>\n",
       "      <td>0.000000</td>\n",
       "      <td>0.000000</td>\n",
       "      <td>0.000000</td>\n",
       "      <td>...</td>\n",
       "      <td>1.051998e+06</td>\n",
       "      <td>1.052122e+06</td>\n",
       "      <td>1.052247e+06</td>\n",
       "      <td>1.052382e+06</td>\n",
       "      <td>1.052519e+06</td>\n",
       "      <td>1.052664e+06</td>\n",
       "      <td>1.052664e+06</td>\n",
       "      <td>1.052926e+06</td>\n",
       "      <td>1.053068e+06</td>\n",
       "      <td>1.053213e+06</td>\n",
       "    </tr>\n",
       "    <tr>\n",
       "      <th>max</th>\n",
       "      <td>71.706900</td>\n",
       "      <td>178.065000</td>\n",
       "      <td>444.000000</td>\n",
       "      <td>444.000000</td>\n",
       "      <td>549.000000</td>\n",
       "      <td>761.000000</td>\n",
       "      <td>1058.000000</td>\n",
       "      <td>1423.000000</td>\n",
       "      <td>3554.000000</td>\n",
       "      <td>3554.000000</td>\n",
       "      <td>...</td>\n",
       "      <td>1.034435e+08</td>\n",
       "      <td>1.035339e+08</td>\n",
       "      <td>1.035898e+08</td>\n",
       "      <td>1.036487e+08</td>\n",
       "      <td>1.036508e+08</td>\n",
       "      <td>1.036470e+08</td>\n",
       "      <td>1.036555e+08</td>\n",
       "      <td>1.036909e+08</td>\n",
       "      <td>1.037558e+08</td>\n",
       "      <td>1.038027e+08</td>\n",
       "    </tr>\n",
       "  </tbody>\n",
       "</table>\n",
       "<p>8 rows × 1145 columns</p>\n",
       "</div>"
      ],
      "text/plain": [
       "              Lat        Long     1/22/20     1/23/20     1/24/20     1/25/20  \\\n",
       "count  287.000000  287.000000  289.000000  289.000000  289.000000  289.000000   \n",
       "mean    19.718719   22.182084    1.927336    2.273356    3.266436    4.972318   \n",
       "std     25.956609   77.870931   26.173664   26.270191   32.707271   45.523871   \n",
       "min    -71.949900 -178.116500    0.000000    0.000000    0.000000    0.000000   \n",
       "25%      4.072192  -32.823050    0.000000    0.000000    0.000000    0.000000   \n",
       "50%     21.512583   20.939400    0.000000    0.000000    0.000000    0.000000   \n",
       "75%     40.401784   89.224350    0.000000    0.000000    0.000000    0.000000   \n",
       "max     71.706900  178.065000  444.000000  444.000000  549.000000  761.000000   \n",
       "\n",
       "           1/26/20      1/27/20      1/28/20      1/29/20  ...       2/28/23  \\\n",
       "count   289.000000   289.000000   289.000000   289.000000  ...  2.890000e+02   \n",
       "mean      7.335640    10.134948    19.307958    21.346021  ...  2.336755e+06   \n",
       "std      63.623197    85.724481   210.329649   211.628535  ...  8.506608e+06   \n",
       "min       0.000000     0.000000     0.000000     0.000000  ...  0.000000e+00   \n",
       "25%       0.000000     0.000000     0.000000     0.000000  ...  1.456700e+04   \n",
       "50%       0.000000     0.000000     0.000000     0.000000  ...  1.032480e+05   \n",
       "75%       0.000000     0.000000     0.000000     0.000000  ...  1.051998e+06   \n",
       "max    1058.000000  1423.000000  3554.000000  3554.000000  ...  1.034435e+08   \n",
       "\n",
       "             3/1/23        3/2/23        3/3/23        3/4/23        3/5/23  \\\n",
       "count  2.890000e+02  2.890000e+02  2.890000e+02  2.890000e+02  2.890000e+02   \n",
       "mean   2.337519e+06  2.338173e+06  2.338805e+06  2.338992e+06  2.339187e+06   \n",
       "std    8.511285e+06  8.514488e+06  8.518031e+06  8.518408e+06  8.518645e+06   \n",
       "min    0.000000e+00  0.000000e+00  0.000000e+00  0.000000e+00  0.000000e+00   \n",
       "25%    1.456700e+04  1.456700e+04  1.456700e+04  1.456700e+04  1.456700e+04   \n",
       "50%    1.032480e+05  1.032480e+05  1.032480e+05  1.032480e+05  1.032480e+05   \n",
       "75%    1.052122e+06  1.052247e+06  1.052382e+06  1.052519e+06  1.052664e+06   \n",
       "max    1.035339e+08  1.035898e+08  1.036487e+08  1.036508e+08  1.036470e+08   \n",
       "\n",
       "             3/6/23        3/7/23        3/8/23        3/9/23  \n",
       "count  2.890000e+02  2.890000e+02  2.890000e+02  2.890000e+02  \n",
       "mean   2.339387e+06  2.339839e+06  2.340460e+06  2.341073e+06  \n",
       "std    8.519346e+06  8.521641e+06  8.524968e+06  8.527765e+06  \n",
       "min    0.000000e+00  0.000000e+00  0.000000e+00  0.000000e+00  \n",
       "25%    1.456700e+04  1.456700e+04  1.456700e+04  1.456700e+04  \n",
       "50%    1.032480e+05  1.032480e+05  1.032480e+05  1.032480e+05  \n",
       "75%    1.052664e+06  1.052926e+06  1.053068e+06  1.053213e+06  \n",
       "max    1.036555e+08  1.036909e+08  1.037558e+08  1.038027e+08  \n",
       "\n",
       "[8 rows x 1145 columns]"
      ]
     },
     "execution_count": 90,
     "metadata": {},
     "output_type": "execute_result"
    }
   ],
   "source": [
    "DF.describe()"
   ]
  },
  {
   "cell_type": "code",
   "execution_count": 91,
   "id": "5e4548aa-78c3-4b02-9e0e-d6df8a5d50ef",
   "metadata": {},
   "outputs": [
    {
     "data": {
      "text/plain": [
       "Index(['Province/State', 'Lat', 'Long'], dtype='object')"
      ]
     },
     "execution_count": 91,
     "metadata": {},
     "output_type": "execute_result"
    }
   ],
   "source": [
    "DF.columns[DF.isnull().any()]"
   ]
  },
  {
   "cell_type": "code",
   "execution_count": 92,
   "id": "aea9801f-8b1d-41df-a83f-ff7b77994286",
   "metadata": {},
   "outputs": [
    {
     "name": "stdout",
     "output_type": "stream",
     "text": [
      "0      NaN\n",
      "1      NaN\n",
      "2      NaN\n",
      "3      NaN\n",
      "4      NaN\n",
      "      ... \n",
      "284    NaN\n",
      "285    NaN\n",
      "286    NaN\n",
      "287    NaN\n",
      "288    NaN\n",
      "Name: Province/State, Length: 289, dtype: object\n",
      "0      33.939110\n",
      "1      41.153300\n",
      "2      28.033900\n",
      "3      42.506300\n",
      "4     -11.202700\n",
      "         ...    \n",
      "284    31.952200\n",
      "285    39.904200\n",
      "286    15.552727\n",
      "287   -13.133897\n",
      "288   -19.015438\n",
      "Name: Lat, Length: 289, dtype: float64\n",
      "0       67.709953\n",
      "1       20.168300\n",
      "2        1.659600\n",
      "3        1.521800\n",
      "4       17.873900\n",
      "          ...    \n",
      "284     35.233200\n",
      "285    116.407400\n",
      "286     48.516388\n",
      "287     27.849332\n",
      "288     29.154857\n",
      "Name: Long, Length: 289, dtype: float64\n"
     ]
    }
   ],
   "source": [
    "print(DF['Province/State'])\n",
    "print(DF['Lat'])\n",
    "print(DF['Long'])"
   ]
  },
  {
   "cell_type": "markdown",
   "id": "8b7b8af4-d320-481e-92e8-8f576b1d2587",
   "metadata": {
    "jp-MarkdownHeadingCollapsed": true,
    "tags": []
   },
   "source": [
    "### Data Cleaning"
   ]
  },
  {
   "cell_type": "markdown",
   "id": "e28c6a5a-c0f0-4956-8ebf-0fa2ded62f2b",
   "metadata": {
    "jp-MarkdownHeadingCollapsed": true,
    "tags": []
   },
   "source": [
    "#### Extraction of the data"
   ]
  },
  {
   "cell_type": "code",
   "execution_count": null,
   "id": "038a9480-5f5e-454f-870a-d8a46d639d1f",
   "metadata": {},
   "outputs": [],
   "source": [
    "# data = DF[\"Province_State\"]\n",
    "\n",
    "# col_index_max = DF.shape[0]\n",
    "\n",
    "# columns = (DF.columns).tolist()\n",
    "\n",
    "# row_values = []\n",
    "# my_dict = {}\n",
    "    \n",
    "# for i in range(0, col_index_max):\n",
    "#     input_string = data[i]\n",
    "    \n",
    "#     parts = input_string.split('\\\"')\n",
    "#     dict = {}\n",
    "\n",
    "#     for j, part in enumerate(parts, 1):\n",
    "#         list_part = [elm.replace('\\\"', '') for elm in part.split(',') if elm]\n",
    "\n",
    "#         if len(list_part) != 3:\n",
    "#             my_dict[str(j)] = list_part\n",
    "\n",
    "#     values_list = [val for sublist in my_dict.values() for val in sublist]\n",
    "\n",
    "#     row_values.append(tuple(values_list))\n",
    "\n",
    "    \n",
    "# cleaned_us_list = [(key, *value) for key, value in zip(columns, row_values)]\n",
    "\n",
    "# with open(cleaned_dataset_path, 'w') as csvfile:\n",
    "#     csvwriter = csv.writer(csvfile)\n",
    "    \n",
    "#     csvwriter.writerows(cleaned_us_list)"
   ]
  },
  {
   "cell_type": "markdown",
   "id": "5a1ea6c1-a21d-4fb6-817f-c25fcffdb982",
   "metadata": {},
   "source": [
    "#### Separation and conversion of data"
   ]
  },
  {
   "cell_type": "code",
   "execution_count": 111,
   "id": "3d2e1745-50c2-4fa0-8d0c-c92ace6e5e05",
   "metadata": {},
   "outputs": [
    {
     "data": {
      "text/plain": [
       "Index(['Country/Region', 'Province/State'], dtype='object')"
      ]
     },
     "execution_count": 111,
     "metadata": {},
     "output_type": "execute_result"
    }
   ],
   "source": [
    "DF.columns[:2]"
   ]
  },
  {
   "cell_type": "code",
   "execution_count": 112,
   "id": "683e61de-eda9-4e95-abec-b62bc3bf9eb0",
   "metadata": {},
   "outputs": [],
   "source": [
    "cat_cols = list(DF.columns[:2])\n",
    "DF[cat_cols] = DF[cat_cols].astype('category')"
   ]
  },
  {
   "cell_type": "code",
   "execution_count": 113,
   "id": "db0ff639-bb8c-45e4-8b15-007e78dddec1",
   "metadata": {},
   "outputs": [
    {
     "data": {
      "text/plain": [
       "Index(['Lat', 'Long'], dtype='object')"
      ]
     },
     "execution_count": 113,
     "metadata": {},
     "output_type": "execute_result"
    }
   ],
   "source": [
    "DF.columns[2:4]"
   ]
  },
  {
   "cell_type": "code",
   "execution_count": 114,
   "id": "6dc01b15-b1cf-4010-9d4e-41042f16b1d4",
   "metadata": {},
   "outputs": [],
   "source": [
    "float_cols = list(DF.columns[2:4])\n",
    "DF[float_cols] = DF[float_cols].astype('float')"
   ]
  },
  {
   "cell_type": "code",
   "execution_count": 115,
   "id": "e911bd7a-465b-4fca-a521-fb2251ab797c",
   "metadata": {},
   "outputs": [
    {
     "data": {
      "text/plain": [
       "Index(['1/22/20', '1/23/20', '1/24/20', '1/25/20', '1/26/20', '1/27/20',\n",
       "       '1/28/20', '1/29/20', '1/30/20', '1/31/20',\n",
       "       ...\n",
       "       '2/28/23', '3/1/23', '3/2/23', '3/3/23', '3/4/23', '3/5/23', '3/6/23',\n",
       "       '3/7/23', '3/8/23', '3/9/23'],\n",
       "      dtype='object', length=1143)"
      ]
     },
     "execution_count": 115,
     "metadata": {},
     "output_type": "execute_result"
    }
   ],
   "source": [
    "DF.columns[4:]"
   ]
  },
  {
   "cell_type": "code",
   "execution_count": 116,
   "id": "4cc1b653-95d0-493a-b544-9e786aee5284",
   "metadata": {},
   "outputs": [],
   "source": [
    "date_cols = DF.columns[4:]\n",
    "\n",
    "DF[date_cols] = DF[date_cols].astype('int')"
   ]
  },
  {
   "cell_type": "code",
   "execution_count": 117,
   "id": "9727c037-3afc-4f41-a1d3-93c7227e2bdf",
   "metadata": {},
   "outputs": [
    {
     "name": "stdout",
     "output_type": "stream",
     "text": [
      "Country/Region    category\n",
      "Province/State    category\n",
      "Lat                float64\n",
      "Long               float64\n",
      "1/22/20              int64\n",
      "                    ...   \n",
      "3/5/23               int64\n",
      "3/6/23               int64\n",
      "3/7/23               int64\n",
      "3/8/23               int64\n",
      "3/9/23               int64\n",
      "Length: 1147, dtype: object\n"
     ]
    }
   ],
   "source": [
    "print(DF.dtypes)"
   ]
  },
  {
   "cell_type": "markdown",
   "id": "44ee33a4-310e-430d-bef6-b1d1992eac56",
   "metadata": {},
   "source": [
    "#### Removing of unnecessary data and null values"
   ]
  },
  {
   "cell_type": "code",
   "execution_count": 118,
   "id": "373c07c2-934d-4afc-8f2a-7955c442d88d",
   "metadata": {},
   "outputs": [
    {
     "name": "stdout",
     "output_type": "stream",
     "text": [
      "True\n",
      "True\n",
      "True\n"
     ]
    }
   ],
   "source": [
    "print(DF['Province/State'].isnull().any())\n",
    "print(DF['Lat'].isnull().any())\n",
    "print(DF['Long'].isnull().any())"
   ]
  },
  {
   "cell_type": "code",
   "execution_count": 119,
   "id": "0a67b09e-afb5-4019-b228-eaba51694cad",
   "metadata": {},
   "outputs": [],
   "source": [
    "if 'Unknown' not in DF['Province/State'].cat.categories:\n",
    "    DF['Province/State'] = DF['Province/State'].cat.add_categories('Unknown')\n",
    "\n",
    "DF['Province/State'] = DF['Province/State'].fillna('Unknown')"
   ]
  },
  {
   "cell_type": "code",
   "execution_count": 120,
   "id": "ea386697-167b-49c9-816e-7b2acb0306a6",
   "metadata": {},
   "outputs": [
    {
     "name": "stdout",
     "output_type": "stream",
     "text": [
      "    Lat  Long Country/Region\n",
      "53  NaN   NaN         Canada\n",
      "89  NaN   NaN          China\n"
     ]
    }
   ],
   "source": [
    "mask = DF['Lat'].isnull()\n",
    "\n",
    "result = DF.loc[mask, ['Lat', 'Long', 'Country/Region']]\n",
    "\n",
    "print(result)"
   ]
  },
  {
   "cell_type": "code",
   "execution_count": 121,
   "id": "d9881c5b-a042-4e91-bdc7-617291647315",
   "metadata": {},
   "outputs": [
    {
     "name": "stdout",
     "output_type": "stream",
     "text": [
      "Requirement already satisfied: geopy in /opt/conda/lib/python3.7/site-packages (2.4.1)\n",
      "Requirement already satisfied: geographiclib<3,>=1.52 in /opt/conda/lib/python3.7/site-packages (from geopy) (2.0)\n"
     ]
    }
   ],
   "source": [
    "!pip install geopy"
   ]
  },
  {
   "cell_type": "code",
   "execution_count": 122,
   "id": "ea055893-15f1-4b8a-9f6f-cf26d60eed48",
   "metadata": {},
   "outputs": [
    {
     "name": "stdout",
     "output_type": "stream",
     "text": [
      "Error geocoding Canada: Non-successful status code 403\n",
      "Error geocoding China: Non-successful status code 403\n",
      "           Country/Region Province/State        Lat        Long  1/22/20  \\\n",
      "0             Afghanistan        Unknown  33.939110   67.709953        0   \n",
      "1                 Albania        Unknown  41.153300   20.168300        0   \n",
      "2                 Algeria        Unknown  28.033900    1.659600        0   \n",
      "3                 Andorra        Unknown  42.506300    1.521800        0   \n",
      "4                  Angola        Unknown -11.202700   17.873900        0   \n",
      "..                    ...            ...        ...         ...      ...   \n",
      "284    West Bank and Gaza        Unknown  31.952200   35.233200        0   \n",
      "285  Winter Olympics 2022        Unknown  39.904200  116.407400        0   \n",
      "286                 Yemen        Unknown  15.552727   48.516388        0   \n",
      "287                Zambia        Unknown -13.133897   27.849332        0   \n",
      "288              Zimbabwe        Unknown -19.015438   29.154857        0   \n",
      "\n",
      "     1/23/20  1/24/20  1/25/20  1/26/20  1/27/20  ...  2/28/23  3/1/23  \\\n",
      "0          0        0        0        0        0  ...     7896    7896   \n",
      "1          0        0        0        0        0  ...     3598    3598   \n",
      "2          0        0        0        0        0  ...     6881    6881   \n",
      "3          0        0        0        0        0  ...      165     165   \n",
      "4          0        0        0        0        0  ...     1933    1933   \n",
      "..       ...      ...      ...      ...      ...  ...      ...     ...   \n",
      "284        0        0        0        0        0  ...     5708    5708   \n",
      "285        0        0        0        0        0  ...        0       0   \n",
      "286        0        0        0        0        0  ...     2159    2159   \n",
      "287        0        0        0        0        0  ...     4057    4057   \n",
      "288        0        0        0        0        0  ...     5663    5668   \n",
      "\n",
      "     3/2/23  3/3/23  3/4/23  3/5/23  3/6/23  3/7/23  3/8/23  3/9/23  \n",
      "0      7896    7896    7896    7896    7896    7896    7896    7896  \n",
      "1      3598    3598    3598    3598    3598    3598    3598    3598  \n",
      "2      6881    6881    6881    6881    6881    6881    6881    6881  \n",
      "3       165     165     165     165     165     165     165     165  \n",
      "4      1933    1933    1933    1933    1933    1933    1933    1933  \n",
      "..      ...     ...     ...     ...     ...     ...     ...     ...  \n",
      "284    5708    5708    5708    5708    5708    5708    5708    5708  \n",
      "285       0       0       0       0       0       0       0       0  \n",
      "286    2159    2159    2159    2159    2159    2159    2159    2159  \n",
      "287    4057    4057    4057    4057    4057    4057    4057    4057  \n",
      "288    5668    5668    5668    5668    5668    5668    5671    5671  \n",
      "\n",
      "[289 rows x 1147 columns]\n"
     ]
    }
   ],
   "source": [
    "import numpy as np\n",
    "from geopy.geocoders import Nominatim\n",
    "\n",
    "geolocator = Nominatim(user_agent=\"geoapiExercises\")\n",
    "\n",
    "def geocode_location(row):\n",
    "    address = f\"{row['Country/Region']}\"\n",
    "    try:\n",
    "        location = geolocator.geocode(address)\n",
    "        if location:\n",
    "            return pd.Series([location.latitude, location.longitude], index=['Lat', 'Long'])\n",
    "        else:\n",
    "            print(f\"Geocoding failed for address: {address}\")\n",
    "            return pd.Series([np.nan, np.nan], index=['Lat', 'Long'])\n",
    "    except Exception as e:\n",
    "        print(f\"Error geocoding {address}: {e}\")\n",
    "        return pd.Series([np.nan, np.nan], index=['Lat', 'Long'])\n",
    "\n",
    "\n",
    "missing_lat_long = DF[DF['Lat'].isnull()]\n",
    "\n",
    "geocoded_values = missing_lat_long.apply(geocode_location, axis=1)\n",
    "\n",
    "DF.loc[missing_lat_long.index, ['Lat', 'Long']] = geocoded_values\n",
    "\n",
    "print(DF)"
   ]
  },
  {
   "cell_type": "code",
   "execution_count": 123,
   "id": "26260cff-7c04-42c9-8085-7fbd86617a2d",
   "metadata": {},
   "outputs": [
    {
     "name": "stdout",
     "output_type": "stream",
     "text": [
      "Empty DataFrame\n",
      "Columns: [Country/Region, Province/State, Lat, Long, 1/22/20, 1/23/20, 1/24/20, 1/25/20, 1/26/20, 1/27/20, 1/28/20, 1/29/20, 1/30/20, 1/31/20, 2/1/20, 2/2/20, 2/3/20, 2/4/20, 2/5/20, 2/6/20, 2/7/20, 2/8/20, 2/9/20, 2/10/20, 2/11/20, 2/12/20, 2/13/20, 2/14/20, 2/15/20, 2/16/20, 2/17/20, 2/18/20, 2/19/20, 2/20/20, 2/21/20, 2/22/20, 2/23/20, 2/24/20, 2/25/20, 2/26/20, 2/27/20, 2/28/20, 2/29/20, 3/1/20, 3/2/20, 3/3/20, 3/4/20, 3/5/20, 3/6/20, 3/7/20, 3/8/20, 3/9/20, 3/10/20, 3/11/20, 3/12/20, 3/13/20, 3/14/20, 3/15/20, 3/16/20, 3/17/20, 3/18/20, 3/19/20, 3/20/20, 3/21/20, 3/22/20, 3/23/20, 3/24/20, 3/25/20, 3/26/20, 3/27/20, 3/28/20, 3/29/20, 3/30/20, 3/31/20, 4/1/20, 4/2/20, 4/3/20, 4/4/20, 4/5/20, 4/6/20, 4/7/20, 4/8/20, 4/9/20, 4/10/20, 4/11/20, 4/12/20, 4/13/20, 4/14/20, 4/15/20, 4/16/20, 4/17/20, 4/18/20, 4/19/20, 4/20/20, 4/21/20, 4/22/20, 4/23/20, 4/24/20, 4/25/20, 4/26/20, ...]\n",
      "Index: []\n",
      "\n",
      "[0 rows x 1147 columns]\n",
      "Empty DataFrame\n",
      "Columns: [Country/Region, Province/State, Lat, Long, 1/22/20, 1/23/20, 1/24/20, 1/25/20, 1/26/20, 1/27/20, 1/28/20, 1/29/20, 1/30/20, 1/31/20, 2/1/20, 2/2/20, 2/3/20, 2/4/20, 2/5/20, 2/6/20, 2/7/20, 2/8/20, 2/9/20, 2/10/20, 2/11/20, 2/12/20, 2/13/20, 2/14/20, 2/15/20, 2/16/20, 2/17/20, 2/18/20, 2/19/20, 2/20/20, 2/21/20, 2/22/20, 2/23/20, 2/24/20, 2/25/20, 2/26/20, 2/27/20, 2/28/20, 2/29/20, 3/1/20, 3/2/20, 3/3/20, 3/4/20, 3/5/20, 3/6/20, 3/7/20, 3/8/20, 3/9/20, 3/10/20, 3/11/20, 3/12/20, 3/13/20, 3/14/20, 3/15/20, 3/16/20, 3/17/20, 3/18/20, 3/19/20, 3/20/20, 3/21/20, 3/22/20, 3/23/20, 3/24/20, 3/25/20, 3/26/20, 3/27/20, 3/28/20, 3/29/20, 3/30/20, 3/31/20, 4/1/20, 4/2/20, 4/3/20, 4/4/20, 4/5/20, 4/6/20, 4/7/20, 4/8/20, 4/9/20, 4/10/20, 4/11/20, 4/12/20, 4/13/20, 4/14/20, 4/15/20, 4/16/20, 4/17/20, 4/18/20, 4/19/20, 4/20/20, 4/21/20, 4/22/20, 4/23/20, 4/24/20, 4/25/20, 4/26/20, ...]\n",
      "Index: []\n",
      "\n",
      "[0 rows x 1147 columns]\n"
     ]
    }
   ],
   "source": [
    "print(DF[DF['Lat'].isnull() & DF['Long'].notnull()])\n",
    "print(DF[DF['Long'].isnull() & DF['Lat'].notnull()])"
   ]
  },
  {
   "cell_type": "code",
   "execution_count": 124,
   "id": "c9234928-a1a3-448f-8a55-3a5b6b9758ec",
   "metadata": {},
   "outputs": [
    {
     "data": {
      "text/plain": [
       "Index(['Country/Region', 'Province/State', 'Lat', 'Long', '1/22/20', '1/23/20',\n",
       "       '1/24/20', '1/25/20', '1/26/20', '1/27/20',\n",
       "       ...\n",
       "       '2/28/23', '3/1/23', '3/2/23', '3/3/23', '3/4/23', '3/5/23', '3/6/23',\n",
       "       '3/7/23', '3/8/23', '3/9/23'],\n",
       "      dtype='object', length=1147)"
      ]
     },
     "execution_count": 124,
     "metadata": {},
     "output_type": "execute_result"
    }
   ],
   "source": [
    "DF.columns"
   ]
  },
  {
   "cell_type": "code",
   "execution_count": 125,
   "id": "01e98990-8bfd-4808-8bad-39e657c1513d",
   "metadata": {},
   "outputs": [],
   "source": [
    "DF.to_csv(cleaned_dataset_path, index=False)"
   ]
  },
  {
   "cell_type": "code",
   "execution_count": null,
   "id": "e641b370-d51e-4969-806f-bdd71f729dbd",
   "metadata": {},
   "outputs": [],
   "source": []
  },
  {
   "cell_type": "markdown",
   "id": "21e2f5a6-7f69-4e64-a698-3f135f87ace2",
   "metadata": {
    "tags": []
   },
   "source": [
    "### Data Cleaning"
   ]
  },
  {
   "cell_type": "markdown",
   "id": "04d33943-4cb9-42ac-b166-66be3f1580c0",
   "metadata": {
    "jp-MarkdownHeadingCollapsed": true,
    "tags": []
   },
   "source": [
    "#### Extraction of the data"
   ]
  },
  {
   "cell_type": "code",
   "execution_count": null,
   "id": "138ea8c9-631a-40ae-9bc4-19eb6a2baf03",
   "metadata": {},
   "outputs": [],
   "source": [
    "# data = DF[\"Province_State\"]\n",
    "\n",
    "# col_index_max = DF.shape[0]\n",
    "\n",
    "# columns = (DF.columns).tolist()\n",
    "\n",
    "# row_values = []\n",
    "# my_dict = {}\n",
    "    \n",
    "# for i in range(0, col_index_max):\n",
    "#     input_string = data[i]\n",
    "    \n",
    "#     parts = input_string.split('\\\"')\n",
    "#     dict = {}\n",
    "\n",
    "#     for j, part in enumerate(parts, 1):\n",
    "#         list_part = [elm.replace('\\\"', '') for elm in part.split(',') if elm]\n",
    "\n",
    "#         if len(list_part) != 3:\n",
    "#             my_dict[str(j)] = list_part\n",
    "\n",
    "#     values_list = [val for sublist in my_dict.values() for val in sublist]\n",
    "\n",
    "#     row_values.append(tuple(values_list))\n",
    "\n",
    "    \n",
    "# cleaned_us_list = [(key, *value) for key, value in zip(columns, row_values)]\n",
    "\n",
    "# with open(cleaned_dataset_path, 'w') as csvfile:\n",
    "#     csvwriter = csv.writer(csvfile)\n",
    "    \n",
    "#     csvwriter.writerows(cleaned_us_list)"
   ]
  },
  {
   "cell_type": "markdown",
   "id": "d113beee-72ac-4aee-8dff-d29087f21fd2",
   "metadata": {},
   "source": [
    "#### Separation and conversion of data"
   ]
  },
  {
   "cell_type": "code",
   "execution_count": 240,
   "id": "0f13aff8-941c-41fe-bfb7-c6abe8b9df55",
   "metadata": {},
   "outputs": [
    {
     "data": {
      "text/plain": [
       "['Combined_Key', 'Population']"
      ]
     },
     "execution_count": 240,
     "metadata": {},
     "output_type": "execute_result"
    }
   ],
   "source": [
    "list(DF.columns[10:12])"
   ]
  },
  {
   "cell_type": "code",
   "execution_count": 243,
   "id": "d4bb28d1-8905-4574-8c7a-cf9d092fb5ae",
   "metadata": {},
   "outputs": [
    {
     "data": {
      "text/plain": [
       "['Lat', 'Long_']"
      ]
     },
     "execution_count": 243,
     "metadata": {},
     "output_type": "execute_result"
    }
   ],
   "source": [
    "list(DF.columns[8:10])"
   ]
  },
  {
   "cell_type": "code",
   "execution_count": 241,
   "id": "119fd30d-d559-45ba-b0d4-460c33023e43",
   "metadata": {},
   "outputs": [],
   "source": [
    "cat_cols = list(DF.columns[:2]) + list(DF.columns[3:5]) + list(DF.columns[10:12])\n",
    "DF[cat_cols] = DF[cat_cols].astype('category')"
   ]
  },
  {
   "cell_type": "code",
   "execution_count": 242,
   "id": "654fd5a4-86cc-4414-8b94-a0e515d0648d",
   "metadata": {},
   "outputs": [],
   "source": [
    "int_cols = [DF.columns[2]] + [DF.columns[5]]\n",
    "DF[int_cols] = DF[int_cols].astype('int')"
   ]
  },
  {
   "cell_type": "code",
   "execution_count": 244,
   "id": "44536ece-4a54-4740-879f-70d73c56ed13",
   "metadata": {},
   "outputs": [],
   "source": [
    "float_cols = [DF.columns[6]] + list(DF.columns[8:10])\n",
    "DF[float_cols] = DF[float_cols].astype('float')"
   ]
  },
  {
   "cell_type": "code",
   "execution_count": 245,
   "id": "07949d93-c45c-44c9-ac2b-8f0d30c96e72",
   "metadata": {},
   "outputs": [],
   "source": [
    "DF['Combined_Key'] = DF['Combined_Key'].astype('str')"
   ]
  },
  {
   "cell_type": "code",
   "execution_count": 248,
   "id": "2da119a9-4e7d-438f-b18d-8ae05530ea7b",
   "metadata": {},
   "outputs": [
    {
     "data": {
      "text/plain": [
       "Index(['1/22/20', '1/23/20', '1/24/20', '1/25/20', '1/26/20', '1/27/20',\n",
       "       '1/28/20', '1/29/20', '1/30/20', '1/31/20',\n",
       "       ...\n",
       "       '2/28/23', '3/1/23', '3/2/23', '3/3/23', '3/4/23', '3/5/23', '3/6/23',\n",
       "       '3/7/23', '3/8/23', '3/9/23'],\n",
       "      dtype='object', length=1143)"
      ]
     },
     "execution_count": 248,
     "metadata": {},
     "output_type": "execute_result"
    }
   ],
   "source": [
    "DF.columns[12:]"
   ]
  },
  {
   "cell_type": "code",
   "execution_count": 249,
   "id": "7a1a07f6-baf5-489e-ac82-cec937c01cdd",
   "metadata": {},
   "outputs": [],
   "source": [
    "date_cols = DF.columns[12:]\n",
    "\n",
    "DF[date_cols] = DF[date_cols].astype('int')"
   ]
  },
  {
   "cell_type": "code",
   "execution_count": 250,
   "id": "9df2d2a0-9c46-4ff7-b196-82ea519ca30a",
   "metadata": {},
   "outputs": [
    {
     "name": "stdout",
     "output_type": "stream",
     "text": [
      "Province_State    category\n",
      "Admin2            category\n",
      "UID                  int64\n",
      "iso2              category\n",
      "iso3              category\n",
      "                    ...   \n",
      "3/5/23               int64\n",
      "3/6/23               int64\n",
      "3/7/23               int64\n",
      "3/8/23               int64\n",
      "3/9/23               int64\n",
      "Length: 1155, dtype: object\n"
     ]
    }
   ],
   "source": [
    "print(DF.dtypes)"
   ]
  },
  {
   "cell_type": "markdown",
   "id": "ea69a9d9-b44c-4619-bf43-4e1db721e74f",
   "metadata": {},
   "source": [
    "#### Removing of unnecessary data and null values"
   ]
  },
  {
   "cell_type": "code",
   "execution_count": 251,
   "id": "65355384-d8fd-4188-802b-fc5df83b9159",
   "metadata": {},
   "outputs": [
    {
     "name": "stdout",
     "output_type": "stream",
     "text": [
      "True\n",
      "True\n"
     ]
    }
   ],
   "source": [
    "print(DF['Admin2'].isnull().any())\n",
    "print(DF['FIPS'].isnull().any())"
   ]
  },
  {
   "cell_type": "code",
   "execution_count": 252,
   "id": "0589a597-ad1e-4af5-abfa-77d463d17156",
   "metadata": {},
   "outputs": [],
   "source": [
    "if 'Unknown' not in DF['Admin2'].cat.categories:\n",
    "    DF['Admin2'] = DF['Admin2'].cat.add_categories('Unknown')\n",
    "\n",
    "DF['Admin2'] = DF['Admin2'].fillna('Unknown')"
   ]
  },
  {
   "cell_type": "code",
   "execution_count": 253,
   "id": "653ca5bd-5ff3-4a74-9ab1-efd1ef24afed",
   "metadata": {},
   "outputs": [],
   "source": [
    "median_fips = DF['FIPS'].median()\n",
    "DF['FIPS'] = DF['FIPS'].fillna(median_fips)"
   ]
  },
  {
   "cell_type": "code",
   "execution_count": null,
   "id": "38921d7a-a13c-4224-a61b-38a454134a14",
   "metadata": {},
   "outputs": [],
   "source": [
    "#SAVE A CSV HERE IF WE WANT TO MAITAIN THE ORIGINAL STRUCTURE"
   ]
  },
  {
   "cell_type": "code",
   "execution_count": 254,
   "id": "70b89cac-dcd8-4d08-8fc2-1780bc226047",
   "metadata": {},
   "outputs": [],
   "source": [
    "DF.drop(['Combined_Key', 'Country_Region', 'FIPS'], axis=1, inplace=True)"
   ]
  },
  {
   "cell_type": "code",
   "execution_count": 255,
   "id": "66ad98b0-d258-47ff-8528-e5e9eb6b4f5b",
   "metadata": {},
   "outputs": [
    {
     "data": {
      "text/plain": [
       "Index(['Province_State', 'Admin2', 'UID', 'iso2', 'iso3', 'code3', 'Lat',\n",
       "       'Long_', 'Population', '1/22/20',\n",
       "       ...\n",
       "       '2/28/23', '3/1/23', '3/2/23', '3/3/23', '3/4/23', '3/5/23', '3/6/23',\n",
       "       '3/7/23', '3/8/23', '3/9/23'],\n",
       "      dtype='object', length=1152)"
      ]
     },
     "execution_count": 255,
     "metadata": {},
     "output_type": "execute_result"
    }
   ],
   "source": [
    "DF.columns"
   ]
  },
  {
   "cell_type": "code",
   "execution_count": 256,
   "id": "e08e17b5-7400-4d76-b9ea-e129ae0ce819",
   "metadata": {},
   "outputs": [],
   "source": [
    "DF.to_csv(cleaned_dataset_path, index=False)"
   ]
  },
  {
   "cell_type": "markdown",
   "id": "57abbb79-f723-47cb-8779-919bc4593460",
   "metadata": {
    "tags": []
   },
   "source": [
    "### Advanced cleaning"
   ]
  },
  {
   "cell_type": "code",
   "execution_count": null,
   "id": "dae1433a-bc56-405e-8d61-38a6b3416f1f",
   "metadata": {},
   "outputs": [],
   "source": [
    "DF_desc = DF[DF.columns[:12]]\n",
    "DF_date = DF[DF.columns[12:]]\n",
    "\n",
    "print(DF_desc.head(2))\n",
    "print(\"-- * --\"*10)\n",
    "print(DF_date.tail(2))\n",
    "\n",
    "date_cols = DF.columns[11:]\n",
    "\n",
    "DF[date_cols] = DF[date_cols].apply(pd.to_datetime)"
   ]
  }
 ],
 "metadata": {
  "kernelspec": {
   "display_name": "Python 3 (ipykernel)",
   "language": "python",
   "name": "python3"
  },
  "language_info": {
   "codemirror_mode": {
    "name": "ipython",
    "version": 3
   },
   "file_extension": ".py",
   "mimetype": "text/x-python",
   "name": "python",
   "nbconvert_exporter": "python",
   "pygments_lexer": "ipython3",
   "version": "3.7.12"
  }
 },
 "nbformat": 4,
 "nbformat_minor": 5
}
