{
 "cells": [
  {
   "cell_type": "code",
   "execution_count": 30,
   "id": "141c459f-843c-4ad9-8b0a-f27ee4727917",
   "metadata": {},
   "outputs": [
    {
     "name": "stdout",
     "output_type": "stream",
     "text": [
      "                                      Province_State  Admin2  UID  iso2  iso3  \\\n",
      "0  Alabama,Autauga,84001001,US,USA,840,1001.0,US,...     NaN  NaN   NaN   NaN   \n",
      "1  Alabama,Baldwin,84001003,US,USA,840,1003.0,US,...     NaN  NaN   NaN   NaN   \n",
      "2  Alabama,Barbour,84001005,US,USA,840,1005.0,US,...     NaN  NaN   NaN   NaN   \n",
      "3  Alabama,Bibb,84001007,US,USA,840,1007.0,US,32....     NaN  NaN   NaN   NaN   \n",
      "4  Alabama,Blount,84001009,US,USA,840,1009.0,US,3...     NaN  NaN   NaN   NaN   \n",
      "\n",
      "   code3  FIPS  Country_Region  Lat  Long_  ...  2/28/23  3/1/23  3/2/23  \\\n",
      "0    NaN   NaN             NaN  NaN    NaN  ...      NaN     NaN     NaN   \n",
      "1    NaN   NaN             NaN  NaN    NaN  ...      NaN     NaN     NaN   \n",
      "2    NaN   NaN             NaN  NaN    NaN  ...      NaN     NaN     NaN   \n",
      "3    NaN   NaN             NaN  NaN    NaN  ...      NaN     NaN     NaN   \n",
      "4    NaN   NaN             NaN  NaN    NaN  ...      NaN     NaN     NaN   \n",
      "\n",
      "   3/3/23  3/4/23  3/5/23  3/6/23  3/7/23  3/8/23  3/9/23  \n",
      "0     NaN     NaN     NaN     NaN     NaN     NaN     NaN  \n",
      "1     NaN     NaN     NaN     NaN     NaN     NaN     NaN  \n",
      "2     NaN     NaN     NaN     NaN     NaN     NaN     NaN  \n",
      "3     NaN     NaN     NaN     NaN     NaN     NaN     NaN  \n",
      "4     NaN     NaN     NaN     NaN     NaN     NaN     NaN  \n",
      "\n",
      "[5 rows x 1155 columns]\n"
     ]
    },
    {
     "name": "stderr",
     "output_type": "stream",
     "text": [
      "/opt/conda/lib/python3.7/site-packages/IPython/core/interactiveshell.py:3552: FutureWarning: The error_bad_lines argument has been deprecated and will be removed in a future version.\n",
      "\n",
      "\n",
      "  exec(code_obj, self.user_global_ns, self.user_ns)\n",
      "/opt/conda/lib/python3.7/site-packages/IPython/core/interactiveshell.py:3552: FutureWarning: The warn_bad_lines argument has been deprecated and will be removed in a future version.\n",
      "\n",
      "\n",
      "  exec(code_obj, self.user_global_ns, self.user_ns)\n"
     ]
    }
   ],
   "source": [
    "import pandas as pd\n",
    "\n",
    "# Load the dataset with the correct delimiter and handling potential issues\n",
    "file_path = 'RAW_us_deaths_sample.csv'  # Adjust the path to your dataset\n",
    "data = pd.read_csv(file_path, delimiter=',', quotechar='\"', skipinitialspace=True, engine='python')\n",
    "\n",
    "# Display the first few rows to ensure it is read correctly\n",
    "print(data.head())\n",
    "\n"
   ]
  },
  {
   "cell_type": "code",
   "execution_count": 32,
   "id": "f496de59-9678-4812-9e39-c24df5aac07c",
   "metadata": {},
   "outputs": [
    {
     "name": "stdout",
     "output_type": "stream",
     "text": [
      "(9, 1155)\n",
      "                                      Province_State  Admin2  UID  iso2  iso3  \\\n",
      "0  Alabama,Autauga,84001001,US,USA,840,1001.0,US,...     NaN  NaN   NaN   NaN   \n",
      "1  Alabama,Baldwin,84001003,US,USA,840,1003.0,US,...     NaN  NaN   NaN   NaN   \n",
      "2  Alabama,Barbour,84001005,US,USA,840,1005.0,US,...     NaN  NaN   NaN   NaN   \n",
      "3  Alabama,Bibb,84001007,US,USA,840,1007.0,US,32....     NaN  NaN   NaN   NaN   \n",
      "4  Alabama,Blount,84001009,US,USA,840,1009.0,US,3...     NaN  NaN   NaN   NaN   \n",
      "\n",
      "   code3  FIPS  Country_Region  Lat  Long_  ...  2/28/23  3/1/23  3/2/23  \\\n",
      "0    NaN   NaN             NaN  NaN    NaN  ...      NaN     NaN     NaN   \n",
      "1    NaN   NaN             NaN  NaN    NaN  ...      NaN     NaN     NaN   \n",
      "2    NaN   NaN             NaN  NaN    NaN  ...      NaN     NaN     NaN   \n",
      "3    NaN   NaN             NaN  NaN    NaN  ...      NaN     NaN     NaN   \n",
      "4    NaN   NaN             NaN  NaN    NaN  ...      NaN     NaN     NaN   \n",
      "\n",
      "   3/3/23  3/4/23  3/5/23  3/6/23  3/7/23  3/8/23  3/9/23  \n",
      "0     NaN     NaN     NaN     NaN     NaN     NaN     NaN  \n",
      "1     NaN     NaN     NaN     NaN     NaN     NaN     NaN  \n",
      "2     NaN     NaN     NaN     NaN     NaN     NaN     NaN  \n",
      "3     NaN     NaN     NaN     NaN     NaN     NaN     NaN  \n",
      "4     NaN     NaN     NaN     NaN     NaN     NaN     NaN  \n",
      "\n",
      "[5 rows x 1155 columns]\n",
      "['Alabama,Autauga,84001001,US,USA,840,1001.0,US,32.53952745,-86.64408227,\"Autauga, Alabama, US\",55869,0,0,0,0,0,0,0,0,0,0,0,0,0,0,0,0,0,0,0,0,0,0,0,0,0,0,0,0,0,0,0,0,0,0,0,0,0,0,0,0,0,0,0,0,0,0,0,0,0,0,0,0,0,0,0,0,0,0,0,0,0,0,0,0,0,0,0,0,0,0,0,0,0,0,0,0,1,1,1,1,1,1,1,1,1,1,2,2,2,1,1,2,2,2,2,2,3,4,4,4,3,3,3,3,3,3,3,4,4,4,4,4,4,4,4,4,4,4,4,3,3,3,3,3,3,3,3,3,3,4,4,5,5,5,5,5,5,5,5,5,6,6,6,6,6,6,6,6,7,7,8,8,8,8,10,10,10,11,11,11,11,11,12,12,12,12,12,12,12,13,14,14,15,15,17,18,19,20,20,20,20,20,20,20,20,20,20,20,20,20,20,20,20,20,20,20,21,21,21,21,21,21,22,22,22,22,22,22,22,22,22,22,22,22,22,22,22,22,22,22,22,22,22,23,23,23,23,23,23,23,23,23,23,23,23,23,23,23,24,24,24,24,24,24,25,25,25,25,25,25,25,27,27,28,27,27,27,27,27,27,28,28,28,28,28,28,28,28,28,28,28,28,29,30,30,30,31,31,31,31,31,31,31,31,31,31,31,31,31,30,30,30,30,30,32,32,36,36,36,36,37,37,39,39,39,39,39,39,41,42,42,42,42,42,42,42,42,42,42,42,42,42,42,42,42,41,41,41,43,43,43,44,44,44,44,44,46,46,46,46,47,47,47,48,48,50,50,50,50,50,50,50,50,53,54,55,55,55,55,55,55,55,55,55,55,61,61,62,62,62,65,67,69,69,69,69,69,70,71,74,76,77,77,77,77,79,81,84,84,84,84,84,84,84,85,85,85,85,84,85,89,90,91,91,91,91,91,92,92,92,92,92,92,93,95,95,95,95,95,95,96,98,98,98,98,98,99,99,99,99,99,99,99,99,99,99,99,102,102,102,102,102,103,103,103,103,103,103,103,103,103,106,106,106,106,107,107,107,107,107,107,107,107,107,107,107,107,107,107,108,108,108,108,108,108,108,108,108,108,108,108,108,108,108,109,109,110,110,110,110,110,110,110,110,110,110,111,111,111,112,112,112,113,113,113,113,113,113,113,113,113,113,113,113,113,113,113,113,113,113,113,113,113,113,113,113,113,113,113,113,113,113,113,113,113,113,113,113,113,113,113,113,113,113,113,113,113,113,113,113,113,113,114,114,114,114,114,114,114,114,114,114,114,114,114,114,114,114,114,114,114,114,114,115,115,115,115,115,115,115,115,115,115,117,118,118,118,118,118,119,119,119,119,119,119,119,119,119,119,119,119,119,119,120,124,127,127,127,131,133,135,137,137,137,137,139,140,140,142,142,142,142,142,143,144,144,144,144,144,144,145,146,146,146,146,146,146,146,146,148,148,148,148,148,148,148,148,148,148,148,148,150,151,151,151,151,151,152,152,152,152,154,154,154,154,155,156,156,156,156,156,156,156,157,157,157,157,157,157,157,157,157,157,157,157,157,157,157,158,158,158,158,158,158,158,159,159,159,159,160,160,160,160,160,160,160,160,160,160,160,160,160,160,161,161,161,162,162,162,162,162,162,162,162,162,163,163,163,163,163,163,163,163,163,165,163,163,166,166,166,166,167,168,168,170,170,170,171,171,173,173,173,176,176,176,177,181,181,183,184,184,184,184,184,192,194,194,194,194,195,198,199,199,199,199,203,204,205,208,208,208,208,209,209,209,209,210,210,210,210,210,210,209,209,209,209,210,211,211,211,211,211,211,213,213,213,213,213,213,213,213,214,214,214,214,214,214,215,215,215,215,215,215,215,215,215,216,216,216,216,216,216,216,216,216,216,216,216,216,216,216,216,216,216,216,216,216,216,216,216,216,216,216,216,216,216,216,216,216,216,216,216,216,216,216,216,216,216,216,217,217,217,217,217,217,217,217,217,217,217,217,217,217,217,217,217,217,217,217,217,217,217,217,217,217,217,217,217,217,217,217,217,217,217,217,217,217,217,217,220,220,220,220,220,220,220,220,220,220,220,220,220,220,220,220,221,221,221,221,221,221,221,222,222,222,222,222,222,222,222,222,222,222,222,222,222,222,222,222,222,222,222,222,223,223,223,223,223,223,223,226,226,226,226,226,226,226,227,227,227,227,227,227,227,227,227,227,227,227,227,227,227,227,227,227,227,227,227,228,228,228,228,228,228,228,228,228,228,228,228,228,228,228,228,228,228,228,228,228,228,228,228,228,228,228,228,228,228,228,228,228,228,228,229,229,229,229,229,229,229,229,229,229,229,229,229,230,230,230,230,230,230,230,230,230,230,230,230,230,230,230,230,230,230,230,230,230,230,230,230,230,230,230,230,230,230,230,230,230,230,230,230,230,230,230,230,230,230,230,230,230,230,230,230,230,230,230,230,230,230,230,230,230,230,230,230,230,230,230,230,230,230,230,230,230,230,230,230,230,230,230,230,230,230,230,230,230,230,230,230,230,230,230,230,230,230,230,230,230,230,230,230,230,230,232,232,232,232,232,232,232,232,232', nan, nan, nan, nan, nan, nan, nan, nan, nan]\n"
     ]
    }
   ],
   "source": [
    "# Check the shape of the dataframe to ensure the expected number of rows and columns\n",
    "print(data.shape)\n",
    "\n",
    "# Display the first few rows to verify\n",
    "print(data.head())\n",
    "\n",
    "# Display the first few entries of a sample row\n",
    "print(data.iloc[0, :10].tolist())\n"
   ]
  },
  {
   "cell_type": "code",
   "execution_count": 29,
   "id": "96e92f07-8005-4192-9f1a-ef29b023f2d6",
   "metadata": {},
   "outputs": [
    {
     "name": "stdout",
     "output_type": "stream",
     "text": [
      "['Admin2', 'UID', 'iso2', 'iso3', 'code3', 'FIPS', 'Country_Region', 'Lat', 'Long_', 'Combined_Key', 'Population', '1/22/20', '1/23/20', '1/24/20', '1/25/20', '1/26/20', '1/27/20', '1/28/20', '1/29/20']\n"
     ]
    }
   ],
   "source": [
    "# Display columns to verify they are correct\n",
    "print(data.columns.tolist()[1:20])"
   ]
  },
  {
   "cell_type": "code",
   "execution_count": 23,
   "id": "6c9e8edf-4ae9-4c4a-a919-7b82b97322e1",
   "metadata": {},
   "outputs": [
    {
     "name": "stdout",
     "output_type": "stream",
     "text": [
      "['2/28/23', '3/1/23', '3/2/23', '3/3/23', '3/4/23', '3/5/23', '3/6/23', '3/7/23', '3/8/23', '3/9/23']\n"
     ]
    }
   ],
   "source": [
    "# Extract the date columns (assuming non-date columns are known)\n",
    "non_date_columns = ['Province_State', 'Admin2', 'UID', 'iso2', 'iso3', 'code3', 'FIPS', 'Country_Region', 'Lat', 'Long_', 'Combined_Key', 'Population']\n",
    "date_columns = [col for col in data.columns if col not in non_date_columns]\n",
    "\n",
    "print(date_columns[-10:])"
   ]
  },
  {
   "cell_type": "code",
   "execution_count": 5,
   "id": "6653425f-b339-487f-808e-807ea618782b",
   "metadata": {},
   "outputs": [
    {
     "name": "stdout",
     "output_type": "stream",
     "text": [
      "Invalid date columns: []\n"
     ]
    }
   ],
   "source": [
    "# Check if date columns are in the correct format (MM/DD/YY)\n",
    "def check_date_format(columns):\n",
    "    invalid_columns = []\n",
    "    for col in columns:\n",
    "        try:\n",
    "            pd.to_datetime(col, format='%m/%d/%y')\n",
    "        except ValueError:\n",
    "            invalid_columns.append(col)\n",
    "    return invalid_columns\n",
    "\n",
    "# Run the check\n",
    "invalid_date_columns = check_date_format(date_columns)\n",
    "print(\"Invalid date columns:\", invalid_date_columns)"
   ]
  },
  {
   "cell_type": "code",
   "execution_count": null,
   "id": "f7d43643-cd4b-4f6e-9558-9af672bd1b7b",
   "metadata": {},
   "outputs": [],
   "source": []
  }
 ],
 "metadata": {
  "kernelspec": {
   "display_name": "Python 3 (ipykernel)",
   "language": "python",
   "name": "python3"
  },
  "language_info": {
   "codemirror_mode": {
    "name": "ipython",
    "version": 3
   },
   "file_extension": ".py",
   "mimetype": "text/x-python",
   "name": "python",
   "nbconvert_exporter": "python",
   "pygments_lexer": "ipython3",
   "version": "3.7.12"
  }
 },
 "nbformat": 4,
 "nbformat_minor": 5
}
