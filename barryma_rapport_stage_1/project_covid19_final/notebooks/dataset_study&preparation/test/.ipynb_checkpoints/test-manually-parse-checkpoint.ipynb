{
 "cells": [
  {
   "cell_type": "code",
   "execution_count": 18,
   "id": "34bbff14-6c0d-4ac3-b6c9-3d9e28692556",
   "metadata": {},
   "outputs": [
    {
     "name": "stdout",
     "output_type": "stream",
     "text": [
      "(9, 1155)\n",
      "  Province_State   Admin2       UID iso2 iso3 code3    FIPS Country_Region  \\\n",
      "0        Alabama  Autauga  84001001   US  USA   840  1001.0             US   \n",
      "1        Alabama  Baldwin  84001003   US  USA   840  1003.0             US   \n",
      "2        Alabama  Barbour  84001005   US  USA   840  1005.0             US   \n",
      "3        Alabama     Bibb  84001007   US  USA   840  1007.0             US   \n",
      "4        Alabama   Blount  84001009   US  USA   840  1009.0             US   \n",
      "\n",
      "           Lat                     Long_  ... 2/28/23 3/1/23 3/2/23 3/3/23  \\\n",
      "0  32.53952745     -86.64408227,\"Autauga  ...     230    232    232    232   \n",
      "1  30.72774991     -87.72207058,\"Baldwin  ...     724    726    726    726   \n",
      "2    31.868263      -85.3871286,\"Barbour  ...     103    103    103    103   \n",
      "3  32.99642064  -87.12511459999996,\"Bibb  ...     109    109    109    109   \n",
      "4  33.98210918      -86.56790593,\"Blount  ...     261    261    261    261   \n",
      "\n",
      "  3/4/23 3/5/23 3/6/23 3/7/23 3/8/23 3/9/23  \n",
      "0    232    232    232    232    232    232  \n",
      "1    726    726    726    726    727    727  \n",
      "2    103    103    103    103    103    103  \n",
      "3    109    109    109    109    109    109  \n",
      "4    261    261    261    261    261    261  \n",
      "\n",
      "[5 rows x 1155 columns]\n",
      "['Alabama', 'Autauga', '84001001', 'US', 'USA', '840', '1001.0', 'US', '32.53952745', '-86.64408227,\"Autauga', ' Alabama', ' US\",55869', '0', '0', '0', '0', '0', '0', '0', '0']\n"
     ]
    }
   ],
   "source": [
    "import pandas as pd\n",
    "import csv\n",
    "import re\n",
    "\n",
    "def read_and_parse_csv(file_path):\n",
    "    rows = []\n",
    "    \n",
    "    with open(file_path, 'r') as file:\n",
    "        reader = csv.reader(file, delimiter=',', quotechar='\"')\n",
    "        for row in reader:\n",
    "            # Manually split each row using regex to handle quoted commas\n",
    "            fixed_row = []\n",
    "            for cell in row:\n",
    "                # Check for quoted string with comma\n",
    "                if '\"' in cell:\n",
    "                    fixed_row.extend(re.split(r'(?<!\"),(?!\")', cell))\n",
    "                else:\n",
    "                    fixed_row.append(cell)\n",
    "            rows.append(fixed_row)\n",
    "    \n",
    "    # Convert the list of rows into a DataFrame\n",
    "    data = pd.DataFrame(rows[1:], columns=rows[0])\n",
    "    \n",
    "    # Return the DataFrame\n",
    "    return data\n",
    "\n",
    "# Path to your CSV file\n",
    "file_path = 'RAW_us_deaths_sample.csv'\n",
    "\n",
    "# Read and parse the CSV file\n",
    "data = read_and_parse_csv(file_path)\n",
    "\n",
    "# Check the shape of the DataFrame\n",
    "print(data.shape)\n",
    "\n",
    "# Display the first few rows to verify\n",
    "print(data.head())\n",
    "\n",
    "# Display the first few entries of a sample row\n",
    "print(data.iloc[0, :20].tolist())\n"
   ]
  },
  {
   "cell_type": "code",
   "execution_count": 20,
   "id": "a3ffdf1c-fb86-41b6-8b1a-d7558dc10edf",
   "metadata": {},
   "outputs": [
    {
     "name": "stdout",
     "output_type": "stream",
     "text": [
      "(9, 16)\n",
      "  Province_State   Admin2       UID iso2 iso3 code3    FIPS Country_Region  \\\n",
      "0        Alabama  Autauga  84001001   US  USA   840  1001.0             US   \n",
      "1        Alabama  Baldwin  84001003   US  USA   840  1003.0             US   \n",
      "2        Alabama  Barbour  84001005   US  USA   840  1005.0             US   \n",
      "3        Alabama     Bibb  84001007   US  USA   840  1007.0             US   \n",
      "4        Alabama   Blount  84001009   US  USA   840  1009.0             US   \n",
      "\n",
      "           Lat                     Long_ Combined_Key       20        21  \\\n",
      "0  32.53952745     -86.64408227,\"Autauga      Alabama   5589.0   41785.0   \n",
      "1  30.72774991     -87.72207058,\"Baldwin      Alabama  12271.0  136367.0   \n",
      "2    31.868263      -85.3871286,\"Barbour      Alabama   2035.0   22337.0   \n",
      "3  32.99642064  -87.12511459999996,\"Bibb      Alabama   2632.0   25347.0   \n",
      "4  33.98210918      -86.56790593,\"Blount      Alabama   3855.0   52469.0   \n",
      "\n",
      "         22       23   on  \n",
      "0   77553.0  15658.0  0.0  \n",
      "1  248554.0  49146.0  0.0  \n",
      "2   35688.0   7004.0  0.0  \n",
      "3   37884.0   7395.0  0.0  \n",
      "4   88287.0  17738.0  0.0  \n"
     ]
    }
   ],
   "source": [
    "# Function to aggregate data by year\n",
    "def aggregate_by_year(data):\n",
    "    # Convert columns to datetime where possible\n",
    "    date_columns = data.columns[11:]  # Skipping non-date columns\n",
    "    data[date_columns] = data[date_columns].apply(pd.to_numeric, errors='coerce')\n",
    "    data[date_columns] = data[date_columns].fillna(0)\n",
    "\n",
    "    # Extract year from date columns and group by year\n",
    "    yearly_data = data[date_columns].groupby(by=[col[-2:] for col in date_columns], axis=1).sum()\n",
    "\n",
    "    # Merge non-date columns with the yearly aggregated data\n",
    "    result = pd.concat([data.iloc[:, :11], yearly_data], axis=1)\n",
    "\n",
    "    return result\n",
    "\n",
    "# Aggregate the data by year\n",
    "yearly_data = aggregate_by_year(data)\n",
    "\n",
    "# Check the shape of the DataFrame\n",
    "print(yearly_data.shape)\n",
    "\n",
    "# Display the first few rows to verify\n",
    "print(yearly_data.head())\n"
   ]
  },
  {
   "cell_type": "code",
   "execution_count": null,
   "id": "7323c0d3-a7bb-4da1-8257-e524c5559242",
   "metadata": {},
   "outputs": [],
   "source": []
  }
 ],
 "metadata": {
  "kernelspec": {
   "display_name": "Python 3 (ipykernel)",
   "language": "python",
   "name": "python3"
  },
  "language_info": {
   "codemirror_mode": {
    "name": "ipython",
    "version": 3
   },
   "file_extension": ".py",
   "mimetype": "text/x-python",
   "name": "python",
   "nbconvert_exporter": "python",
   "pygments_lexer": "ipython3",
   "version": "3.7.12"
  }
 },
 "nbformat": 4,
 "nbformat_minor": 5
}
