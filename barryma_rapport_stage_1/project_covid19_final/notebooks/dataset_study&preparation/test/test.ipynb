{
 "cells": [
  {
   "cell_type": "code",
   "execution_count": 17,
   "id": "d1838b8a-6b8d-413d-8765-d1be8601b930",
   "metadata": {},
   "outputs": [
    {
     "name": "stdout",
     "output_type": "stream",
     "text": [
      "                                      Province_State  Admin2  UID  iso2  iso3  \\\n",
      "0  Alabama,Autauga,84001001,US,USA,840,1001.0,US,...     NaN  NaN   NaN   NaN   \n",
      "1  Alabama,Baldwin,84001003,US,USA,840,1003.0,US,...     NaN  NaN   NaN   NaN   \n",
      "2  Alabama,Barbour,84001005,US,USA,840,1005.0,US,...     NaN  NaN   NaN   NaN   \n",
      "3  Alabama,Bibb,84001007,US,USA,840,1007.0,US,32....     NaN  NaN   NaN   NaN   \n",
      "4  Alabama,Blount,84001009,US,USA,840,1009.0,US,3...     NaN  NaN   NaN   NaN   \n",
      "\n",
      "   code3  FIPS  Country_Region  Lat  Long_  ...  2/28/23  3/1/23  3/2/23  \\\n",
      "0    NaN   NaN             NaN  NaN    NaN  ...      NaN     NaN     NaN   \n",
      "1    NaN   NaN             NaN  NaN    NaN  ...      NaN     NaN     NaN   \n",
      "2    NaN   NaN             NaN  NaN    NaN  ...      NaN     NaN     NaN   \n",
      "3    NaN   NaN             NaN  NaN    NaN  ...      NaN     NaN     NaN   \n",
      "4    NaN   NaN             NaN  NaN    NaN  ...      NaN     NaN     NaN   \n",
      "\n",
      "   3/3/23  3/4/23  3/5/23  3/6/23  3/7/23  3/8/23  3/9/23  \n",
      "0     NaN     NaN     NaN     NaN     NaN     NaN     NaN  \n",
      "1     NaN     NaN     NaN     NaN     NaN     NaN     NaN  \n",
      "2     NaN     NaN     NaN     NaN     NaN     NaN     NaN  \n",
      "3     NaN     NaN     NaN     NaN     NaN     NaN     NaN  \n",
      "4     NaN     NaN     NaN     NaN     NaN     NaN     NaN  \n",
      "\n",
      "[5 rows x 1155 columns]\n"
     ]
    }
   ],
   "source": [
    "import pandas as pd\n",
    "\n",
    "# Load the dataset\n",
    "file_path = \"\"\n",
    "df = pd.read_csv('./RAW_us_deaths_sample.csv')\n",
    "\n",
    "# Display the first few rows to verify the data structure\n",
    "print(df.head())"
   ]
  },
  {
   "cell_type": "code",
   "execution_count": 18,
   "id": "63438ea9-26f5-4323-858f-94204f6c9d4e",
   "metadata": {},
   "outputs": [],
   "source": [
    "# Extract columns containing the dates and other relevant information\n",
    "date_columns = df.columns[12:]  # Skip the first 12 columns which are not date columns"
   ]
  },
  {
   "cell_type": "code",
   "execution_count": 19,
   "id": "02caed0b-f454-4b47-af02-d8729f5b138d",
   "metadata": {},
   "outputs": [],
   "source": [
    "# Function to extract the year from a date string\n",
    "def get_year(date_str):\n",
    "    return date_str.split('/')[-1]\n",
    "\n",
    "# Create a new DataFrame to store the yearly aggregated data\n",
    "yearly_data = pd.DataFrame()\n",
    "\n",
    "# Iterate through the date columns and aggregate the data by year\n",
    "for date in date_columns:\n",
    "    year = get_year(date)\n",
    "    if f'Total_Deaths_Year_{year}' not in yearly_data.columns:\n",
    "        yearly_data[f'Total_Deaths_Year_{year}'] = 0\n",
    "    yearly_data[f'Total_Deaths_Year_{year}'] += df[date]\n"
   ]
  },
  {
   "cell_type": "code",
   "execution_count": 20,
   "id": "99b07d93-f618-4556-9ceb-94d1a1952653",
   "metadata": {},
   "outputs": [
    {
     "name": "stdout",
     "output_type": "stream",
     "text": [
      "                                      Province_State  Admin2  UID  iso2  iso3  \\\n",
      "0  Alabama,Autauga,84001001,US,USA,840,1001.0,US,...     NaN  NaN   NaN   NaN   \n",
      "1  Alabama,Baldwin,84001003,US,USA,840,1003.0,US,...     NaN  NaN   NaN   NaN   \n",
      "2  Alabama,Barbour,84001005,US,USA,840,1005.0,US,...     NaN  NaN   NaN   NaN   \n",
      "3  Alabama,Bibb,84001007,US,USA,840,1007.0,US,32....     NaN  NaN   NaN   NaN   \n",
      "4  Alabama,Blount,84001009,US,USA,840,1009.0,US,3...     NaN  NaN   NaN   NaN   \n",
      "\n",
      "   code3  FIPS  Country_Region  Lat  Long_  Combined_Key  Population  \\\n",
      "0    NaN   NaN             NaN  NaN    NaN           NaN         NaN   \n",
      "1    NaN   NaN             NaN  NaN    NaN           NaN         NaN   \n",
      "2    NaN   NaN             NaN  NaN    NaN           NaN         NaN   \n",
      "3    NaN   NaN             NaN  NaN    NaN           NaN         NaN   \n",
      "4    NaN   NaN             NaN  NaN    NaN           NaN         NaN   \n",
      "\n",
      "   Total_Deaths_Year_20  Total_Deaths_Year_21  Total_Deaths_Year_22  \\\n",
      "0                   NaN                   NaN                   NaN   \n",
      "1                   NaN                   NaN                   NaN   \n",
      "2                   NaN                   NaN                   NaN   \n",
      "3                   NaN                   NaN                   NaN   \n",
      "4                   NaN                   NaN                   NaN   \n",
      "\n",
      "   Total_Deaths_Year_23  \n",
      "0                   NaN  \n",
      "1                   NaN  \n",
      "2                   NaN  \n",
      "3                   NaN  \n",
      "4                   NaN  \n"
     ]
    }
   ],
   "source": [
    "# Add the non-date columns back to the yearly_data DataFrame\n",
    "yearly_data.insert(0, 'Province_State', df['Province_State'])\n",
    "yearly_data.insert(1, 'Admin2', df['Admin2'])\n",
    "yearly_data.insert(2, 'UID', df['UID'])\n",
    "yearly_data.insert(3, 'iso2', df['iso2'])\n",
    "yearly_data.insert(4, 'iso3', df['iso3'])\n",
    "yearly_data.insert(5, 'code3', df['code3'])\n",
    "yearly_data.insert(6, 'FIPS', df['FIPS'])\n",
    "yearly_data.insert(7, 'Country_Region', df['Country_Region'])\n",
    "yearly_data.insert(8, 'Lat', df['Lat'])\n",
    "yearly_data.insert(9, 'Long_', df['Long_'])\n",
    "yearly_data.insert(10, 'Combined_Key', df['Combined_Key'])\n",
    "yearly_data.insert(11, 'Population', df['Population'])\n",
    "\n",
    "# Display the first few rows of the yearly aggregated data\n",
    "print(yearly_data.head())"
   ]
  },
  {
   "cell_type": "code",
   "execution_count": 21,
   "id": "41f1a554-6403-4d2a-940e-62f917dfd7c3",
   "metadata": {},
   "outputs": [],
   "source": [
    "# Save the yearly aggregated data to a new CSV file\n",
    "yearly_data.to_csv('yearly_aggregated_deaths.csv', index=False)"
   ]
  }
 ],
 "metadata": {
  "kernelspec": {
   "display_name": "Python 3 (ipykernel)",
   "language": "python",
   "name": "python3"
  },
  "language_info": {
   "codemirror_mode": {
    "name": "ipython",
    "version": 3
   },
   "file_extension": ".py",
   "mimetype": "text/x-python",
   "name": "python",
   "nbconvert_exporter": "python",
   "pygments_lexer": "ipython3",
   "version": "3.7.12"
  }
 },
 "nbformat": 4,
 "nbformat_minor": 5
}
