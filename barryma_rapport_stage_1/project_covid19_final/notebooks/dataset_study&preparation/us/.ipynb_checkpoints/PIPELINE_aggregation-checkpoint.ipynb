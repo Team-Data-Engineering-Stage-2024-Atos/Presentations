{
 "cells": [
  {
   "cell_type": "markdown",
   "id": "b91fb687-ba60-4626-ac15-063cfda9ed0b",
   "metadata": {},
   "source": [
    "# PIPELINE - TRANSFORMATION : AGGREGATION BY NUMBER OF CASES/DEATHS PER YEAR/MONTH\n"
   ]
  },
  {
   "cell_type": "code",
   "execution_count": 118,
   "id": "7374fd7a-04ee-4f53-8aee-06285e8cd1ad",
   "metadata": {},
   "outputs": [],
   "source": [
    "import pandas as pd\n",
    "import csv\n",
    "import re\n",
    "\n",
    "topic = 'deaths'\n",
    "agg = 'Y'\n",
    "\n",
    "cleaned_dataset_path = f'CLEANED_us_{topic}.csv'\n",
    "transformed_dataset_path = f\"TRANSFORMED_agg_{'monthly' if agg == 'M' else 'yearly'}_us_{topic}.csv\"\n",
    "\n",
    "DF = pd.read_csv(cleaned_dataset_path)"
   ]
  },
  {
   "cell_type": "markdown",
   "id": "c2e0a0f2-9abd-4e05-ae94-cf4cce9399e9",
   "metadata": {},
   "source": [
    "## Transformation"
   ]
  },
  {
   "cell_type": "code",
   "execution_count": 117,
   "id": "19c6a9b4-45c9-4ca6-8c6d-2c49650d817a",
   "metadata": {},
   "outputs": [],
   "source": [
    "DF_non_date = DF[DF.columns[:8]]\n",
    "\n",
    "DF.columns = pd.to_datetime(DF.columns, errors='coerce', format='%m/%d/%y')\n",
    "\n",
    "DF_new = DF[DF.columns[~DF.columns.isna()]].copy()\n",
    "\n",
    "DF_new.columns = DF_new.columns.to_series().dt.to_period(agg)\n",
    "DF_new = DF_new.groupby(DF_new.columns, axis=1).max()\n",
    "\n",
    "DF_new.columns = DF_new.columns.strftime(f\"Total_{topic}_{'%m_%Y' if agg == 'M' else '%Y'}\")\n",
    "\n",
    "DF = pd.concat([DF_non_date, DF_new], axis=1)\n",
    "\n",
    "DF.to_csv(transformed_dataset_path, index=False)"
   ]
  },
  {
   "cell_type": "code",
   "execution_count": null,
   "id": "6cef658e-a377-4b46-9424-6acd9b41bd09",
   "metadata": {},
   "outputs": [],
   "source": []
  }
 ],
 "metadata": {
  "kernelspec": {
   "display_name": "Python 3 (ipykernel)",
   "language": "python",
   "name": "python3"
  },
  "language_info": {
   "codemirror_mode": {
    "name": "ipython",
    "version": 3
   },
   "file_extension": ".py",
   "mimetype": "text/x-python",
   "name": "python",
   "nbconvert_exporter": "python",
   "pygments_lexer": "ipython3",
   "version": "3.7.12"
  }
 },
 "nbformat": 4,
 "nbformat_minor": 5
}
