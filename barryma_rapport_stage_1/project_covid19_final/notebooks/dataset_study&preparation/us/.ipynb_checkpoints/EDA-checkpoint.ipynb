{
 "cells": [
  {
   "cell_type": "markdown",
   "id": "a2615e66-124e-4cbe-b2b5-6a206f533fec",
   "metadata": {},
   "source": [
    "# EXPLORATORY DATA ANALYSIS OF COVID 19 IN THE US DATASETS"
   ]
  },
  {
   "cell_type": "code",
   "execution_count": 220,
   "id": "afd6bb69-c0b0-4396-b184-217ed2121e0d",
   "metadata": {},
   "outputs": [],
   "source": [
    "import pandas as pd\n",
    "import csv\n",
    "import re\n",
    "\n",
    "topic = 'deaths'\n",
    "original_dataset_path = f'RAW_us_{topic}.csv'\n",
    "cleaned_dataset_path = f'CLEANED_us_{topic}.csv'\n",
    "\n",
    "DF = pd.read_csv(original_dataset_path)"
   ]
  },
  {
   "cell_type": "markdown",
   "id": "2b4c2e24-5d9d-4250-9847-ae8f4c7280cb",
   "metadata": {
    "jp-MarkdownHeadingCollapsed": true,
    "tags": []
   },
   "source": [
    "## CONFIRMED CASES"
   ]
  },
  {
   "cell_type": "markdown",
   "id": "d59f08ca-028c-499d-8e3f-ecd6957374f1",
   "metadata": {
    "jp-MarkdownHeadingCollapsed": true,
    "tags": []
   },
   "source": [
    "### Data Profiling"
   ]
  },
  {
   "cell_type": "code",
   "execution_count": 206,
   "id": "aea50eff-dbfd-4bab-a962-09e87a851505",
   "metadata": {},
   "outputs": [
    {
     "data": {
      "text/html": [
       "<div>\n",
       "<style scoped>\n",
       "    .dataframe tbody tr th:only-of-type {\n",
       "        vertical-align: middle;\n",
       "    }\n",
       "\n",
       "    .dataframe tbody tr th {\n",
       "        vertical-align: top;\n",
       "    }\n",
       "\n",
       "    .dataframe thead th {\n",
       "        text-align: right;\n",
       "    }\n",
       "</style>\n",
       "<table border=\"1\" class=\"dataframe\">\n",
       "  <thead>\n",
       "    <tr style=\"text-align: right;\">\n",
       "      <th></th>\n",
       "      <th>Province_State</th>\n",
       "      <th>Admin2</th>\n",
       "      <th>UID</th>\n",
       "      <th>iso2</th>\n",
       "      <th>iso3</th>\n",
       "      <th>code3</th>\n",
       "      <th>FIPS</th>\n",
       "      <th>Country_Region</th>\n",
       "      <th>Lat</th>\n",
       "      <th>Long_</th>\n",
       "      <th>...</th>\n",
       "      <th>2/28/23</th>\n",
       "      <th>3/1/23</th>\n",
       "      <th>3/2/23</th>\n",
       "      <th>3/3/23</th>\n",
       "      <th>3/4/23</th>\n",
       "      <th>3/5/23</th>\n",
       "      <th>3/6/23</th>\n",
       "      <th>3/7/23</th>\n",
       "      <th>3/8/23</th>\n",
       "      <th>3/9/23</th>\n",
       "    </tr>\n",
       "  </thead>\n",
       "  <tbody>\n",
       "    <tr>\n",
       "      <th>0</th>\n",
       "      <td>Alabama</td>\n",
       "      <td>Autauga</td>\n",
       "      <td>84001001</td>\n",
       "      <td>US</td>\n",
       "      <td>USA</td>\n",
       "      <td>840</td>\n",
       "      <td>1001.0</td>\n",
       "      <td>US</td>\n",
       "      <td>32.539527</td>\n",
       "      <td>-86.644082</td>\n",
       "      <td>...</td>\n",
       "      <td>19732</td>\n",
       "      <td>19759</td>\n",
       "      <td>19759</td>\n",
       "      <td>19759</td>\n",
       "      <td>19759</td>\n",
       "      <td>19759</td>\n",
       "      <td>19759</td>\n",
       "      <td>19759</td>\n",
       "      <td>19790</td>\n",
       "      <td>19790</td>\n",
       "    </tr>\n",
       "    <tr>\n",
       "      <th>1</th>\n",
       "      <td>Alabama</td>\n",
       "      <td>Baldwin</td>\n",
       "      <td>84001003</td>\n",
       "      <td>US</td>\n",
       "      <td>USA</td>\n",
       "      <td>840</td>\n",
       "      <td>1003.0</td>\n",
       "      <td>US</td>\n",
       "      <td>30.727750</td>\n",
       "      <td>-87.722071</td>\n",
       "      <td>...</td>\n",
       "      <td>69641</td>\n",
       "      <td>69767</td>\n",
       "      <td>69767</td>\n",
       "      <td>69767</td>\n",
       "      <td>69767</td>\n",
       "      <td>69767</td>\n",
       "      <td>69767</td>\n",
       "      <td>69767</td>\n",
       "      <td>69860</td>\n",
       "      <td>69860</td>\n",
       "    </tr>\n",
       "    <tr>\n",
       "      <th>2</th>\n",
       "      <td>Alabama</td>\n",
       "      <td>Barbour</td>\n",
       "      <td>84001005</td>\n",
       "      <td>US</td>\n",
       "      <td>USA</td>\n",
       "      <td>840</td>\n",
       "      <td>1005.0</td>\n",
       "      <td>US</td>\n",
       "      <td>31.868263</td>\n",
       "      <td>-85.387129</td>\n",
       "      <td>...</td>\n",
       "      <td>7451</td>\n",
       "      <td>7474</td>\n",
       "      <td>7474</td>\n",
       "      <td>7474</td>\n",
       "      <td>7474</td>\n",
       "      <td>7474</td>\n",
       "      <td>7474</td>\n",
       "      <td>7474</td>\n",
       "      <td>7485</td>\n",
       "      <td>7485</td>\n",
       "    </tr>\n",
       "    <tr>\n",
       "      <th>3</th>\n",
       "      <td>Alabama</td>\n",
       "      <td>Bibb</td>\n",
       "      <td>84001007</td>\n",
       "      <td>US</td>\n",
       "      <td>USA</td>\n",
       "      <td>840</td>\n",
       "      <td>1007.0</td>\n",
       "      <td>US</td>\n",
       "      <td>32.996421</td>\n",
       "      <td>-87.125115</td>\n",
       "      <td>...</td>\n",
       "      <td>8067</td>\n",
       "      <td>8087</td>\n",
       "      <td>8087</td>\n",
       "      <td>8087</td>\n",
       "      <td>8087</td>\n",
       "      <td>8087</td>\n",
       "      <td>8087</td>\n",
       "      <td>8087</td>\n",
       "      <td>8091</td>\n",
       "      <td>8091</td>\n",
       "    </tr>\n",
       "    <tr>\n",
       "      <th>4</th>\n",
       "      <td>Alabama</td>\n",
       "      <td>Blount</td>\n",
       "      <td>84001009</td>\n",
       "      <td>US</td>\n",
       "      <td>USA</td>\n",
       "      <td>840</td>\n",
       "      <td>1009.0</td>\n",
       "      <td>US</td>\n",
       "      <td>33.982109</td>\n",
       "      <td>-86.567906</td>\n",
       "      <td>...</td>\n",
       "      <td>18616</td>\n",
       "      <td>18673</td>\n",
       "      <td>18673</td>\n",
       "      <td>18673</td>\n",
       "      <td>18673</td>\n",
       "      <td>18673</td>\n",
       "      <td>18673</td>\n",
       "      <td>18673</td>\n",
       "      <td>18704</td>\n",
       "      <td>18704</td>\n",
       "    </tr>\n",
       "  </tbody>\n",
       "</table>\n",
       "<p>5 rows × 1154 columns</p>\n",
       "</div>"
      ],
      "text/plain": [
       "  Province_State   Admin2       UID iso2 iso3  code3    FIPS Country_Region  \\\n",
       "0        Alabama  Autauga  84001001   US  USA    840  1001.0             US   \n",
       "1        Alabama  Baldwin  84001003   US  USA    840  1003.0             US   \n",
       "2        Alabama  Barbour  84001005   US  USA    840  1005.0             US   \n",
       "3        Alabama     Bibb  84001007   US  USA    840  1007.0             US   \n",
       "4        Alabama   Blount  84001009   US  USA    840  1009.0             US   \n",
       "\n",
       "         Lat      Long_  ... 2/28/23  3/1/23  3/2/23  3/3/23  3/4/23  3/5/23  \\\n",
       "0  32.539527 -86.644082  ...   19732   19759   19759   19759   19759   19759   \n",
       "1  30.727750 -87.722071  ...   69641   69767   69767   69767   69767   69767   \n",
       "2  31.868263 -85.387129  ...    7451    7474    7474    7474    7474    7474   \n",
       "3  32.996421 -87.125115  ...    8067    8087    8087    8087    8087    8087   \n",
       "4  33.982109 -86.567906  ...   18616   18673   18673   18673   18673   18673   \n",
       "\n",
       "   3/6/23  3/7/23  3/8/23  3/9/23  \n",
       "0   19759   19759   19790   19790  \n",
       "1   69767   69767   69860   69860  \n",
       "2    7474    7474    7485    7485  \n",
       "3    8087    8087    8091    8091  \n",
       "4   18673   18673   18704   18704  \n",
       "\n",
       "[5 rows x 1154 columns]"
      ]
     },
     "execution_count": 206,
     "metadata": {},
     "output_type": "execute_result"
    }
   ],
   "source": [
    "DF.head()"
   ]
  },
  {
   "cell_type": "code",
   "execution_count": 109,
   "id": "cd00d5a2-4f88-43c6-aba1-ea73148ba152",
   "metadata": {},
   "outputs": [
    {
     "data": {
      "text/plain": [
       "(3342, 1154)"
      ]
     },
     "execution_count": 109,
     "metadata": {},
     "output_type": "execute_result"
    }
   ],
   "source": [
    "DF.shape"
   ]
  },
  {
   "cell_type": "code",
   "execution_count": 65,
   "id": "8b44adfb-c5c8-4b3e-a53f-f6b2a26acd2b",
   "metadata": {},
   "outputs": [],
   "source": [
    "cols = DF[DF.columns[:11]].columns"
   ]
  },
  {
   "cell_type": "code",
   "execution_count": 93,
   "id": "97995cc0-8154-4d5b-8547-6e80ed51951e",
   "metadata": {},
   "outputs": [
    {
     "data": {
      "text/plain": [
       "False"
      ]
     },
     "execution_count": 93,
     "metadata": {},
     "output_type": "execute_result"
    }
   ],
   "source": [
    "DF[cols].duplicated().any()"
   ]
  },
  {
   "cell_type": "code",
   "execution_count": 108,
   "id": "456022fb-4204-440c-8a25-a687097e6abe",
   "metadata": {},
   "outputs": [
    {
     "name": "stdout",
     "output_type": "stream",
     "text": [
      "Province_State  :  ['Alabama' 'Alaska' 'American Samoa' 'Arizona' 'Arkansas' 'California'\n",
      " 'Colorado' 'Connecticut' 'Delaware' 'Diamond Princess'\n",
      " 'District of Columbia' 'Florida' 'Georgia' 'Grand Princess' 'Guam'\n",
      " 'Hawaii' 'Idaho' 'Illinois' 'Indiana' 'Iowa' 'Kansas' 'Kentucky'\n",
      " 'Louisiana' 'Maine' 'Maryland' 'Massachusetts' 'Michigan' 'Minnesota'\n",
      " 'Mississippi' 'Missouri' 'Montana' 'Nebraska' 'Nevada' 'New Hampshire'\n",
      " 'New Jersey' 'New Mexico' 'New York' 'North Carolina' 'North Dakota'\n",
      " 'Northern Mariana Islands' 'Ohio' 'Oklahoma' 'Oregon' 'Pennsylvania'\n",
      " 'Puerto Rico' 'Rhode Island' 'South Carolina' 'South Dakota' 'Tennessee'\n",
      " 'Texas' 'Utah' 'Vermont' 'Virgin Islands' 'Virginia' 'Washington'\n",
      " 'West Virginia' 'Wisconsin' 'Wyoming']\n",
      "Admin2  :  ['Autauga' 'Baldwin' 'Barbour' ... 'Uinta' 'Washakie' 'Weston']\n",
      "UID  :  [84001001 84001003 84001005 ... 84090056 84056043 84056045]\n",
      "iso2  :  ['US' 'AS' 'GU' 'MP' 'PR' 'VI']\n",
      "iso3  :  ['USA' 'ASM' 'GUM' 'MNP' 'PRI' 'VIR']\n",
      "code3  :  [840  16 316 580 630 850]\n",
      "FIPS  :  [ 1001.  1003.  1005. ... 90056. 56043. 56045.]\n",
      "Country_Region  :  ['US']\n",
      "Lat  :  [32.53952745 30.72774991 31.868263   ... 41.2878183  43.90451606\n",
      " 43.83961191]\n",
      "Long_  :  [ -86.64408227  -87.72207058  -85.3871286  ... -110.5475782  -107.680187\n",
      " -104.5674881 ]\n",
      "Combined_Key  :  ['Autauga, Alabama, US' 'Baldwin, Alabama, US' 'Barbour, Alabama, US' ...\n",
      " 'Unassigned, Wyoming, US' 'Washakie, Wyoming, US' 'Weston, Wyoming, US']\n"
     ]
    }
   ],
   "source": [
    "for col in cols:\n",
    "    print(col,\" : \", DF[col].unique())"
   ]
  },
  {
   "cell_type": "code",
   "execution_count": 17,
   "id": "60e07f21-e973-4396-8dd3-cb5e09ca9428",
   "metadata": {},
   "outputs": [
    {
     "name": "stdout",
     "output_type": "stream",
     "text": [
      "<class 'pandas.core.frame.DataFrame'>\n",
      "RangeIndex: 3342 entries, 0 to 3341\n",
      "Columns: 1154 entries, Province_State to 3/9/23\n",
      "dtypes: float64(3), int64(1145), object(6)\n",
      "memory usage: 29.4+ MB\n"
     ]
    }
   ],
   "source": [
    "DF.info()"
   ]
  },
  {
   "cell_type": "code",
   "execution_count": 19,
   "id": "a760f84f-d259-484d-a5c9-6d8345463175",
   "metadata": {},
   "outputs": [
    {
     "data": {
      "text/plain": [
       "Province_State    object\n",
       "Admin2            object\n",
       "UID                int64\n",
       "iso2              object\n",
       "iso3              object\n",
       "                   ...  \n",
       "3/5/23             int64\n",
       "3/6/23             int64\n",
       "3/7/23             int64\n",
       "3/8/23             int64\n",
       "3/9/23             int64\n",
       "Length: 1154, dtype: object"
      ]
     },
     "execution_count": 19,
     "metadata": {},
     "output_type": "execute_result"
    }
   ],
   "source": [
    "DF.dtypes"
   ]
  },
  {
   "cell_type": "code",
   "execution_count": 20,
   "id": "36d2a459-97d5-4165-b1fe-f8ca0b4b2d2a",
   "metadata": {},
   "outputs": [
    {
     "data": {
      "text/html": [
       "<div>\n",
       "<style scoped>\n",
       "    .dataframe tbody tr th:only-of-type {\n",
       "        vertical-align: middle;\n",
       "    }\n",
       "\n",
       "    .dataframe tbody tr th {\n",
       "        vertical-align: top;\n",
       "    }\n",
       "\n",
       "    .dataframe thead th {\n",
       "        text-align: right;\n",
       "    }\n",
       "</style>\n",
       "<table border=\"1\" class=\"dataframe\">\n",
       "  <thead>\n",
       "    <tr style=\"text-align: right;\">\n",
       "      <th></th>\n",
       "      <th>UID</th>\n",
       "      <th>code3</th>\n",
       "      <th>FIPS</th>\n",
       "      <th>Lat</th>\n",
       "      <th>Long_</th>\n",
       "      <th>1/22/20</th>\n",
       "      <th>1/23/20</th>\n",
       "      <th>1/24/20</th>\n",
       "      <th>1/25/20</th>\n",
       "      <th>1/26/20</th>\n",
       "      <th>...</th>\n",
       "      <th>2/28/23</th>\n",
       "      <th>3/1/23</th>\n",
       "      <th>3/2/23</th>\n",
       "      <th>3/3/23</th>\n",
       "      <th>3/4/23</th>\n",
       "      <th>3/5/23</th>\n",
       "      <th>3/6/23</th>\n",
       "      <th>3/7/23</th>\n",
       "      <th>3/8/23</th>\n",
       "      <th>3/9/23</th>\n",
       "    </tr>\n",
       "  </thead>\n",
       "  <tbody>\n",
       "    <tr>\n",
       "      <th>count</th>\n",
       "      <td>3.342000e+03</td>\n",
       "      <td>3342.000000</td>\n",
       "      <td>3332.000000</td>\n",
       "      <td>3342.000000</td>\n",
       "      <td>3342.000000</td>\n",
       "      <td>3342.000000</td>\n",
       "      <td>3342.000000</td>\n",
       "      <td>3342.000000</td>\n",
       "      <td>3342.000000</td>\n",
       "      <td>3342.000000</td>\n",
       "      <td>...</td>\n",
       "      <td>3.342000e+03</td>\n",
       "      <td>3.342000e+03</td>\n",
       "      <td>3.342000e+03</td>\n",
       "      <td>3.342000e+03</td>\n",
       "      <td>3.342000e+03</td>\n",
       "      <td>3.342000e+03</td>\n",
       "      <td>3.342000e+03</td>\n",
       "      <td>3.342000e+03</td>\n",
       "      <td>3.342000e+03</td>\n",
       "      <td>3.342000e+03</td>\n",
       "    </tr>\n",
       "    <tr>\n",
       "      <th>mean</th>\n",
       "      <td>8.342992e+07</td>\n",
       "      <td>834.494913</td>\n",
       "      <td>33043.078932</td>\n",
       "      <td>36.721617</td>\n",
       "      <td>-88.642045</td>\n",
       "      <td>0.000299</td>\n",
       "      <td>0.000299</td>\n",
       "      <td>0.000598</td>\n",
       "      <td>0.000598</td>\n",
       "      <td>0.001496</td>\n",
       "      <td>...</td>\n",
       "      <td>3.095256e+04</td>\n",
       "      <td>3.097961e+04</td>\n",
       "      <td>3.099634e+04</td>\n",
       "      <td>3.101397e+04</td>\n",
       "      <td>3.101461e+04</td>\n",
       "      <td>3.101346e+04</td>\n",
       "      <td>3.101602e+04</td>\n",
       "      <td>3.102660e+04</td>\n",
       "      <td>3.104601e+04</td>\n",
       "      <td>3.106005e+04</td>\n",
       "    </tr>\n",
       "    <tr>\n",
       "      <th>std</th>\n",
       "      <td>4.314076e+06</td>\n",
       "      <td>36.487378</td>\n",
       "      <td>18648.808931</td>\n",
       "      <td>9.079322</td>\n",
       "      <td>21.776287</td>\n",
       "      <td>0.017298</td>\n",
       "      <td>0.017298</td>\n",
       "      <td>0.024459</td>\n",
       "      <td>0.024459</td>\n",
       "      <td>0.038656</td>\n",
       "      <td>...</td>\n",
       "      <td>1.080476e+05</td>\n",
       "      <td>1.081128e+05</td>\n",
       "      <td>1.081972e+05</td>\n",
       "      <td>1.083087e+05</td>\n",
       "      <td>1.083093e+05</td>\n",
       "      <td>1.083090e+05</td>\n",
       "      <td>1.083152e+05</td>\n",
       "      <td>1.083322e+05</td>\n",
       "      <td>1.083601e+05</td>\n",
       "      <td>1.084494e+05</td>\n",
       "    </tr>\n",
       "    <tr>\n",
       "      <th>min</th>\n",
       "      <td>1.600000e+01</td>\n",
       "      <td>16.000000</td>\n",
       "      <td>60.000000</td>\n",
       "      <td>-14.271000</td>\n",
       "      <td>-174.159600</td>\n",
       "      <td>0.000000</td>\n",
       "      <td>0.000000</td>\n",
       "      <td>0.000000</td>\n",
       "      <td>0.000000</td>\n",
       "      <td>0.000000</td>\n",
       "      <td>...</td>\n",
       "      <td>0.000000e+00</td>\n",
       "      <td>0.000000e+00</td>\n",
       "      <td>0.000000e+00</td>\n",
       "      <td>0.000000e+00</td>\n",
       "      <td>0.000000e+00</td>\n",
       "      <td>0.000000e+00</td>\n",
       "      <td>0.000000e+00</td>\n",
       "      <td>0.000000e+00</td>\n",
       "      <td>0.000000e+00</td>\n",
       "      <td>0.000000e+00</td>\n",
       "    </tr>\n",
       "    <tr>\n",
       "      <th>25%</th>\n",
       "      <td>8.401811e+07</td>\n",
       "      <td>840.000000</td>\n",
       "      <td>19076.500000</td>\n",
       "      <td>33.896803</td>\n",
       "      <td>-97.803595</td>\n",
       "      <td>0.000000</td>\n",
       "      <td>0.000000</td>\n",
       "      <td>0.000000</td>\n",
       "      <td>0.000000</td>\n",
       "      <td>0.000000</td>\n",
       "      <td>...</td>\n",
       "      <td>2.911000e+03</td>\n",
       "      <td>2.916250e+03</td>\n",
       "      <td>2.920250e+03</td>\n",
       "      <td>2.920250e+03</td>\n",
       "      <td>2.920250e+03</td>\n",
       "      <td>2.920250e+03</td>\n",
       "      <td>2.920250e+03</td>\n",
       "      <td>2.923000e+03</td>\n",
       "      <td>2.917500e+03</td>\n",
       "      <td>2.917500e+03</td>\n",
       "    </tr>\n",
       "    <tr>\n",
       "      <th>50%</th>\n",
       "      <td>8.402921e+07</td>\n",
       "      <td>840.000000</td>\n",
       "      <td>31012.000000</td>\n",
       "      <td>38.005610</td>\n",
       "      <td>-89.488865</td>\n",
       "      <td>0.000000</td>\n",
       "      <td>0.000000</td>\n",
       "      <td>0.000000</td>\n",
       "      <td>0.000000</td>\n",
       "      <td>0.000000</td>\n",
       "      <td>...</td>\n",
       "      <td>7.707000e+03</td>\n",
       "      <td>7.713000e+03</td>\n",
       "      <td>7.724500e+03</td>\n",
       "      <td>7.724500e+03</td>\n",
       "      <td>7.724500e+03</td>\n",
       "      <td>7.724500e+03</td>\n",
       "      <td>7.724500e+03</td>\n",
       "      <td>7.735500e+03</td>\n",
       "      <td>7.735500e+03</td>\n",
       "      <td>7.750000e+03</td>\n",
       "    </tr>\n",
       "    <tr>\n",
       "      <th>75%</th>\n",
       "      <td>8.404612e+07</td>\n",
       "      <td>840.000000</td>\n",
       "      <td>47129.500000</td>\n",
       "      <td>41.579255</td>\n",
       "      <td>-82.313398</td>\n",
       "      <td>0.000000</td>\n",
       "      <td>0.000000</td>\n",
       "      <td>0.000000</td>\n",
       "      <td>0.000000</td>\n",
       "      <td>0.000000</td>\n",
       "      <td>...</td>\n",
       "      <td>2.025800e+04</td>\n",
       "      <td>2.030300e+04</td>\n",
       "      <td>2.030375e+04</td>\n",
       "      <td>2.031275e+04</td>\n",
       "      <td>2.031275e+04</td>\n",
       "      <td>2.031275e+04</td>\n",
       "      <td>2.031950e+04</td>\n",
       "      <td>2.033450e+04</td>\n",
       "      <td>2.034500e+04</td>\n",
       "      <td>2.034875e+04</td>\n",
       "    </tr>\n",
       "    <tr>\n",
       "      <th>max</th>\n",
       "      <td>8.410000e+07</td>\n",
       "      <td>850.000000</td>\n",
       "      <td>99999.000000</td>\n",
       "      <td>69.314792</td>\n",
       "      <td>145.673900</td>\n",
       "      <td>1.000000</td>\n",
       "      <td>1.000000</td>\n",
       "      <td>1.000000</td>\n",
       "      <td>1.000000</td>\n",
       "      <td>1.000000</td>\n",
       "      <td>...</td>\n",
       "      <td>3.697797e+06</td>\n",
       "      <td>3.697797e+06</td>\n",
       "      <td>3.704034e+06</td>\n",
       "      <td>3.705381e+06</td>\n",
       "      <td>3.705381e+06</td>\n",
       "      <td>3.705381e+06</td>\n",
       "      <td>3.705381e+06</td>\n",
       "      <td>3.705381e+06</td>\n",
       "      <td>3.705381e+06</td>\n",
       "      <td>3.710586e+06</td>\n",
       "    </tr>\n",
       "  </tbody>\n",
       "</table>\n",
       "<p>8 rows × 1148 columns</p>\n",
       "</div>"
      ],
      "text/plain": [
       "                UID        code3          FIPS          Lat        Long_  \\\n",
       "count  3.342000e+03  3342.000000   3332.000000  3342.000000  3342.000000   \n",
       "mean   8.342992e+07   834.494913  33043.078932    36.721617   -88.642045   \n",
       "std    4.314076e+06    36.487378  18648.808931     9.079322    21.776287   \n",
       "min    1.600000e+01    16.000000     60.000000   -14.271000  -174.159600   \n",
       "25%    8.401811e+07   840.000000  19076.500000    33.896803   -97.803595   \n",
       "50%    8.402921e+07   840.000000  31012.000000    38.005610   -89.488865   \n",
       "75%    8.404612e+07   840.000000  47129.500000    41.579255   -82.313398   \n",
       "max    8.410000e+07   850.000000  99999.000000    69.314792   145.673900   \n",
       "\n",
       "           1/22/20      1/23/20      1/24/20      1/25/20      1/26/20  ...  \\\n",
       "count  3342.000000  3342.000000  3342.000000  3342.000000  3342.000000  ...   \n",
       "mean      0.000299     0.000299     0.000598     0.000598     0.001496  ...   \n",
       "std       0.017298     0.017298     0.024459     0.024459     0.038656  ...   \n",
       "min       0.000000     0.000000     0.000000     0.000000     0.000000  ...   \n",
       "25%       0.000000     0.000000     0.000000     0.000000     0.000000  ...   \n",
       "50%       0.000000     0.000000     0.000000     0.000000     0.000000  ...   \n",
       "75%       0.000000     0.000000     0.000000     0.000000     0.000000  ...   \n",
       "max       1.000000     1.000000     1.000000     1.000000     1.000000  ...   \n",
       "\n",
       "            2/28/23        3/1/23        3/2/23        3/3/23        3/4/23  \\\n",
       "count  3.342000e+03  3.342000e+03  3.342000e+03  3.342000e+03  3.342000e+03   \n",
       "mean   3.095256e+04  3.097961e+04  3.099634e+04  3.101397e+04  3.101461e+04   \n",
       "std    1.080476e+05  1.081128e+05  1.081972e+05  1.083087e+05  1.083093e+05   \n",
       "min    0.000000e+00  0.000000e+00  0.000000e+00  0.000000e+00  0.000000e+00   \n",
       "25%    2.911000e+03  2.916250e+03  2.920250e+03  2.920250e+03  2.920250e+03   \n",
       "50%    7.707000e+03  7.713000e+03  7.724500e+03  7.724500e+03  7.724500e+03   \n",
       "75%    2.025800e+04  2.030300e+04  2.030375e+04  2.031275e+04  2.031275e+04   \n",
       "max    3.697797e+06  3.697797e+06  3.704034e+06  3.705381e+06  3.705381e+06   \n",
       "\n",
       "             3/5/23        3/6/23        3/7/23        3/8/23        3/9/23  \n",
       "count  3.342000e+03  3.342000e+03  3.342000e+03  3.342000e+03  3.342000e+03  \n",
       "mean   3.101346e+04  3.101602e+04  3.102660e+04  3.104601e+04  3.106005e+04  \n",
       "std    1.083090e+05  1.083152e+05  1.083322e+05  1.083601e+05  1.084494e+05  \n",
       "min    0.000000e+00  0.000000e+00  0.000000e+00  0.000000e+00  0.000000e+00  \n",
       "25%    2.920250e+03  2.920250e+03  2.923000e+03  2.917500e+03  2.917500e+03  \n",
       "50%    7.724500e+03  7.724500e+03  7.735500e+03  7.735500e+03  7.750000e+03  \n",
       "75%    2.031275e+04  2.031950e+04  2.033450e+04  2.034500e+04  2.034875e+04  \n",
       "max    3.705381e+06  3.705381e+06  3.705381e+06  3.705381e+06  3.710586e+06  \n",
       "\n",
       "[8 rows x 1148 columns]"
      ]
     },
     "execution_count": 20,
     "metadata": {},
     "output_type": "execute_result"
    }
   ],
   "source": [
    "DF.describe()"
   ]
  },
  {
   "cell_type": "code",
   "execution_count": 21,
   "id": "d4a20fd0-0020-41f8-b4c0-db0a72fb0ff7",
   "metadata": {},
   "outputs": [
    {
     "data": {
      "text/plain": [
       "Index(['Admin2', 'FIPS'], dtype='object')"
      ]
     },
     "execution_count": 21,
     "metadata": {},
     "output_type": "execute_result"
    }
   ],
   "source": [
    "DF.columns[DF.isnull().any()]"
   ]
  },
  {
   "cell_type": "code",
   "execution_count": 22,
   "id": "ab5527d2-cd50-451c-af22-7391cca0a5dc",
   "metadata": {},
   "outputs": [
    {
     "name": "stdout",
     "output_type": "stream",
     "text": [
      "0          Autauga\n",
      "1          Baldwin\n",
      "2          Barbour\n",
      "3             Bibb\n",
      "4           Blount\n",
      "           ...    \n",
      "3337         Teton\n",
      "3338         Uinta\n",
      "3339    Unassigned\n",
      "3340      Washakie\n",
      "3341        Weston\n",
      "Name: Admin2, Length: 3342, dtype: object\n",
      "0        1001.0\n",
      "1        1003.0\n",
      "2        1005.0\n",
      "3        1007.0\n",
      "4        1009.0\n",
      "         ...   \n",
      "3337    56039.0\n",
      "3338    56041.0\n",
      "3339    90056.0\n",
      "3340    56043.0\n",
      "3341    56045.0\n",
      "Name: FIPS, Length: 3342, dtype: float64\n"
     ]
    }
   ],
   "source": [
    "print(DF['Admin2'])\n",
    "print(DF['FIPS'])"
   ]
  },
  {
   "cell_type": "markdown",
   "id": "37e77217-2616-4ad4-8378-39f3a31a0d07",
   "metadata": {
    "jp-MarkdownHeadingCollapsed": true,
    "tags": []
   },
   "source": [
    "### Data Cleaning"
   ]
  },
  {
   "cell_type": "markdown",
   "id": "da4c845d-93d5-4e24-b4d5-af7c5c6ec55c",
   "metadata": {
    "jp-MarkdownHeadingCollapsed": true,
    "tags": []
   },
   "source": [
    "#### Extraction of the data"
   ]
  },
  {
   "cell_type": "code",
   "execution_count": null,
   "id": "77f3fcde-4f86-4992-b4f2-0c493b191119",
   "metadata": {},
   "outputs": [],
   "source": [
    "# data = DF[\"Province_State\"]\n",
    "\n",
    "# col_index_max = DF.shape[0]\n",
    "\n",
    "# columns = (DF.columns).tolist()\n",
    "\n",
    "# row_values = []\n",
    "# my_dict = {}\n",
    "    \n",
    "# for i in range(0, col_index_max):\n",
    "#     input_string = data[i]\n",
    "    \n",
    "#     parts = input_string.split('\\\"')\n",
    "#     dict = {}\n",
    "\n",
    "#     for j, part in enumerate(parts, 1):\n",
    "#         list_part = [elm.replace('\\\"', '') for elm in part.split(',') if elm]\n",
    "\n",
    "#         if len(list_part) != 3:\n",
    "#             my_dict[str(j)] = list_part\n",
    "\n",
    "#     values_list = [val for sublist in my_dict.values() for val in sublist]\n",
    "\n",
    "#     row_values.append(tuple(values_list))\n",
    "\n",
    "    \n",
    "# cleaned_us_list = [(key, *value) for key, value in zip(columns, row_values)]\n",
    "\n",
    "# with open(cleaned_dataset_path, 'w') as csvfile:\n",
    "#     csvwriter = csv.writer(csvfile)\n",
    "    \n",
    "#     csvwriter.writerows(cleaned_us_list)"
   ]
  },
  {
   "cell_type": "markdown",
   "id": "807f7bb4-a961-4580-94fd-d241413281ad",
   "metadata": {},
   "source": [
    "#### Separation and conversion of data"
   ]
  },
  {
   "cell_type": "code",
   "execution_count": 208,
   "id": "5dd5b275-1b22-4111-b44a-aab101452637",
   "metadata": {},
   "outputs": [],
   "source": [
    "cat_cols = list(DF.columns[:2]) + list(DF.columns[3:5]) + [DF.columns[10]]\n",
    "DF[cat_cols] = DF[cat_cols].astype('category')"
   ]
  },
  {
   "cell_type": "code",
   "execution_count": 209,
   "id": "5e1d376c-3bf3-40e5-89d1-69de789bd7e0",
   "metadata": {},
   "outputs": [],
   "source": [
    "int_cols = [DF.columns[2]] + [DF.columns[5]]\n",
    "DF[int_cols] = DF[int_cols].astype('int')"
   ]
  },
  {
   "cell_type": "code",
   "execution_count": 210,
   "id": "9fde3df0-28c8-45c5-a9fc-96155f31ef9c",
   "metadata": {},
   "outputs": [],
   "source": [
    "float_cols = [DF.columns[6]] + list(DF.columns[8:10])\n",
    "DF[float_cols] = DF[float_cols].astype('float')"
   ]
  },
  {
   "cell_type": "code",
   "execution_count": 211,
   "id": "797dd831-33c3-4faa-9b24-60b50f19d211",
   "metadata": {},
   "outputs": [],
   "source": [
    "DF['Combined_Key'] = DF['Combined_Key'].astype('str')"
   ]
  },
  {
   "cell_type": "code",
   "execution_count": 212,
   "id": "14f06650-b5b5-4471-90ae-3617c0286ec7",
   "metadata": {},
   "outputs": [],
   "source": [
    "date_cols = DF.columns[11:]\n",
    "\n",
    "DF[date_cols] = DF[date_cols].astype('int')"
   ]
  },
  {
   "cell_type": "code",
   "execution_count": 213,
   "id": "d5c53d1e-6fe2-411d-9e1d-4bfef28a0b4b",
   "metadata": {},
   "outputs": [
    {
     "name": "stdout",
     "output_type": "stream",
     "text": [
      "Province_State    category\n",
      "Admin2            category\n",
      "UID                  int64\n",
      "iso2              category\n",
      "iso3              category\n",
      "                    ...   \n",
      "3/5/23               int64\n",
      "3/6/23               int64\n",
      "3/7/23               int64\n",
      "3/8/23               int64\n",
      "3/9/23               int64\n",
      "Length: 1154, dtype: object\n"
     ]
    }
   ],
   "source": [
    "print(DF.dtypes)"
   ]
  },
  {
   "cell_type": "markdown",
   "id": "075ea867-1485-4cbf-8129-3a9ef19590e1",
   "metadata": {},
   "source": [
    "#### Removing of unnecessary data and null values"
   ]
  },
  {
   "cell_type": "code",
   "execution_count": 214,
   "id": "23bf4e7b-b85a-47d5-bc86-3aef7fc09897",
   "metadata": {},
   "outputs": [
    {
     "name": "stdout",
     "output_type": "stream",
     "text": [
      "True\n",
      "True\n"
     ]
    }
   ],
   "source": [
    "print(DF['Admin2'].isnull().any())\n",
    "print(DF['FIPS'].isnull().any())"
   ]
  },
  {
   "cell_type": "code",
   "execution_count": 215,
   "id": "5af73b79-975f-4e77-a9c2-3fd4054aa8b3",
   "metadata": {},
   "outputs": [],
   "source": [
    "if 'Unknown' not in DF['Admin2'].cat.categories:\n",
    "    DF['Admin2'] = DF['Admin2'].cat.add_categories('Unknown')\n",
    "\n",
    "DF['Admin2'] = DF['Admin2'].fillna('Unknown')"
   ]
  },
  {
   "cell_type": "code",
   "execution_count": 216,
   "id": "a4c3dd44-5fdc-4029-8de2-73aaf06f1368",
   "metadata": {},
   "outputs": [],
   "source": [
    "median_fips = DF['FIPS'].median()\n",
    "DF['FIPS'] = DF['FIPS'].fillna(median_fips)"
   ]
  },
  {
   "cell_type": "code",
   "execution_count": 217,
   "id": "c8f06588-7401-4d2d-8b4e-0932c76b6d90",
   "metadata": {},
   "outputs": [],
   "source": [
    "DF.drop(['Combined_Key', 'Country_Region', 'FIPS'], axis=1, inplace=True)"
   ]
  },
  {
   "cell_type": "code",
   "execution_count": 218,
   "id": "d585caec-b93c-42ab-b80b-ce0057bcd9a2",
   "metadata": {},
   "outputs": [
    {
     "data": {
      "text/plain": [
       "Index(['Province_State', 'Admin2', 'UID', 'iso2', 'iso3', 'code3', 'Lat',\n",
       "       'Long_', '1/22/20', '1/23/20',\n",
       "       ...\n",
       "       '2/28/23', '3/1/23', '3/2/23', '3/3/23', '3/4/23', '3/5/23', '3/6/23',\n",
       "       '3/7/23', '3/8/23', '3/9/23'],\n",
       "      dtype='object', length=1151)"
      ]
     },
     "execution_count": 218,
     "metadata": {},
     "output_type": "execute_result"
    }
   ],
   "source": [
    "DF.columns"
   ]
  },
  {
   "cell_type": "code",
   "execution_count": 219,
   "id": "17b031f4-5d22-4f02-9c9c-f7d8653441b1",
   "metadata": {},
   "outputs": [],
   "source": [
    "DF.to_csv(cleaned_dataset_path, index=False)"
   ]
  },
  {
   "cell_type": "markdown",
   "id": "1ead5885-4f8d-4884-88a4-612ec5b3cb6c",
   "metadata": {
    "jp-MarkdownHeadingCollapsed": true,
    "tags": []
   },
   "source": [
    "### Advanced cleaning / Preprocessing"
   ]
  },
  {
   "cell_type": "code",
   "execution_count": null,
   "id": "6f570e22-01ef-4ed2-8394-738a52643e90",
   "metadata": {},
   "outputs": [],
   "source": [
    "DF_desc = DF[DF.columns[:11]]\n",
    "DF_date = DF[DF.columns[11:]]\n",
    "\n",
    "print(DF_desc.head(2))\n",
    "print(\"-- * --\"*10)\n",
    "print(DF_date.tail(2))\n",
    "\n",
    "date_cols = DF.columns[11:]\n",
    "\n",
    "DF[date_cols] = DF[date_cols].apply(pd.to_datetime)"
   ]
  },
  {
   "cell_type": "markdown",
   "id": "00a7ac39-1258-4ff0-ac01-e290abf416fd",
   "metadata": {
    "jp-MarkdownHeadingCollapsed": true,
    "tags": []
   },
   "source": [
    "### Univariate Analysis:"
   ]
  },
  {
   "cell_type": "raw",
   "id": "209139d9-0780-480c-a7fe-409c779ece4e",
   "metadata": {},
   "source": [
    "In this phase, each variable in the dataset is analyzed individually to understand its distribution, detect outliers, etc. The output of this phase is a set of statistics and visualizations for each variable."
   ]
  },
  {
   "cell_type": "markdown",
   "id": "9cd8fe83-0f22-4f2a-bdb3-05288803366f",
   "metadata": {
    "jp-MarkdownHeadingCollapsed": true,
    "tags": []
   },
   "source": [
    "### Bivariate/Multivariate Analysis: "
   ]
  },
  {
   "cell_type": "raw",
   "id": "8bdfb678-87a4-48d4-afce-6efff13b7e0b",
   "metadata": {},
   "source": [
    "Here, the relationships between two or more variables are analyzed. This could involve creating scatter plots, correlation matrices, etc. The output of this phase is an understanding of the relationships between variables."
   ]
  },
  {
   "cell_type": "markdown",
   "id": "59e1de3f-d3d1-4f33-974a-c14462ab3b7a",
   "metadata": {
    "jp-MarkdownHeadingCollapsed": true,
    "tags": []
   },
   "source": [
    "### Data Visualization: "
   ]
  },
  {
   "cell_type": "raw",
   "id": "c2971d93-5390-4db7-8298-d8b26ab1ddae",
   "metadata": {},
   "source": [
    "This phase involves creating visual representations of the data to understand patterns, trends, and relationships in the data. The output of this phase is a set of plots and charts that represent the data."
   ]
  },
  {
   "cell_type": "markdown",
   "id": "61d47554-9fcb-4039-b0d3-6b33a24d9084",
   "metadata": {
    "jp-MarkdownHeadingCollapsed": true,
    "tags": []
   },
   "source": [
    "### Insights Generation: "
   ]
  },
  {
   "cell_type": "raw",
   "id": "aca38d8d-9724-4b0a-9395-46795ad00ba6",
   "metadata": {},
   "source": [
    "Based on the above analyses, meaningful insights are generated from the data. The output of this phase is a set of insights that can guide further data analysis or predictive modeling."
   ]
  },
  {
   "cell_type": "markdown",
   "id": "814b1336-89b5-4320-8189-de4b5aedc1cc",
   "metadata": {
    "jp-MarkdownHeadingCollapsed": true,
    "tags": []
   },
   "source": [
    "## DEATHS"
   ]
  },
  {
   "cell_type": "markdown",
   "id": "c40c9095-1958-42e5-93a1-3e2ff5dc5a31",
   "metadata": {
    "tags": []
   },
   "source": [
    "### Data Profiling"
   ]
  },
  {
   "cell_type": "code",
   "execution_count": 221,
   "id": "edf0809a-2d2a-4570-9fcf-955235ba0bc5",
   "metadata": {},
   "outputs": [
    {
     "data": {
      "text/html": [
       "<div>\n",
       "<style scoped>\n",
       "    .dataframe tbody tr th:only-of-type {\n",
       "        vertical-align: middle;\n",
       "    }\n",
       "\n",
       "    .dataframe tbody tr th {\n",
       "        vertical-align: top;\n",
       "    }\n",
       "\n",
       "    .dataframe thead th {\n",
       "        text-align: right;\n",
       "    }\n",
       "</style>\n",
       "<table border=\"1\" class=\"dataframe\">\n",
       "  <thead>\n",
       "    <tr style=\"text-align: right;\">\n",
       "      <th></th>\n",
       "      <th>Province_State</th>\n",
       "      <th>Admin2</th>\n",
       "      <th>UID</th>\n",
       "      <th>iso2</th>\n",
       "      <th>iso3</th>\n",
       "      <th>code3</th>\n",
       "      <th>FIPS</th>\n",
       "      <th>Country_Region</th>\n",
       "      <th>Lat</th>\n",
       "      <th>Long_</th>\n",
       "      <th>...</th>\n",
       "      <th>2/28/23</th>\n",
       "      <th>3/1/23</th>\n",
       "      <th>3/2/23</th>\n",
       "      <th>3/3/23</th>\n",
       "      <th>3/4/23</th>\n",
       "      <th>3/5/23</th>\n",
       "      <th>3/6/23</th>\n",
       "      <th>3/7/23</th>\n",
       "      <th>3/8/23</th>\n",
       "      <th>3/9/23</th>\n",
       "    </tr>\n",
       "  </thead>\n",
       "  <tbody>\n",
       "    <tr>\n",
       "      <th>0</th>\n",
       "      <td>Alabama</td>\n",
       "      <td>Autauga</td>\n",
       "      <td>84001001</td>\n",
       "      <td>US</td>\n",
       "      <td>USA</td>\n",
       "      <td>840</td>\n",
       "      <td>1001.0</td>\n",
       "      <td>US</td>\n",
       "      <td>32.539527</td>\n",
       "      <td>-86.644082</td>\n",
       "      <td>...</td>\n",
       "      <td>230</td>\n",
       "      <td>232</td>\n",
       "      <td>232</td>\n",
       "      <td>232</td>\n",
       "      <td>232</td>\n",
       "      <td>232</td>\n",
       "      <td>232</td>\n",
       "      <td>232</td>\n",
       "      <td>232</td>\n",
       "      <td>232</td>\n",
       "    </tr>\n",
       "    <tr>\n",
       "      <th>1</th>\n",
       "      <td>Alabama</td>\n",
       "      <td>Baldwin</td>\n",
       "      <td>84001003</td>\n",
       "      <td>US</td>\n",
       "      <td>USA</td>\n",
       "      <td>840</td>\n",
       "      <td>1003.0</td>\n",
       "      <td>US</td>\n",
       "      <td>30.727750</td>\n",
       "      <td>-87.722071</td>\n",
       "      <td>...</td>\n",
       "      <td>724</td>\n",
       "      <td>726</td>\n",
       "      <td>726</td>\n",
       "      <td>726</td>\n",
       "      <td>726</td>\n",
       "      <td>726</td>\n",
       "      <td>726</td>\n",
       "      <td>726</td>\n",
       "      <td>727</td>\n",
       "      <td>727</td>\n",
       "    </tr>\n",
       "    <tr>\n",
       "      <th>2</th>\n",
       "      <td>Alabama</td>\n",
       "      <td>Barbour</td>\n",
       "      <td>84001005</td>\n",
       "      <td>US</td>\n",
       "      <td>USA</td>\n",
       "      <td>840</td>\n",
       "      <td>1005.0</td>\n",
       "      <td>US</td>\n",
       "      <td>31.868263</td>\n",
       "      <td>-85.387129</td>\n",
       "      <td>...</td>\n",
       "      <td>103</td>\n",
       "      <td>103</td>\n",
       "      <td>103</td>\n",
       "      <td>103</td>\n",
       "      <td>103</td>\n",
       "      <td>103</td>\n",
       "      <td>103</td>\n",
       "      <td>103</td>\n",
       "      <td>103</td>\n",
       "      <td>103</td>\n",
       "    </tr>\n",
       "    <tr>\n",
       "      <th>3</th>\n",
       "      <td>Alabama</td>\n",
       "      <td>Bibb</td>\n",
       "      <td>84001007</td>\n",
       "      <td>US</td>\n",
       "      <td>USA</td>\n",
       "      <td>840</td>\n",
       "      <td>1007.0</td>\n",
       "      <td>US</td>\n",
       "      <td>32.996421</td>\n",
       "      <td>-87.125115</td>\n",
       "      <td>...</td>\n",
       "      <td>109</td>\n",
       "      <td>109</td>\n",
       "      <td>109</td>\n",
       "      <td>109</td>\n",
       "      <td>109</td>\n",
       "      <td>109</td>\n",
       "      <td>109</td>\n",
       "      <td>109</td>\n",
       "      <td>109</td>\n",
       "      <td>109</td>\n",
       "    </tr>\n",
       "    <tr>\n",
       "      <th>4</th>\n",
       "      <td>Alabama</td>\n",
       "      <td>Blount</td>\n",
       "      <td>84001009</td>\n",
       "      <td>US</td>\n",
       "      <td>USA</td>\n",
       "      <td>840</td>\n",
       "      <td>1009.0</td>\n",
       "      <td>US</td>\n",
       "      <td>33.982109</td>\n",
       "      <td>-86.567906</td>\n",
       "      <td>...</td>\n",
       "      <td>261</td>\n",
       "      <td>261</td>\n",
       "      <td>261</td>\n",
       "      <td>261</td>\n",
       "      <td>261</td>\n",
       "      <td>261</td>\n",
       "      <td>261</td>\n",
       "      <td>261</td>\n",
       "      <td>261</td>\n",
       "      <td>261</td>\n",
       "    </tr>\n",
       "  </tbody>\n",
       "</table>\n",
       "<p>5 rows × 1155 columns</p>\n",
       "</div>"
      ],
      "text/plain": [
       "  Province_State   Admin2       UID iso2 iso3  code3    FIPS Country_Region  \\\n",
       "0        Alabama  Autauga  84001001   US  USA    840  1001.0             US   \n",
       "1        Alabama  Baldwin  84001003   US  USA    840  1003.0             US   \n",
       "2        Alabama  Barbour  84001005   US  USA    840  1005.0             US   \n",
       "3        Alabama     Bibb  84001007   US  USA    840  1007.0             US   \n",
       "4        Alabama   Blount  84001009   US  USA    840  1009.0             US   \n",
       "\n",
       "         Lat      Long_  ... 2/28/23  3/1/23  3/2/23  3/3/23  3/4/23  3/5/23  \\\n",
       "0  32.539527 -86.644082  ...     230     232     232     232     232     232   \n",
       "1  30.727750 -87.722071  ...     724     726     726     726     726     726   \n",
       "2  31.868263 -85.387129  ...     103     103     103     103     103     103   \n",
       "3  32.996421 -87.125115  ...     109     109     109     109     109     109   \n",
       "4  33.982109 -86.567906  ...     261     261     261     261     261     261   \n",
       "\n",
       "   3/6/23  3/7/23  3/8/23  3/9/23  \n",
       "0     232     232     232     232  \n",
       "1     726     726     727     727  \n",
       "2     103     103     103     103  \n",
       "3     109     109     109     109  \n",
       "4     261     261     261     261  \n",
       "\n",
       "[5 rows x 1155 columns]"
      ]
     },
     "execution_count": 221,
     "metadata": {},
     "output_type": "execute_result"
    }
   ],
   "source": [
    "DF.head()"
   ]
  },
  {
   "cell_type": "code",
   "execution_count": 222,
   "id": "0dcda502-3fc0-4d6e-b5e2-7e70d9c2c08e",
   "metadata": {},
   "outputs": [
    {
     "data": {
      "text/plain": [
       "(3342, 1155)"
      ]
     },
     "execution_count": 222,
     "metadata": {},
     "output_type": "execute_result"
    }
   ],
   "source": [
    "DF.shape"
   ]
  },
  {
   "cell_type": "code",
   "execution_count": 228,
   "id": "e9f9edfc-d9d2-48d3-8609-63651cc9c2bc",
   "metadata": {},
   "outputs": [
    {
     "data": {
      "text/plain": [
       "Index(['Province_State', 'Admin2', 'UID', 'iso2', 'iso3', 'code3', 'FIPS',\n",
       "       'Country_Region', 'Lat', 'Long_', 'Combined_Key', 'Population'],\n",
       "      dtype='object')"
      ]
     },
     "execution_count": 228,
     "metadata": {},
     "output_type": "execute_result"
    }
   ],
   "source": [
    "cols = DF[DF.columns[:12]].columns #Date starts at 13\n",
    "cols"
   ]
  },
  {
   "cell_type": "code",
   "execution_count": 229,
   "id": "0ad5983c-de32-42ca-a99a-0b4c7b86b7e0",
   "metadata": {},
   "outputs": [
    {
     "data": {
      "text/plain": [
       "False"
      ]
     },
     "execution_count": 229,
     "metadata": {},
     "output_type": "execute_result"
    }
   ],
   "source": [
    "DF[cols].duplicated().any()"
   ]
  },
  {
   "cell_type": "code",
   "execution_count": 230,
   "id": "3ed4836b-fbf2-4328-a95b-ad9de7ce1747",
   "metadata": {},
   "outputs": [
    {
     "name": "stdout",
     "output_type": "stream",
     "text": [
      "Province_State  :  ['Alabama' 'Alaska' 'American Samoa' 'Arizona' 'Arkansas' 'California'\n",
      " 'Colorado' 'Connecticut' 'Delaware' 'Diamond Princess'\n",
      " 'District of Columbia' 'Florida' 'Georgia' 'Grand Princess' 'Guam'\n",
      " 'Hawaii' 'Idaho' 'Illinois' 'Indiana' 'Iowa' 'Kansas' 'Kentucky'\n",
      " 'Louisiana' 'Maine' 'Maryland' 'Massachusetts' 'Michigan' 'Minnesota'\n",
      " 'Mississippi' 'Missouri' 'Montana' 'Nebraska' 'Nevada' 'New Hampshire'\n",
      " 'New Jersey' 'New Mexico' 'New York' 'North Carolina' 'North Dakota'\n",
      " 'Northern Mariana Islands' 'Ohio' 'Oklahoma' 'Oregon' 'Pennsylvania'\n",
      " 'Puerto Rico' 'Rhode Island' 'South Carolina' 'South Dakota' 'Tennessee'\n",
      " 'Texas' 'Utah' 'Vermont' 'Virgin Islands' 'Virginia' 'Washington'\n",
      " 'West Virginia' 'Wisconsin' 'Wyoming']\n",
      "Admin2  :  ['Autauga' 'Baldwin' 'Barbour' ... 'Uinta' 'Washakie' 'Weston']\n",
      "UID  :  [84001001 84001003 84001005 ... 84090056 84056043 84056045]\n",
      "iso2  :  ['US' 'AS' 'GU' 'MP' 'PR' 'VI']\n",
      "iso3  :  ['USA' 'ASM' 'GUM' 'MNP' 'PRI' 'VIR']\n",
      "code3  :  [840  16 316 580 630 850]\n",
      "FIPS  :  [ 1001.  1003.  1005. ... 90056. 56043. 56045.]\n",
      "Country_Region  :  ['US']\n",
      "Lat  :  [32.53952745 30.72774991 31.868263   ... 41.2878183  43.90451606\n",
      " 43.83961191]\n",
      "Long_  :  [ -86.64408227  -87.72207058  -85.3871286  ... -110.5475782  -107.680187\n",
      " -104.5674881 ]\n",
      "Combined_Key  :  ['Autauga, Alabama, US' 'Baldwin, Alabama, US' 'Barbour, Alabama, US' ...\n",
      " 'Unassigned, Wyoming, US' 'Washakie, Wyoming, US' 'Weston, Wyoming, US']\n",
      "Population  :  [ 55869 223234  24686 ...  20226   7805   6927]\n"
     ]
    }
   ],
   "source": [
    "for col in cols:\n",
    "    print(col,\" : \", DF[col].unique())"
   ]
  },
  {
   "cell_type": "code",
   "execution_count": 231,
   "id": "e8d9f17b-b3e8-4dac-8989-26842186e3fa",
   "metadata": {},
   "outputs": [
    {
     "name": "stdout",
     "output_type": "stream",
     "text": [
      "<class 'pandas.core.frame.DataFrame'>\n",
      "RangeIndex: 3342 entries, 0 to 3341\n",
      "Columns: 1155 entries, Province_State to 3/9/23\n",
      "dtypes: float64(3), int64(1146), object(6)\n",
      "memory usage: 29.4+ MB\n"
     ]
    }
   ],
   "source": [
    "DF.info()"
   ]
  },
  {
   "cell_type": "code",
   "execution_count": 232,
   "id": "f1906efa-77ef-46c8-8513-62b49a73e8b8",
   "metadata": {},
   "outputs": [
    {
     "data": {
      "text/plain": [
       "Province_State    object\n",
       "Admin2            object\n",
       "UID                int64\n",
       "iso2              object\n",
       "iso3              object\n",
       "                   ...  \n",
       "3/5/23             int64\n",
       "3/6/23             int64\n",
       "3/7/23             int64\n",
       "3/8/23             int64\n",
       "3/9/23             int64\n",
       "Length: 1155, dtype: object"
      ]
     },
     "execution_count": 232,
     "metadata": {},
     "output_type": "execute_result"
    }
   ],
   "source": [
    "DF.dtypes"
   ]
  },
  {
   "cell_type": "code",
   "execution_count": 233,
   "id": "630f7c4b-83d2-48d0-bb36-3794d6e28bff",
   "metadata": {},
   "outputs": [
    {
     "data": {
      "text/html": [
       "<div>\n",
       "<style scoped>\n",
       "    .dataframe tbody tr th:only-of-type {\n",
       "        vertical-align: middle;\n",
       "    }\n",
       "\n",
       "    .dataframe tbody tr th {\n",
       "        vertical-align: top;\n",
       "    }\n",
       "\n",
       "    .dataframe thead th {\n",
       "        text-align: right;\n",
       "    }\n",
       "</style>\n",
       "<table border=\"1\" class=\"dataframe\">\n",
       "  <thead>\n",
       "    <tr style=\"text-align: right;\">\n",
       "      <th></th>\n",
       "      <th>UID</th>\n",
       "      <th>code3</th>\n",
       "      <th>FIPS</th>\n",
       "      <th>Lat</th>\n",
       "      <th>Long_</th>\n",
       "      <th>Population</th>\n",
       "      <th>1/22/20</th>\n",
       "      <th>1/23/20</th>\n",
       "      <th>1/24/20</th>\n",
       "      <th>1/25/20</th>\n",
       "      <th>...</th>\n",
       "      <th>2/28/23</th>\n",
       "      <th>3/1/23</th>\n",
       "      <th>3/2/23</th>\n",
       "      <th>3/3/23</th>\n",
       "      <th>3/4/23</th>\n",
       "      <th>3/5/23</th>\n",
       "      <th>3/6/23</th>\n",
       "      <th>3/7/23</th>\n",
       "      <th>3/8/23</th>\n",
       "      <th>3/9/23</th>\n",
       "    </tr>\n",
       "  </thead>\n",
       "  <tbody>\n",
       "    <tr>\n",
       "      <th>count</th>\n",
       "      <td>3.342000e+03</td>\n",
       "      <td>3342.000000</td>\n",
       "      <td>3332.000000</td>\n",
       "      <td>3342.000000</td>\n",
       "      <td>3342.000000</td>\n",
       "      <td>3.342000e+03</td>\n",
       "      <td>3342.000000</td>\n",
       "      <td>3342.000000</td>\n",
       "      <td>3342.000000</td>\n",
       "      <td>3342.000000</td>\n",
       "      <td>...</td>\n",
       "      <td>3342.000000</td>\n",
       "      <td>3342.000000</td>\n",
       "      <td>3342.000000</td>\n",
       "      <td>3342.000000</td>\n",
       "      <td>3342.000000</td>\n",
       "      <td>3342.000000</td>\n",
       "      <td>3342.000000</td>\n",
       "      <td>3342.000000</td>\n",
       "      <td>3342.000000</td>\n",
       "      <td>3342.000000</td>\n",
       "    </tr>\n",
       "    <tr>\n",
       "      <th>mean</th>\n",
       "      <td>8.342992e+07</td>\n",
       "      <td>834.494913</td>\n",
       "      <td>33043.078932</td>\n",
       "      <td>36.721617</td>\n",
       "      <td>-88.642045</td>\n",
       "      <td>9.960357e+04</td>\n",
       "      <td>0.000299</td>\n",
       "      <td>0.000299</td>\n",
       "      <td>0.000299</td>\n",
       "      <td>0.000299</td>\n",
       "      <td>...</td>\n",
       "      <td>335.103830</td>\n",
       "      <td>335.397068</td>\n",
       "      <td>335.624776</td>\n",
       "      <td>335.776481</td>\n",
       "      <td>335.778576</td>\n",
       "      <td>335.767205</td>\n",
       "      <td>335.781269</td>\n",
       "      <td>335.881508</td>\n",
       "      <td>336.099940</td>\n",
       "      <td>336.276481</td>\n",
       "    </tr>\n",
       "    <tr>\n",
       "      <th>std</th>\n",
       "      <td>4.314076e+06</td>\n",
       "      <td>36.487378</td>\n",
       "      <td>18648.808931</td>\n",
       "      <td>9.079322</td>\n",
       "      <td>21.776287</td>\n",
       "      <td>3.241661e+05</td>\n",
       "      <td>0.017298</td>\n",
       "      <td>0.017298</td>\n",
       "      <td>0.017298</td>\n",
       "      <td>0.017298</td>\n",
       "      <td>...</td>\n",
       "      <td>1103.909631</td>\n",
       "      <td>1104.435933</td>\n",
       "      <td>1105.572242</td>\n",
       "      <td>1105.748480</td>\n",
       "      <td>1105.751727</td>\n",
       "      <td>1105.746239</td>\n",
       "      <td>1105.772895</td>\n",
       "      <td>1105.924446</td>\n",
       "      <td>1106.230834</td>\n",
       "      <td>1107.369648</td>\n",
       "    </tr>\n",
       "    <tr>\n",
       "      <th>min</th>\n",
       "      <td>1.600000e+01</td>\n",
       "      <td>16.000000</td>\n",
       "      <td>60.000000</td>\n",
       "      <td>-14.271000</td>\n",
       "      <td>-174.159600</td>\n",
       "      <td>0.000000e+00</td>\n",
       "      <td>0.000000</td>\n",
       "      <td>0.000000</td>\n",
       "      <td>0.000000</td>\n",
       "      <td>0.000000</td>\n",
       "      <td>...</td>\n",
       "      <td>0.000000</td>\n",
       "      <td>0.000000</td>\n",
       "      <td>0.000000</td>\n",
       "      <td>0.000000</td>\n",
       "      <td>0.000000</td>\n",
       "      <td>0.000000</td>\n",
       "      <td>0.000000</td>\n",
       "      <td>0.000000</td>\n",
       "      <td>0.000000</td>\n",
       "      <td>0.000000</td>\n",
       "    </tr>\n",
       "    <tr>\n",
       "      <th>25%</th>\n",
       "      <td>8.401811e+07</td>\n",
       "      <td>840.000000</td>\n",
       "      <td>19076.500000</td>\n",
       "      <td>33.896803</td>\n",
       "      <td>-97.803595</td>\n",
       "      <td>9.917250e+03</td>\n",
       "      <td>0.000000</td>\n",
       "      <td>0.000000</td>\n",
       "      <td>0.000000</td>\n",
       "      <td>0.000000</td>\n",
       "      <td>...</td>\n",
       "      <td>38.000000</td>\n",
       "      <td>38.000000</td>\n",
       "      <td>38.000000</td>\n",
       "      <td>38.000000</td>\n",
       "      <td>38.000000</td>\n",
       "      <td>38.000000</td>\n",
       "      <td>38.000000</td>\n",
       "      <td>38.000000</td>\n",
       "      <td>39.000000</td>\n",
       "      <td>39.000000</td>\n",
       "    </tr>\n",
       "    <tr>\n",
       "      <th>50%</th>\n",
       "      <td>8.402921e+07</td>\n",
       "      <td>840.000000</td>\n",
       "      <td>31012.000000</td>\n",
       "      <td>38.005610</td>\n",
       "      <td>-89.488865</td>\n",
       "      <td>2.489150e+04</td>\n",
       "      <td>0.000000</td>\n",
       "      <td>0.000000</td>\n",
       "      <td>0.000000</td>\n",
       "      <td>0.000000</td>\n",
       "      <td>...</td>\n",
       "      <td>102.000000</td>\n",
       "      <td>102.000000</td>\n",
       "      <td>102.000000</td>\n",
       "      <td>102.000000</td>\n",
       "      <td>102.000000</td>\n",
       "      <td>102.000000</td>\n",
       "      <td>102.000000</td>\n",
       "      <td>102.000000</td>\n",
       "      <td>102.000000</td>\n",
       "      <td>102.000000</td>\n",
       "    </tr>\n",
       "    <tr>\n",
       "      <th>75%</th>\n",
       "      <td>8.404612e+07</td>\n",
       "      <td>840.000000</td>\n",
       "      <td>47129.500000</td>\n",
       "      <td>41.579255</td>\n",
       "      <td>-82.313398</td>\n",
       "      <td>6.497525e+04</td>\n",
       "      <td>0.000000</td>\n",
       "      <td>0.000000</td>\n",
       "      <td>0.000000</td>\n",
       "      <td>0.000000</td>\n",
       "      <td>...</td>\n",
       "      <td>245.750000</td>\n",
       "      <td>245.750000</td>\n",
       "      <td>245.750000</td>\n",
       "      <td>246.000000</td>\n",
       "      <td>246.000000</td>\n",
       "      <td>246.000000</td>\n",
       "      <td>246.000000</td>\n",
       "      <td>246.750000</td>\n",
       "      <td>246.750000</td>\n",
       "      <td>246.750000</td>\n",
       "    </tr>\n",
       "    <tr>\n",
       "      <th>max</th>\n",
       "      <td>8.410000e+07</td>\n",
       "      <td>850.000000</td>\n",
       "      <td>99999.000000</td>\n",
       "      <td>69.314792</td>\n",
       "      <td>145.673900</td>\n",
       "      <td>1.003911e+07</td>\n",
       "      <td>1.000000</td>\n",
       "      <td>1.000000</td>\n",
       "      <td>1.000000</td>\n",
       "      <td>1.000000</td>\n",
       "      <td>...</td>\n",
       "      <td>35366.000000</td>\n",
       "      <td>35366.000000</td>\n",
       "      <td>35453.000000</td>\n",
       "      <td>35453.000000</td>\n",
       "      <td>35453.000000</td>\n",
       "      <td>35453.000000</td>\n",
       "      <td>35453.000000</td>\n",
       "      <td>35453.000000</td>\n",
       "      <td>35453.000000</td>\n",
       "      <td>35545.000000</td>\n",
       "    </tr>\n",
       "  </tbody>\n",
       "</table>\n",
       "<p>8 rows × 1149 columns</p>\n",
       "</div>"
      ],
      "text/plain": [
       "                UID        code3          FIPS          Lat        Long_  \\\n",
       "count  3.342000e+03  3342.000000   3332.000000  3342.000000  3342.000000   \n",
       "mean   8.342992e+07   834.494913  33043.078932    36.721617   -88.642045   \n",
       "std    4.314076e+06    36.487378  18648.808931     9.079322    21.776287   \n",
       "min    1.600000e+01    16.000000     60.000000   -14.271000  -174.159600   \n",
       "25%    8.401811e+07   840.000000  19076.500000    33.896803   -97.803595   \n",
       "50%    8.402921e+07   840.000000  31012.000000    38.005610   -89.488865   \n",
       "75%    8.404612e+07   840.000000  47129.500000    41.579255   -82.313398   \n",
       "max    8.410000e+07   850.000000  99999.000000    69.314792   145.673900   \n",
       "\n",
       "         Population      1/22/20      1/23/20      1/24/20      1/25/20  ...  \\\n",
       "count  3.342000e+03  3342.000000  3342.000000  3342.000000  3342.000000  ...   \n",
       "mean   9.960357e+04     0.000299     0.000299     0.000299     0.000299  ...   \n",
       "std    3.241661e+05     0.017298     0.017298     0.017298     0.017298  ...   \n",
       "min    0.000000e+00     0.000000     0.000000     0.000000     0.000000  ...   \n",
       "25%    9.917250e+03     0.000000     0.000000     0.000000     0.000000  ...   \n",
       "50%    2.489150e+04     0.000000     0.000000     0.000000     0.000000  ...   \n",
       "75%    6.497525e+04     0.000000     0.000000     0.000000     0.000000  ...   \n",
       "max    1.003911e+07     1.000000     1.000000     1.000000     1.000000  ...   \n",
       "\n",
       "            2/28/23        3/1/23        3/2/23        3/3/23        3/4/23  \\\n",
       "count   3342.000000   3342.000000   3342.000000   3342.000000   3342.000000   \n",
       "mean     335.103830    335.397068    335.624776    335.776481    335.778576   \n",
       "std     1103.909631   1104.435933   1105.572242   1105.748480   1105.751727   \n",
       "min        0.000000      0.000000      0.000000      0.000000      0.000000   \n",
       "25%       38.000000     38.000000     38.000000     38.000000     38.000000   \n",
       "50%      102.000000    102.000000    102.000000    102.000000    102.000000   \n",
       "75%      245.750000    245.750000    245.750000    246.000000    246.000000   \n",
       "max    35366.000000  35366.000000  35453.000000  35453.000000  35453.000000   \n",
       "\n",
       "             3/5/23        3/6/23        3/7/23        3/8/23        3/9/23  \n",
       "count   3342.000000   3342.000000   3342.000000   3342.000000   3342.000000  \n",
       "mean     335.767205    335.781269    335.881508    336.099940    336.276481  \n",
       "std     1105.746239   1105.772895   1105.924446   1106.230834   1107.369648  \n",
       "min        0.000000      0.000000      0.000000      0.000000      0.000000  \n",
       "25%       38.000000     38.000000     38.000000     39.000000     39.000000  \n",
       "50%      102.000000    102.000000    102.000000    102.000000    102.000000  \n",
       "75%      246.000000    246.000000    246.750000    246.750000    246.750000  \n",
       "max    35453.000000  35453.000000  35453.000000  35453.000000  35545.000000  \n",
       "\n",
       "[8 rows x 1149 columns]"
      ]
     },
     "execution_count": 233,
     "metadata": {},
     "output_type": "execute_result"
    }
   ],
   "source": [
    "DF.describe()"
   ]
  },
  {
   "cell_type": "code",
   "execution_count": 234,
   "id": "c509d5e8-3763-4bbd-af86-b00ba2fad9ce",
   "metadata": {},
   "outputs": [
    {
     "data": {
      "text/plain": [
       "Index(['Admin2', 'FIPS'], dtype='object')"
      ]
     },
     "execution_count": 234,
     "metadata": {},
     "output_type": "execute_result"
    }
   ],
   "source": [
    "DF.columns[DF.isnull().any()]"
   ]
  },
  {
   "cell_type": "code",
   "execution_count": 235,
   "id": "be753495-c3c4-4138-be36-3fd1a97ae2b4",
   "metadata": {},
   "outputs": [
    {
     "name": "stdout",
     "output_type": "stream",
     "text": [
      "0          Autauga\n",
      "1          Baldwin\n",
      "2          Barbour\n",
      "3             Bibb\n",
      "4           Blount\n",
      "           ...    \n",
      "3337         Teton\n",
      "3338         Uinta\n",
      "3339    Unassigned\n",
      "3340      Washakie\n",
      "3341        Weston\n",
      "Name: Admin2, Length: 3342, dtype: object\n",
      "0        1001.0\n",
      "1        1003.0\n",
      "2        1005.0\n",
      "3        1007.0\n",
      "4        1009.0\n",
      "         ...   \n",
      "3337    56039.0\n",
      "3338    56041.0\n",
      "3339    90056.0\n",
      "3340    56043.0\n",
      "3341    56045.0\n",
      "Name: FIPS, Length: 3342, dtype: float64\n"
     ]
    }
   ],
   "source": [
    "print(DF['Admin2'])\n",
    "print(DF['FIPS'])"
   ]
  },
  {
   "cell_type": "markdown",
   "id": "21e2f5a6-7f69-4e64-a698-3f135f87ace2",
   "metadata": {
    "tags": []
   },
   "source": [
    "### Data Cleaning"
   ]
  },
  {
   "cell_type": "markdown",
   "id": "04d33943-4cb9-42ac-b166-66be3f1580c0",
   "metadata": {
    "jp-MarkdownHeadingCollapsed": true,
    "tags": []
   },
   "source": [
    "#### Extraction of the data"
   ]
  },
  {
   "cell_type": "code",
   "execution_count": null,
   "id": "138ea8c9-631a-40ae-9bc4-19eb6a2baf03",
   "metadata": {},
   "outputs": [],
   "source": [
    "# data = DF[\"Province_State\"]\n",
    "\n",
    "# col_index_max = DF.shape[0]\n",
    "\n",
    "# columns = (DF.columns).tolist()\n",
    "\n",
    "# row_values = []\n",
    "# my_dict = {}\n",
    "    \n",
    "# for i in range(0, col_index_max):\n",
    "#     input_string = data[i]\n",
    "    \n",
    "#     parts = input_string.split('\\\"')\n",
    "#     dict = {}\n",
    "\n",
    "#     for j, part in enumerate(parts, 1):\n",
    "#         list_part = [elm.replace('\\\"', '') for elm in part.split(',') if elm]\n",
    "\n",
    "#         if len(list_part) != 3:\n",
    "#             my_dict[str(j)] = list_part\n",
    "\n",
    "#     values_list = [val for sublist in my_dict.values() for val in sublist]\n",
    "\n",
    "#     row_values.append(tuple(values_list))\n",
    "\n",
    "    \n",
    "# cleaned_us_list = [(key, *value) for key, value in zip(columns, row_values)]\n",
    "\n",
    "# with open(cleaned_dataset_path, 'w') as csvfile:\n",
    "#     csvwriter = csv.writer(csvfile)\n",
    "    \n",
    "#     csvwriter.writerows(cleaned_us_list)"
   ]
  },
  {
   "cell_type": "markdown",
   "id": "d113beee-72ac-4aee-8dff-d29087f21fd2",
   "metadata": {},
   "source": [
    "#### Separation and conversion of data"
   ]
  },
  {
   "cell_type": "code",
   "execution_count": 240,
   "id": "0f13aff8-941c-41fe-bfb7-c6abe8b9df55",
   "metadata": {},
   "outputs": [
    {
     "data": {
      "text/plain": [
       "['Combined_Key', 'Population']"
      ]
     },
     "execution_count": 240,
     "metadata": {},
     "output_type": "execute_result"
    }
   ],
   "source": [
    "list(DF.columns[10:12])"
   ]
  },
  {
   "cell_type": "code",
   "execution_count": 243,
   "id": "d4bb28d1-8905-4574-8c7a-cf9d092fb5ae",
   "metadata": {},
   "outputs": [
    {
     "data": {
      "text/plain": [
       "['Lat', 'Long_']"
      ]
     },
     "execution_count": 243,
     "metadata": {},
     "output_type": "execute_result"
    }
   ],
   "source": [
    "list(DF.columns[8:10])"
   ]
  },
  {
   "cell_type": "code",
   "execution_count": 241,
   "id": "119fd30d-d559-45ba-b0d4-460c33023e43",
   "metadata": {},
   "outputs": [],
   "source": [
    "cat_cols = list(DF.columns[:2]) + list(DF.columns[3:5]) + list(DF.columns[10:12])\n",
    "DF[cat_cols] = DF[cat_cols].astype('category')"
   ]
  },
  {
   "cell_type": "code",
   "execution_count": 242,
   "id": "654fd5a4-86cc-4414-8b94-a0e515d0648d",
   "metadata": {},
   "outputs": [],
   "source": [
    "int_cols = [DF.columns[2]] + [DF.columns[5]]\n",
    "DF[int_cols] = DF[int_cols].astype('int')"
   ]
  },
  {
   "cell_type": "code",
   "execution_count": 244,
   "id": "44536ece-4a54-4740-879f-70d73c56ed13",
   "metadata": {},
   "outputs": [],
   "source": [
    "float_cols = [DF.columns[6]] + list(DF.columns[8:10])\n",
    "DF[float_cols] = DF[float_cols].astype('float')"
   ]
  },
  {
   "cell_type": "code",
   "execution_count": 245,
   "id": "07949d93-c45c-44c9-ac2b-8f0d30c96e72",
   "metadata": {},
   "outputs": [],
   "source": [
    "DF['Combined_Key'] = DF['Combined_Key'].astype('str')"
   ]
  },
  {
   "cell_type": "code",
   "execution_count": 248,
   "id": "2da119a9-4e7d-438f-b18d-8ae05530ea7b",
   "metadata": {},
   "outputs": [
    {
     "data": {
      "text/plain": [
       "Index(['1/22/20', '1/23/20', '1/24/20', '1/25/20', '1/26/20', '1/27/20',\n",
       "       '1/28/20', '1/29/20', '1/30/20', '1/31/20',\n",
       "       ...\n",
       "       '2/28/23', '3/1/23', '3/2/23', '3/3/23', '3/4/23', '3/5/23', '3/6/23',\n",
       "       '3/7/23', '3/8/23', '3/9/23'],\n",
       "      dtype='object', length=1143)"
      ]
     },
     "execution_count": 248,
     "metadata": {},
     "output_type": "execute_result"
    }
   ],
   "source": [
    "DF.columns[12:]"
   ]
  },
  {
   "cell_type": "code",
   "execution_count": 249,
   "id": "7a1a07f6-baf5-489e-ac82-cec937c01cdd",
   "metadata": {},
   "outputs": [],
   "source": [
    "date_cols = DF.columns[12:]\n",
    "\n",
    "DF[date_cols] = DF[date_cols].astype('int')"
   ]
  },
  {
   "cell_type": "code",
   "execution_count": 250,
   "id": "9df2d2a0-9c46-4ff7-b196-82ea519ca30a",
   "metadata": {},
   "outputs": [
    {
     "name": "stdout",
     "output_type": "stream",
     "text": [
      "Province_State    category\n",
      "Admin2            category\n",
      "UID                  int64\n",
      "iso2              category\n",
      "iso3              category\n",
      "                    ...   \n",
      "3/5/23               int64\n",
      "3/6/23               int64\n",
      "3/7/23               int64\n",
      "3/8/23               int64\n",
      "3/9/23               int64\n",
      "Length: 1155, dtype: object\n"
     ]
    }
   ],
   "source": [
    "print(DF.dtypes)"
   ]
  },
  {
   "cell_type": "markdown",
   "id": "ea69a9d9-b44c-4619-bf43-4e1db721e74f",
   "metadata": {},
   "source": [
    "#### Removing of unnecessary data and null values"
   ]
  },
  {
   "cell_type": "code",
   "execution_count": 251,
   "id": "65355384-d8fd-4188-802b-fc5df83b9159",
   "metadata": {},
   "outputs": [
    {
     "name": "stdout",
     "output_type": "stream",
     "text": [
      "True\n",
      "True\n"
     ]
    }
   ],
   "source": [
    "print(DF['Admin2'].isnull().any())\n",
    "print(DF['FIPS'].isnull().any())"
   ]
  },
  {
   "cell_type": "code",
   "execution_count": 252,
   "id": "0589a597-ad1e-4af5-abfa-77d463d17156",
   "metadata": {},
   "outputs": [],
   "source": [
    "if 'Unknown' not in DF['Admin2'].cat.categories:\n",
    "    DF['Admin2'] = DF['Admin2'].cat.add_categories('Unknown')\n",
    "\n",
    "DF['Admin2'] = DF['Admin2'].fillna('Unknown')"
   ]
  },
  {
   "cell_type": "code",
   "execution_count": 253,
   "id": "653ca5bd-5ff3-4a74-9ab1-efd1ef24afed",
   "metadata": {},
   "outputs": [],
   "source": [
    "median_fips = DF['FIPS'].median()\n",
    "DF['FIPS'] = DF['FIPS'].fillna(median_fips)"
   ]
  },
  {
   "cell_type": "code",
   "execution_count": null,
   "id": "38921d7a-a13c-4224-a61b-38a454134a14",
   "metadata": {},
   "outputs": [],
   "source": [
    "#SAVE A CSV HERE IF WE WANT TO MAITAIN THE ORIGINAL STRUCTURE"
   ]
  },
  {
   "cell_type": "code",
   "execution_count": 254,
   "id": "70b89cac-dcd8-4d08-8fc2-1780bc226047",
   "metadata": {},
   "outputs": [],
   "source": [
    "DF.drop(['Combined_Key', 'Country_Region', 'FIPS'], axis=1, inplace=True)"
   ]
  },
  {
   "cell_type": "code",
   "execution_count": 255,
   "id": "66ad98b0-d258-47ff-8528-e5e9eb6b4f5b",
   "metadata": {},
   "outputs": [
    {
     "data": {
      "text/plain": [
       "Index(['Province_State', 'Admin2', 'UID', 'iso2', 'iso3', 'code3', 'Lat',\n",
       "       'Long_', 'Population', '1/22/20',\n",
       "       ...\n",
       "       '2/28/23', '3/1/23', '3/2/23', '3/3/23', '3/4/23', '3/5/23', '3/6/23',\n",
       "       '3/7/23', '3/8/23', '3/9/23'],\n",
       "      dtype='object', length=1152)"
      ]
     },
     "execution_count": 255,
     "metadata": {},
     "output_type": "execute_result"
    }
   ],
   "source": [
    "DF.columns"
   ]
  },
  {
   "cell_type": "code",
   "execution_count": 256,
   "id": "e08e17b5-7400-4d76-b9ea-e129ae0ce819",
   "metadata": {},
   "outputs": [],
   "source": [
    "DF.to_csv(cleaned_dataset_path, index=False)"
   ]
  },
  {
   "cell_type": "markdown",
   "id": "57abbb79-f723-47cb-8779-919bc4593460",
   "metadata": {
    "tags": []
   },
   "source": [
    "### Advanced cleaning"
   ]
  },
  {
   "cell_type": "code",
   "execution_count": null,
   "id": "dae1433a-bc56-405e-8d61-38a6b3416f1f",
   "metadata": {},
   "outputs": [],
   "source": [
    "DF_desc = DF[DF.columns[:12]]\n",
    "DF_date = DF[DF.columns[12:]]\n",
    "\n",
    "print(DF_desc.head(2))\n",
    "print(\"-- * --\"*10)\n",
    "print(DF_date.tail(2))\n",
    "\n",
    "date_cols = DF.columns[11:]\n",
    "\n",
    "DF[date_cols] = DF[date_cols].apply(pd.to_datetime)"
   ]
  }
 ],
 "metadata": {
  "kernelspec": {
   "display_name": "Python 3 (ipykernel)",
   "language": "python",
   "name": "python3"
  },
  "language_info": {
   "codemirror_mode": {
    "name": "ipython",
    "version": 3
   },
   "file_extension": ".py",
   "mimetype": "text/x-python",
   "name": "python",
   "nbconvert_exporter": "python",
   "pygments_lexer": "ipython3",
   "version": "3.7.12"
  }
 },
 "nbformat": 4,
 "nbformat_minor": 5
}
