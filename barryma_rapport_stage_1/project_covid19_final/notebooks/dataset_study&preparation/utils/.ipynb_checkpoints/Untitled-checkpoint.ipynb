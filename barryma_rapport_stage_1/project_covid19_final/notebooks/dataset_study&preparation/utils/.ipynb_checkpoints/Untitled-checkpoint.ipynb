{
 "cells": [
  {
   "cell_type": "code",
   "execution_count": 14,
   "id": "53b5985b-d989-4833-a22a-3d6a20990887",
   "metadata": {},
   "outputs": [
    {
     "name": "stdout",
     "output_type": "stream",
     "text": [
      "  country_code    country_name\n",
      "0           US   United States\n",
      "1           US   United States\n",
      "2           GB  United Kingdom\n",
      "3           FR          France\n",
      "4           DE         Germany\n",
      "          name  latitude  longitude\n",
      "0     New York  40.71427  -74.00597\n",
      "1  Los Angeles  34.05223 -118.24368\n",
      "2       London  51.50853   -0.12574\n",
      "3        Paris  48.85341    2.34880\n",
      "4       Berlin  52.52437   13.41053\n"
     ]
    }
   ],
   "source": [
    "import pandas as pd\n",
    "import sqlite3\n",
    "import pycountry\n",
    "\n",
    "# Define the columns for the GeoNames data\n",
    "columns = ['geonameid', 'name', 'asciiname', 'alternatenames', 'latitude', 'longitude', 'feature_class',\n",
    "           'feature_code', 'country_code', 'cc2', 'admin1_code', 'admin2_code', 'admin3_code', 'admin4_code',\n",
    "           'population', 'elevation', 'dem', 'timezone', 'modification_date']\n",
    "\n",
    "# Load the GeoNames data into a DataFrame\n",
    "geonames_df = pd.read_csv('allCountries.txt', sep='\\t', header=None, names=columns)\n",
    "\n",
    "# Create SQLite database and load data\n",
    "conn = sqlite3.connect('geolocation.db')\n",
    "geonames_df[['name', 'latitude', 'longitude']].to_sql('geolocation', conn, if_exists='replace', index=False)\n",
    "conn.close()\n",
    "\n",
    "# Create a dictionary to map country codes to country names\n",
    "country_dict = {country.alpha_2: country.name for country in pycountry.countries}\n",
    "\n",
    "# Map the 'country_code' to country names using the dictionary\n",
    "geonames_df['country_name'] = geonames_df['country_code'].map(country_dict)\n",
    "\n",
    "# Print the 'country_code' and corresponding 'country_name'\n",
    "print(geonames_df[['country_code', 'country_name']])\n",
    "\n",
    "# Define a function to query for latitude and longitude\n",
    "def query_location(name):\n",
    "    conn = sqlite3.connect('geolocation.db')\n",
    "    query = \"SELECT latitude, longitude FROM geolocation WHERE name = ? LIMIT 1\"\n",
    "    result = pd.read_sql_query(query, conn, params=(name,))\n",
    "    conn.close()\n",
    "    return result\n",
    "\n",
    "# Initialize a list to store results\n",
    "results = []\n",
    "\n",
    "# Iterate over each place name and query the database\n",
    "for place_name in geonames_df['name']:\n",
    "    result = query_location(place_name)\n",
    "    if not result.empty:\n",
    "        results.append({'name': place_name, 'latitude': result.iloc[0]['latitude'], 'longitude': result.iloc[0]['longitude']})\n",
    "\n",
    "# Convert results to a DataFrame and print\n",
    "results_df = pd.DataFrame(results)\n",
    "print(results_df)"
   ]
  },
  {
   "cell_type": "code",
   "execution_count": 13,
   "id": "74da0773-247f-4d88-8699-106d3673b227",
   "metadata": {},
   "outputs": [
    {
     "name": "stdout",
     "output_type": "stream",
     "text": [
      "[('New York', 40.71427, -74.00597), ('Los Angeles', 34.05223, -118.24368), ('London', 51.50853, -0.12574), ('Paris', 48.85341, 2.3488), ('Berlin', 52.52437, 13.41053)]\n"
     ]
    }
   ],
   "source": [
    "# Connect to the SQLite database\n",
    "conn = sqlite3.connect('geolocation.db')\n",
    "\n",
    "# Execute a query and fetch all results\n",
    "query = \"SELECT * FROM geolocation\"\n",
    "result = conn.execute(query).fetchall()\n",
    "\n",
    "# Close the database connection\n",
    "conn.close()\n",
    "\n",
    "# Print the results\n",
    "print(result)"
   ]
  },
  {
   "cell_type": "code",
   "execution_count": null,
   "id": "7fce183a-0749-4093-bfea-cec89828b7d4",
   "metadata": {},
   "outputs": [],
   "source": []
  },
  {
   "cell_type": "code",
   "execution_count": null,
   "id": "f1c4b885-4b6f-4d13-91d9-9b063d65d8cf",
   "metadata": {},
   "outputs": [],
   "source": []
  }
 ],
 "metadata": {
  "kernelspec": {
   "display_name": "Python 3 (ipykernel)",
   "language": "python",
   "name": "python3"
  },
  "language_info": {
   "codemirror_mode": {
    "name": "ipython",
    "version": 3
   },
   "file_extension": ".py",
   "mimetype": "text/x-python",
   "name": "python",
   "nbconvert_exporter": "python",
   "pygments_lexer": "ipython3",
   "version": "3.7.12"
  }
 },
 "nbformat": 4,
 "nbformat_minor": 5
}
