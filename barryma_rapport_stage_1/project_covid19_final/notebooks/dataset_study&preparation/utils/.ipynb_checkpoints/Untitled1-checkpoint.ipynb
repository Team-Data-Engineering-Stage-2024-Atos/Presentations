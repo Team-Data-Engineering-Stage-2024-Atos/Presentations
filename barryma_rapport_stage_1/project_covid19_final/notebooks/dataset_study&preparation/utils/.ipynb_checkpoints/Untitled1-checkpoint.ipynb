{
 "cells": [
  {
   "cell_type": "code",
   "execution_count": 35,
   "id": "b161d3a3-5702-4577-bc6d-687e49c9cbae",
   "metadata": {},
   "outputs": [
    {
     "name": "stdout",
     "output_type": "stream",
     "text": [
      "  country_code    country_name\n",
      "0           US   United States\n",
      "1           US   United States\n",
      "2           GB  United Kingdom\n",
      "3           FR          France\n",
      "4           DE         Germany\n"
     ]
    }
   ],
   "source": [
    "import pycountry\n",
    "import pandas as pd\n",
    "\n",
    "# Define the columns for the dataset\n",
    "columns = ['geonameid', 'name', 'asciiname', 'alternatenames', 'latitude', 'longitude', 'feature_class',\n",
    "           'feature_code', 'country_code', 'cc2', 'admin1_code', 'admin2_code', 'admin3_code', 'admin4_code',\n",
    "           'population', 'elevation', 'dem', 'timezone', 'modification_date']\n",
    "\n",
    "# Load the dataset with tab delimiter\n",
    "df = pd.read_csv('allCountries_.txt', sep='\\t', header=None, names=columns)\n",
    "\n",
    "# Create a dictionary to map country codes to country names\n",
    "country_dict = {country.alpha_2: country.name for country in pycountry.countries}\n",
    "\n",
    "# Map the 'country_code' to country names using the dictionary\n",
    "df['country_name'] = df['country_code'].map(country_dict)\n",
    "\n",
    "# Print the 'country_code' and corresponding 'country_name'\n",
    "print(df[['country_code', 'country_name']])\n",
    "\n",
    "# Keep only 'latitude' and 'longitude' columns if needed\n",
    "df_cleaned = df[['country_name', 'latitude', 'longitude']]\n",
    "\n",
    "# Save the cleaned dataset with comma delimiter\n",
    "df_cleaned.to_csv('cleaned_file.csv', index=False, sep=',')\n"
   ]
  },
  {
   "cell_type": "code",
   "execution_count": null,
   "id": "a43db9f1-6d9d-4ec0-8f7f-bcd294b9ef24",
   "metadata": {},
   "outputs": [],
   "source": []
  }
 ],
 "metadata": {
  "kernelspec": {
   "display_name": "Python 3 (ipykernel)",
   "language": "python",
   "name": "python3"
  },
  "language_info": {
   "codemirror_mode": {
    "name": "ipython",
    "version": 3
   },
   "file_extension": ".py",
   "mimetype": "text/x-python",
   "name": "python",
   "nbconvert_exporter": "python",
   "pygments_lexer": "ipython3",
   "version": "3.7.12"
  }
 },
 "nbformat": 4,
 "nbformat_minor": 5
}
