{
 "cells": [
  {
   "cell_type": "code",
   "execution_count": null,
   "metadata": {},
   "outputs": [],
   "source": [
    "# ML Model Training and Evaluation\n",
    "\n",
    "from pyspark.sql import SparkSession\n",
    "from pyspark.ml.feature import VectorAssembler\n",
    "from pyspark.ml.regression import LinearRegression\n",
    "from pyspark.ml.evaluation import RegressionEvaluator\n",
    "\n",
    "# Initialize Spark session\n",
    "spark = SparkSession.builder.appName(\"ML Model Training and Evaluation\").getOrCreate()\n",
    "\n",
    "# Load the dataset\n",
    "df = spark.read.option(\"header\", \"true\").csv(\"hdfs:///user/hadoop/datasets/transformed_global_confirmed_cases.csv\")\n",
    "\n",
    "# Feature engineering: Assembling features into a feature vector\n",
    "assembler = VectorAssembler(inputCols=[\"cases\", \"log_cases\"], outputCol=\"features\")\n",
    "feature_df = assembler.transform(df)\n",
    "\n",
    "# Split the data into training and test sets\n",
    "(trainingData, testData) = feature_df.randomSplit([0.7, 0.3])\n",
    "\n",
    "# Train a linear regression model\n",
    "lr = LinearRegression(labelCol=\"cases\", featuresCol=\"features\")\n",
    "lr_model = lr.fit(trainingData)\n",
    "\n",
    "# Make predictions on the test set\n",
    "predictions = lr_model.transform(testData)\n",
    "\n",
    "# Evaluate the model\n",
    "evaluator = RegressionEvaluator(labelCol=\"cases\", predictionCol=\"prediction\", metricName=\"rmse\")\n",
    "rmse = evaluator.evaluate(predictions)\n",
    "print(f\"Root Mean Squared Error (RMSE) on test data = {rmse}\")\n",
    "\n",
    "# Save the model\n",
    "lr_model.save(\"hdfs:///user/hadoop/models/lr_model\")\n",
    "\n",
    "spark.stop()\n"
   ]
  }
 ],
 "metadata": {
  "kernelspec": {
   "display_name": "Python 3 (ipykernel)",
   "language": "python",
   "name": "python3"
  },
  "language_info": {
   "codemirror_mode": {
    "name": "ipython",
    "version": 3
   },
   "file_extension": ".py",
   "mimetype": "text/x-python",
   "name": "python",
   "nbconvert_exporter": "python",
   "pygments_lexer": "ipython3",
   "version": "3.7.12"
  }
 },
 "nbformat": 4,
 "nbformat_minor": 4
}
