{
 "cells": [
  {
   "cell_type": "code",
   "execution_count": null,
   "metadata": {},
   "outputs": [],
   "source": [
    "# Enhanced EDA PySpark\n",
    "\n",
    "from pyspark.sql import SparkSession\n",
    "from pyspark.sql.functions import *\n",
    "\n",
    "# Initialize Spark session\n",
    "spark = SparkSession.builder.appName(\"Enhanced EDA PySpark\").getOrCreate()\n",
    "\n",
    "# Load the dataset\n",
    "df = spark.read.option(\"header\", \"true\").csv(\"hdfs:///user/hadoop/datasets/CLEANED_global_confirmed_cases_sample.csv\")\n",
    "\n",
    "# Display basic statistics\n",
    "print(\"Basic Statistics:\")\n",
    "df.describe().show()\n",
    "\n",
    "# Handle missing values\n",
    "cleaned_df = df.na.fill(\"0\").na.replace(\"*\", {\"\": \"0\"})\n",
    "\n",
    "# Additional EDA\n",
    "print(\"Total cases by country:\")\n",
    "cleaned_df.groupBy(\"country\").agg(sum(\"cases\").alias(\"total_cases\")).show()\n",
    "\n",
    "print(\"Log cases distribution:\")\n",
    "cleaned_df.withColumn(\"log_cases\", log(col(\"cases\") + 1)).show()\n",
    "\n",
    "# Save the cleaned data\n",
    "cleaned_df.write.option(\"header\", \"true\").csv(\"hdfs:///user/hadoop/datasets/cleaned_global_confirmed_cases.csv\")\n",
    "\n",
    "spark.stop()\n"
   ]
  }
 ],
 "metadata": {
  "language_info": {
   "name": "python"
  }
 },
 "nbformat": 4,
 "nbformat_minor": 2
}
