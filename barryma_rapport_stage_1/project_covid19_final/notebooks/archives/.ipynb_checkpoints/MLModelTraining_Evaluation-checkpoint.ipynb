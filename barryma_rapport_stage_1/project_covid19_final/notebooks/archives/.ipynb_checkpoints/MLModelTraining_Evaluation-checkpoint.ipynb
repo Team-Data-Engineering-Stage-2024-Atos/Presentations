{
 "cells": [
  {
   "cell_type": "code",
   "execution_count": null,
   "metadata": {},
   "outputs": [],
   "source": [
    "# ML Model Training and Evaluation\n",
    "\n",
    "from pyspark.sql import SparkSession\n",
    "from pyspark.ml.feature import VectorAssembler\n",
    "from pyspark.ml.regression import LinearRegression\n",
    "from pyspark.ml.evaluation import RegressionEvaluator\n",
    "\n",
    "# Initialize Spark session\n",
    "spark = SparkSession.builder.appName(\"ML Model Training and Evaluation\").getOrCreate()\n",
    "\n",
    "# Load the dataset\n",
    "df = spark.read.option(\"header\", \"true\").csv(\"hdfs:///user/hadoop/datasets/transformed_global_confirmed_cases.csv\")\n",
    "\n",
    "# Feature engineering: Assembling features into a feature vector\n",
    "assembler = VectorAssembler(inputCols=[\"cases\", \"log_cases\"], outputCol=\"features\")\n",
    "feature_df = assembler.transform(df)\n",
    "\n",
    "# Split the data into training and test sets\n",
    "(trainingData, testData) = feature_df.randomSplit([0.7, 0.3])\n",
    "\n",
    "# Train a linear regression model\n",
    "lr = LinearRegression(labelCol=\"cases\", featuresCol=\"features\")\n",
    "lr_model = lr.fit(trainingData)\n",
    "\n",
    "# Make predictions on the test set\n",
    "predictions = lr_model.transform(testData)\n",
    "\n",
    "# Evaluate the model\n",
    "evaluator = RegressionEvaluator(labelCol=\"cases\", predictionCol=\"prediction\", metricName=\"rmse\")\n",
    "rmse = evaluator.evaluate(predictions)\n",
    "print(f\"Root Mean Squared Error (RMSE) on test data = {rmse}\")\n",
    "\n",
    "# Save the model\n",
    "lr_model.save(\"hdfs:///user/hadoop/models/lr_model\")\n",
    "\n",
    "spark.stop()\n"
   ]
  }
 ],
 "metadata": {
  "language_info": {
   "name": "python"
  }
 },
 "nbformat": 4,
 "nbformat_minor": 2
}
