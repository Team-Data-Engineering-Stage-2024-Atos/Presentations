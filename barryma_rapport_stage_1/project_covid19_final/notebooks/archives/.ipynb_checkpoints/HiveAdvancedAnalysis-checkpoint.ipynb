{
 "cells": [
  {
   "cell_type": "code",
   "execution_count": null,
   "metadata": {},
   "outputs": [],
   "source": [
    "# Hive Advanced Analysis\n",
    "\n",
    "from pyhive import hive\n",
    "import pandas as pd\n",
    "import matplotlib.pyplot as plt\n",
    "\n",
    "# Establish connection to Hive\n",
    "conn = hive.Connection(host=\"your_hive_host\", port=10000, username=\"your_username\", database=\"your_database\")\n",
    "\n",
    "# Load data from Hive\n",
    "query = \"SELECT country, SUM(cases) AS total_cases FROM global_confirmed_cases GROUP BY country\"\n",
    "df = pd.read_sql(query, conn)\n",
    "\n",
    "# Advanced analysis: Top 10 countries by total cases\n",
    "top_10_countries = df.sort_values(by='total_cases', ascending=False).head(10)\n",
    "\n",
    "# Visualization\n",
    "top_10_countries.plot(kind='bar', x='country', y='total_cases', title='Top 10 Countries by Total COVID-19 Cases')\n",
    "plt.xlabel(\"Country\")\n",
    "plt.ylabel(\"Total Cases\")\n",
    "plt.show()\n"
   ]
  }
 ],
 "metadata": {
  "language_info": {
   "name": "python"
  }
 },
 "nbformat": 4,
 "nbformat_minor": 2
}
