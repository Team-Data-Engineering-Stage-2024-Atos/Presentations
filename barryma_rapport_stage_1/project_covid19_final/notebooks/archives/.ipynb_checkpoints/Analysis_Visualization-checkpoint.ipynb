{
 "cells": [
  {
   "cell_type": "code",
   "execution_count": null,
   "metadata": {},
   "outputs": [],
   "source": [
    "# Analysis and Visualization\n",
    "\n",
    "from pyspark.sql import SparkSession\n",
    "from pyspark.sql.functions import *\n",
    "import matplotlib.pyplot as plt\n",
    "\n",
    "# Initialize Spark session\n",
    "spark = SparkSession.builder.appName(\"Analysis and Visualization\").getOrCreate()\n",
    "\n",
    "# Load the dataset\n",
    "df = spark.read.option(\"header\", \"true\").csv(\"hdfs:///user/hadoop/datasets/transformed_global_confirmed_cases.csv\")\n",
    "\n",
    "# Aggregation and analysis\n",
    "aggregated_df = df.groupBy(\"country\").agg(sum(\"cases\").alias(\"total_cases\")).orderBy(desc(\"total_cases\"))\n",
    "\n",
    "# Convert to Pandas for visualization\n",
    "pandas_df = aggregated_df.toPandas()\n",
    "\n",
    "# Plot the data\n",
    "plt.figure(figsize=(10, 6))\n",
    "plt.barh(pandas_df[\"country\"], pandas_df[\"total_cases\"])\n",
    "plt.xlabel(\"Total Cases\")\n",
    "plt.ylabel(\"Country\")\n",
    "plt.title(\"Total COVID-19 Cases by Country\")\n",
    "plt.show()\n",
    "\n",
    "spark.stop()\n"
   ]
  }
 ],
 "metadata": {
  "language_info": {
   "name": "python"
  }
 },
 "nbformat": 4,
 "nbformat_minor": 2
}
