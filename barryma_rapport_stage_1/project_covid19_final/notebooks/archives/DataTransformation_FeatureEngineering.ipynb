{
 "cells": [
  {
   "cell_type": "code",
   "execution_count": null,
   "metadata": {},
   "outputs": [],
   "source": [
    "# Data Transformation and Feature Engineering\n",
    "\n",
    "from pyspark.sql import SparkSession\n",
    "from pyspark.sql.functions import *\n",
    "\n",
    "# Initialize Spark session\n",
    "spark = SparkSession.builder.appName(\"Data Transformation and Feature Engineering\").getOrCreate()\n",
    "\n",
    "# Load the dataset\n",
    "df = spark.read.option(\"header\", \"true\").csv(\"hdfs:///user/hadoop/datasets/CLEANED_global_confirmed_cases_sample.csv\")\n",
    "\n",
    "# Data cleaning and transformation\n",
    "cleaned_df = df.na.fill(\"0\").na.replace(\"*\", {\"\": \"0\"})\n",
    "transformed_df = cleaned_df.withColumn(\"cases\", col(\"cases\").cast(\"int\"))\n",
    "\n",
    "# Feature engineering\n",
    "engineered_df = transformed_df.withColumn(\"log_cases\", log(col(\"cases\") + 1))\n",
    "engineered_df = engineered_df.withColumn(\"date\", to_date(col(\"date\"), \"MM/dd/yy\"))\n",
    "\n",
    "# Save the transformed data\n",
    "engineered_df.write.option(\"header\", \"true\").csv(\"hdfs:///user/hadoop/datasets/transformed_global_confirmed_cases.csv\")\n",
    "\n",
    "spark.stop()\n"
   ]
  }
 ],
 "metadata": {
  "language_info": {
   "name": "python"
  }
 },
 "nbformat": 4,
 "nbformat_minor": 2
}
