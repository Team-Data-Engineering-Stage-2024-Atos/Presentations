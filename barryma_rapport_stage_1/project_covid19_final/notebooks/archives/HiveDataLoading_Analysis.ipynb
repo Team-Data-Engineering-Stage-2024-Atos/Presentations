{
 "cells": [
  {
   "cell_type": "code",
   "execution_count": null,
   "metadata": {},
   "outputs": [],
   "source": [
    "# Hive Data Loading and Analysis\n",
    "\n",
    "from pyhive import hive\n",
    "import pandas as pd\n",
    "import numpy as np\n",
    "from sqlalchemy import create_engine\n",
    "\n",
    "# Establish connection to Hive\n",
    "conn = hive.Connection(host=\"your_hive_host\", port=10000, username=\"your_username\", database=\"your_database\")\n",
    "\n",
    "# Load data from Hive\n",
    "query = \"SELECT * FROM global_confirmed_cases\"\n",
    "df = pd.read_sql(query, conn)\n",
    "\n",
    "# Basic analysis\n",
    "print(df.describe())\n",
    "\n",
    "# Data cleaning and transformation\n",
    "df['cases'] = df['cases'].fillna(0).astype(int)\n",
    "df['log_cases'] = np.log1p(df['cases'])\n",
    "\n",
    "# Save the cleaned data back to Hive\n",
    "engine = create_engine('hive://your_hive_host:10000/your_database')\n",
    "df.to_sql('cleaned_global_confirmed_cases', engine, if_exists='replace', index=False)\n"
   ]
  }
 ],
 "metadata": {
  "language_info": {
   "name": "python"
  }
 },
 "nbformat": 4,
 "nbformat_minor": 2
}
