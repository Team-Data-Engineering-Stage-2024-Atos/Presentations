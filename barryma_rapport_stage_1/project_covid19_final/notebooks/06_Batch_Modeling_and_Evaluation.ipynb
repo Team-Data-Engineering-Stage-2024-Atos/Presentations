{
 "cells": [
  {
   "cell_type": "code",
   "execution_count": null,
   "id": "8d07877f-e256-40bc-ad09-44bbc99a0b11",
   "metadata": {},
   "outputs": [],
   "source": [
    "import pandas as pd\n",
    "import logging\n",
    "from tqdm.notebook import tqdm\n",
    "from sklearn.model_selection import train_test_split\n",
    "from sklearn.ensemble import RandomForestRegressor\n",
    "from sklearn.metrics import mean_squared_error, r2_score\n",
    "import joblib\n",
    "\n",
    "# Setup logging\n",
    "logging.basicConfig(level=logging.INFO, format='%(asctime)s - %(message)s')\n",
    "\n",
    "# Load final dataset with features in chunks\n",
    "def load_data_in_chunks(file_path, chunksize=10000):\n",
    "    logging.info(f\"Loading data in chunks from {file_path}\")\n",
    "    for chunk in pd.read_csv(file_path, chunksize=chunksize):\n",
    "        yield chunk\n",
    "\n",
    "# Train model on each chunk\n",
    "def train_model(chunk):\n",
    "    logging.info(\"Training model\")\n",
    "    X = chunk.drop(columns=['NewCases_7day_avg'])\n",
    "    y = chunk['NewCases_7day_avg']\n",
    "    X_train, X_test, y_train, y_test = train_test_split(X, y, test_size=0.2, random_state=42)\n",
    "    model = RandomForestRegressor(n_estimators=100, random_state=42)\n",
    "    model.fit(X_train, y_train)\n",
    "    joblib.dump(model, 'models/random_forest_model.pkl')\n",
    "    return model, X_test, y_test\n",
    "\n",
    "# Evaluate model on each chunk\n",
    "def evaluate_model(model, X_test, y_test):\n",
    "    logging.info(\"Evaluating model\")\n",
    "    y_pred = model.predict(X_test)\n",
    "    mse = mean_squared_error(y_test, y_pred)\n",
    "    r2 = r2_score(y_test, y_pred)\n",
    "    print(f\"Mean Squared Error: {mse}\")\n",
    "    print(f\"R^2 Score: {r2}\")\n",
    "\n",
    "# Modeling and evaluation in batches\n",
    "def model_and_evaluate_in_batches(input_file, chunksize=10000):\n",
    "    chunk_iter = load_data_in_chunks(input_file, chunksize)\n",
    "    for chunk in tqdm(chunk_iter, desc=\"Modeling and evaluating\"):\n",
    "        model, X_test, y_test = train_model(chunk)\n",
    "        evaluate_model(model, X_test, y_test)\n",
    "\n",
    "# Modeling and evaluation on final dataset with features\n",
    "logging.info(\"Starting modeling and evaluation on final dataset with features.\")\n",
    "input_file = \"datasets/final_dataset_with_features.csv\"\n",
    "model_and_evaluate_in_batches(input_file)\n",
    "logging.info(\"Finished modeling and evaluation on final dataset with features.\")\n"
   ]
  }
 ],
 "metadata": {
  "kernelspec": {
   "display_name": "Python 3 (ipykernel)",
   "language": "python",
   "name": "python3"
  },
  "language_info": {
   "codemirror_mode": {
    "name": "ipython",
    "version": 3
   },
   "file_extension": ".py",
   "mimetype": "text/x-python",
   "name": "python",
   "nbconvert_exporter": "python",
   "pygments_lexer": "ipython3",
   "version": "3.7.12"
  }
 },
 "nbformat": 4,
 "nbformat_minor": 5
}
