{
 "cells": [
  {
   "cell_type": "code",
   "execution_count": null,
   "id": "47749f0d-a21d-4382-954e-4d675310c371",
   "metadata": {},
   "outputs": [],
   "source": [
    "import pandas as pd\n",
    "import logging\n",
    "from tqdm.notebook import tqdm\n",
    "import matplotlib.pyplot as plt\n",
    "\n",
    "# Setup logging\n",
    "logging.basicConfig(level=logging.INFO, format='%(asctime)s - %(levelname)s - %(message)s')\n",
    "\n",
    "# Load final dataset with features in chunks\n",
    "def load_data_in_chunks(file_path, chunksize=10000):\n",
    "    logging.info(f\"Loading data in chunks from {file_path}\")\n",
    "    for chunk in pd.read_csv(file_path, chunksize=chunksize):\n",
    "        yield chunk\n",
    "\n",
    "# Analyze data chunk\n",
    "def analyze_data(chunk):\n",
    "    logging.info(\"Analyzing data chunk\")\n",
    "    summary_stats = chunk.describe()\n",
    "    logging.info(f\"Summary statistics: \\n{summary_stats}\")\n",
    "    return summary_stats\n",
    "\n",
    "# Visualize data chunk\n",
    "def visualize_data(chunk):\n",
    "    logging.info(\"Visualizing data chunk\")\n",
    "    chunk.hist(bins=50, figsize=(20, 15))\n",
    "    plt.show()\n",
    "\n",
    "# Analysis and visualization in batches\n",
    "def analyze_and_visualize_in_batches(input_file, chunksize=10000):\n",
    "    chunk_iter = load_data_in_chunks(input_file, chunksize)\n",
    "    for chunk in tqdm(chunk_iter, desc=\"Analyzing and visualizing data\"):\n",
    "        analyzed_chunk = analyze_data(chunk)\n",
    "        visualize_data(analyzed_chunk)\n",
    "\n",
    "# Analysis and visualization on final dataset with features\n",
    "logging.info(\"Starting analysis and visualization on final dataset with features.\")\n",
    "input_file = \"datasets/final_dataset_with_features.csv\"\n",
    "analyze_and_visualize_in_batches(input_file)\n",
    "logging.info(\"Finished analysis and visualization on final dataset with features.\")\n"
   ]
  }
 ],
 "metadata": {
  "kernelspec": {
   "display_name": "Python 3 (ipykernel)",
   "language": "python",
   "name": "python3"
  },
  "language_info": {
   "codemirror_mode": {
    "name": "ipython",
    "version": 3
   },
   "file_extension": ".py",
   "mimetype": "text/x-python",
   "name": "python",
   "nbconvert_exporter": "python",
   "pygments_lexer": "ipython3",
   "version": "3.7.12"
  }
 },
 "nbformat": 4,
 "nbformat_minor": 5
}
