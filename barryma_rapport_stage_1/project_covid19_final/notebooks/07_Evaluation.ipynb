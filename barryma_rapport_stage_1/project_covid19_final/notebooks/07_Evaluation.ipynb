{
 "cells": [
  {
   "cell_type": "code",
   "execution_count": null,
   "id": "cd2a7044-90ab-48a5-be26-2814ded560f9",
   "metadata": {},
   "outputs": [],
   "source": [
    "import pandas as pd\n",
    "import logging\n",
    "import joblib\n",
    "from sklearn.metrics import mean_squared_error, r2_score\n",
    "\n",
    "# Setup logging\n",
    "logging.basicConfig(level=logging.INFO, format='%(asctime)s - %(levelname)s - %(message)s')\n",
    "\n",
    "# Load test data and model\n",
    "logging.info(\"Loading test data and model\")\n",
    "final_dataset = pd.read_csv(\"datasets/final_dataset_with_features.csv\")\n",
    "model = joblib.load('models/random_forest_model.pkl')\n",
    "\n",
    "X_test = final_dataset.drop(columns=['NewCases_7day_avg'])\n",
    "y_test = final_dataset['NewCases_7day_avg']\n",
    "\n",
    "# Make predictions\n",
    "logging.info(\"Making predictions\")\n",
    "y_pred = model.predict(X_test)\n",
    "\n",
    "# Evaluate the model\n",
    "logging.info(\"Evaluating the model\")\n",
    "mse = mean_squared_error(y_test, y_pred)\n",
    "r2 = r2_score(y_test, y_pred)\n",
    "\n",
    "print(f\"Mean Squared Error: {mse}\")\n",
    "print(f\"R^2 Score: {r2}\")\n"
   ]
  }
 ],
 "metadata": {
  "kernelspec": {
   "display_name": "Python 3 (ipykernel)",
   "language": "python",
   "name": "python3"
  },
  "language_info": {
   "codemirror_mode": {
    "name": "ipython",
    "version": 3
   },
   "file_extension": ".py",
   "mimetype": "text/x-python",
   "name": "python",
   "nbconvert_exporter": "python",
   "pygments_lexer": "ipython3",
   "version": "3.7.12"
  }
 },
 "nbformat": 4,
 "nbformat_minor": 5
}
