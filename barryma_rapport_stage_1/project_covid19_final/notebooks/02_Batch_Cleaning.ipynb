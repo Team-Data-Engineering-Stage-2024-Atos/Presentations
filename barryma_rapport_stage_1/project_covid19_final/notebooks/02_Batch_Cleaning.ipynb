{
 "cells": [
  {
   "cell_type": "code",
   "execution_count": 3,
   "id": "f06cdb88-f498-4078-8324-470a92038d86",
   "metadata": {},
   "outputs": [
    {
     "name": "stderr",
     "output_type": "stream",
     "text": [
      "2024-08-04 09:15:35,998 - INFO - Starting cleaning of datasets in batches.\n",
      "2024-08-04 09:15:36,001 - INFO - Processing dataset: owid\n"
     ]
    },
    {
     "data": {
      "application/vnd.jupyter.widget-view+json": {
       "model_id": "1b07d6b1589b4372ba73b72477623fcf",
       "version_major": 2,
       "version_minor": 0
      },
      "text/plain": [
       "Cleaning owid: 0it [00:00, ?it/s]"
      ]
     },
     "metadata": {},
     "output_type": "display_data"
    },
    {
     "name": "stderr",
     "output_type": "stream",
     "text": [
      "2024-08-04 09:15:36,054 - INFO - Reading data in chunks from datasets/owid/full_data.csv\n",
      "2024-08-04 09:15:42,300 - INFO - Finished cleaning and saved owid dataset.\n",
      "2024-08-04 09:15:42,302 - INFO - Processing dataset: csse_confirmed\n"
     ]
    },
    {
     "data": {
      "application/vnd.jupyter.widget-view+json": {
       "model_id": "31a06aacdcf44d6ba3e0613afbf84013",
       "version_major": 2,
       "version_minor": 0
      },
      "text/plain": [
       "Cleaning csse_confirmed: 0it [00:00, ?it/s]"
      ]
     },
     "metadata": {},
     "output_type": "display_data"
    },
    {
     "name": "stderr",
     "output_type": "stream",
     "text": [
      "2024-08-04 09:15:42,358 - INFO - Reading data in chunks from datasets/csse/time_series_covid19_confirmed_global.csv\n",
      "2024-08-04 09:15:43,138 - INFO - Finished cleaning and saved csse_confirmed dataset.\n",
      "2024-08-04 09:15:43,141 - INFO - Processing dataset: csse_deaths\n"
     ]
    },
    {
     "data": {
      "application/vnd.jupyter.widget-view+json": {
       "model_id": "53ea228c7b0040a5b8fc9963b258113d",
       "version_major": 2,
       "version_minor": 0
      },
      "text/plain": [
       "Cleaning csse_deaths: 0it [00:00, ?it/s]"
      ]
     },
     "metadata": {},
     "output_type": "display_data"
    },
    {
     "name": "stderr",
     "output_type": "stream",
     "text": [
      "2024-08-04 09:15:43,253 - INFO - Reading data in chunks from datasets/csse/time_series_covid19_deaths_global.csv\n",
      "2024-08-04 09:15:43,924 - INFO - Finished cleaning and saved csse_deaths dataset.\n",
      "2024-08-04 09:15:43,926 - INFO - Processing dataset: who\n"
     ]
    },
    {
     "data": {
      "application/vnd.jupyter.widget-view+json": {
       "model_id": "9f2c354d1c814e6a84ab852bd2481c57",
       "version_major": 2,
       "version_minor": 0
      },
      "text/plain": [
       "Cleaning who: 0it [00:00, ?it/s]"
      ]
     },
     "metadata": {},
     "output_type": "display_data"
    },
    {
     "name": "stderr",
     "output_type": "stream",
     "text": [
      "2024-08-04 09:15:43,983 - INFO - Reading data in chunks from datasets/who/WHO-COVID-19-global-data.csv\n",
      "2024-08-04 09:15:45,320 - INFO - Finished cleaning and saved who dataset.\n",
      "2024-08-04 09:15:45,322 - INFO - Finished cleaning all datasets in batches.\n"
     ]
    }
   ],
   "source": [
    "import os\n",
    "import pandas as pd\n",
    "import logging\n",
    "from tqdm.notebook import tqdm\n",
    "\n",
    "# Setup logging\n",
    "logging.basicConfig(level=logging.INFO, format='%(asctime)s - %(levelname)s - %(message)s')\n",
    "\n",
    "# Function to read CSV data in chunks\n",
    "def read_csv_in_chunks(file_path, chunksize=10000):\n",
    "    logging.info(f\"Reading data in chunks from {file_path}\")\n",
    "    for chunk in pd.read_csv(file_path, chunksize=chunksize):\n",
    "        yield chunk\n",
    "\n",
    "# Function to parse and verify date columns\n",
    "def parse_date(data, column_name):\n",
    "    data[column_name] = pd.to_datetime(data[column_name], errors='coerce')\n",
    "\n",
    "# Function to check and convert columns to numeric, handling errors\n",
    "def check_numeric(data, columns):\n",
    "    for column in columns:\n",
    "        data[column] = pd.to_numeric(data[column], errors='coerce')\n",
    "\n",
    "# Function to handle missing values\n",
    "def handle_missing_values(data):\n",
    "    data.fillna(0, inplace=True)\n",
    "\n",
    "# Function to clean data chunk\n",
    "def clean_data_chunk(chunk, date_columns, numeric_columns):\n",
    "    for date_column in date_columns:\n",
    "        parse_date(chunk, date_column)\n",
    "    check_numeric(chunk, numeric_columns)\n",
    "    handle_missing_values(chunk)\n",
    "    return chunk\n",
    "\n",
    "# Ensure the cleaned data directory exists\n",
    "cleaned_data_dir = \"datasets/cleaned\"\n",
    "if not os.path.exists(cleaned_data_dir):\n",
    "    os.makedirs(cleaned_data_dir)\n",
    "    logging.info(f\"Created directory: {cleaned_data_dir}\")\n",
    "\n",
    "# Define columns to be cleaned for each dataset\n",
    "owid_date_columns = [\"date\"]\n",
    "owid_numeric_columns = [\"new_cases\", \"new_deaths\", \"total_cases\", \"total_deaths\", \"weekly_cases\", \"weekly_deaths\", \"biweekly_cases\", \"biweekly_deaths\"]\n",
    "\n",
    "google_cloud_date_columns = [\"date\"]\n",
    "google_cloud_numeric_columns = [\"new_confirmed\", \"new_deceased\", \"new_recovered\", \"new_tested\", \"total_confirmed\", \"total_deceased\", \"total_recovered\", \"total_tested\", \"new_hospitalized\", \"total_hospitalized\", \"current_hospitalized\", \"new_intensive_care\", \"total_intensive_care\", \"current_intensive_care\", \"new_ventilator\", \"total_ventilator\", \"current_ventilator\", \"population\", \"population_male\", \"population_female\", \"rural_population\", \"urban_population\", \"largest_city_population\", \"clustered_population\", \"population_density\", \"human_development_index\", \"population_age_00_09\", \"population_age_10_19\", \"population_age_20_29\", \"population_age_30_39\", \"population_age_40_49\", \"population_age_50_59\", \"population_age_60_69\", \"population_age_70_79\", \"population_age_80_89\", \"population_age_90_99\", \"population_age_80_and_older\", \"gdp\", \"gdp_per_capita\", \"human_capital_index\", \"latitude\", \"longitude\", \"elevation\", \"area\", \"rural_area\", \"urban_area\", \"life_expectancy\", \"smoking_prevalence\", \"diabetes_prevalence\", \"infant_mortality_rate\", \"adult_male_mortality_rate\", \"adult_female_mortality_rate\", \"pollution_mortality_rate\", \"comorbidity_mortality_rate\", \"hospital_beds\", \"nurses\", \"physicians\", \"health_expenditure\", \"out_of_pocket_health_expenditure\", \"mobility_retail_and_recreation\", \"mobility_grocery_and_pharmacy\", \"mobility_parks\", \"mobility_transit_stations\", \"mobility_workplaces\", \"mobility_residential\", \"school_closing\", \"workplace_closing\", \"cancel_public_events\", \"restrictions_on_gatherings\", \"public_transport_closing\", \"stay_at_home_requirements\", \"restrictions_on_internal_movement\", \"international_travel_controls\", \"income_support\", \"debt_relief\", \"fiscal_measures\", \"international_support\", \"public_information_campaigns\", \"testing_policy\", \"contact_tracing\", \"emergency_investment_in_healthcare\", \"investment_in_vaccines\", \"facial_coverings\", \"vaccination_policy\", \"stringency_index\", \"noaa_station\", \"noaa_distance\", \"average_temperature\", \"minimum_temperature\", \"maximum_temperature\", \"rainfall\", \"snowfall\", \"dew_point\", \"relative_humidity\"]\n",
    "\n",
    "csse_confirmed_date_columns = ''\n",
    "csse_confirmed_numeric_columns = [col for col in pd.date_range(start='1/22/20', end='3/9/23').strftime('%-m/%-d/%y')]\n",
    "\n",
    "csse_deaths_date_columns = ''\n",
    "csse_deaths_numeric_columns = [col for col in pd.date_range(start='1/22/20', end='3/9/23').strftime('%-m/%-d/%y')]\n",
    "\n",
    "who_date_columns = [\"Date_reported\"]\n",
    "who_numeric_columns = [\"New_cases\", \"New_deaths\", \"Cumulative_cases\", \"Cumulative_deaths\"]\n",
    "\n",
    "# Clean datasets in chunks and save cleaned chunks\n",
    "dataset_files = {\n",
    "    \"owid\": (\"datasets/owid/full_data.csv\", owid_date_columns, owid_numeric_columns),\n",
    "    #\"google_cloud\": (\"datasets/google_cloud/main.csv\", google_cloud_date_columns, google_cloud_numeric_columns),\n",
    "    \"csse_confirmed\": (\"datasets/csse/time_series_covid19_confirmed_global.csv\", csse_confirmed_date_columns, csse_confirmed_numeric_columns),\n",
    "    \"csse_deaths\": (\"datasets/csse/time_series_covid19_deaths_global.csv\", csse_deaths_date_columns, csse_deaths_numeric_columns),\n",
    "    \"who\": (\"datasets/who/WHO-COVID-19-global-data.csv\", who_date_columns, who_numeric_columns)\n",
    "}\n",
    "\n",
    "logging.info(\"Starting cleaning of datasets in batches.\")\n",
    "for dataset, (file_path, date_columns, numeric_columns) in dataset_files.items():\n",
    "    logging.info(f\"Processing dataset: {dataset}\")\n",
    "    chunk_iter = read_csv_in_chunks(file_path)\n",
    "    cleaned_chunks = []\n",
    "    for chunk in tqdm(chunk_iter, desc=f\"Cleaning {dataset}\"):\n",
    "        cleaned_chunk = clean_data_chunk(chunk, date_columns, numeric_columns)\n",
    "        cleaned_chunks.append(cleaned_chunk)\n",
    "    cleaned_data = pd.concat(cleaned_chunks, ignore_index=True)\n",
    "    cleaned_data.to_csv(f\"{cleaned_data_dir}/{dataset}_data_cleaned.csv\", index=False)\n",
    "    logging.info(f\"Finished cleaning and saved {dataset} dataset.\")\n",
    "logging.info(\"Finished cleaning all datasets in batches.\")\n"
   ]
  },
  {
   "cell_type": "code",
   "execution_count": null,
   "id": "b8a98319-7b20-4b13-8932-d6df50ea7de3",
   "metadata": {},
   "outputs": [],
   "source": []
  }
 ],
 "metadata": {
  "kernelspec": {
   "display_name": "Python 3 (ipykernel)",
   "language": "python",
   "name": "python3"
  },
  "language_info": {
   "codemirror_mode": {
    "name": "ipython",
    "version": 3
   },
   "file_extension": ".py",
   "mimetype": "text/x-python",
   "name": "python",
   "nbconvert_exporter": "python",
   "pygments_lexer": "ipython3",
   "version": "3.7.12"
  }
 },
 "nbformat": 4,
 "nbformat_minor": 5
}
