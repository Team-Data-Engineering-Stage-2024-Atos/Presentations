{
 "cells": [
  {
   "cell_type": "markdown",
   "metadata": {},
   "source": [
    "# Jupyter Notebook"
   ]
  },
  {
   "cell_type": "markdown",
   "metadata": {},
   "source": [
    "## Step 1: Configuration de l’environnement "
   ]
  },
  {
   "cell_type": "code",
   "execution_count": 1,
   "metadata": {},
   "outputs": [],
   "source": [
    "from pyspark.sql import SparkSession\n",
    "from pyspark.sql.functions import udf\n",
    "import re\n",
    "\n",
    "# Create a SparkSession\n",
    "spark = SparkSession.builder \\\n",
    "    .appName(\"demo-app\") \\\n",
    "    .enableHiveSupport() \\\n",
    "    .getOrCreate()"
   ]
  },
  {
   "cell_type": "markdown",
   "metadata": {},
   "source": [
    "## Step 2: Transformation des données avec Spark "
   ]
  },
  {
   "cell_type": "code",
   "execution_count": 5,
   "metadata": {},
   "outputs": [
    {
     "name": "stdout",
     "output_type": "stream",
     "text": [
      "DataFrame[name: string, age: string, city: string]\n"
     ]
    }
   ],
   "source": [
    "# Read the data from Hadoop\n",
    "df = spark.read.format(\"csv\").option(\"header\", \"true\").load(\"hdfs://namenode:9000/data/demo.csv\")\n",
    "\n",
    "print(df)"
   ]
  },
  {
   "cell_type": "code",
   "execution_count": 15,
   "metadata": {},
   "outputs": [
    {
     "name": "stdout",
     "output_type": "stream",
     "text": [
      "root\n",
      " |-- name: string (nullable = true)\n",
      " |-- age: integer (nullable = true)\n",
      " |-- city: string (nullable = true)\n",
      " |-- clean_data: string (nullable = true)\n",
      "\n"
     ]
    }
   ],
   "source": [
    "# Define a UDF to clean the data\n",
    "def clean_data(s):\n",
    "    # Remove all non-alphabetic characters\n",
    "    s = re.sub(r'[^a-zA-Z,]', '', s)\n",
    "    # Remove all extra spaces\n",
    "    s = re.sub(r'\\s+', ' ', s).strip()\n",
    "    return s\n",
    "\n",
    "clean_data_udf = udf(clean_data)\n",
    "\n",
    "# Assuming df is your DataFrame and 'column_to_clean' is the column you want to clean\n",
    "df_clean = df.withColumn('clean_data', clean_data_udf(df['name']))\n",
    "\n",
    "df_clean = df_clean.withColumn(\"age\",  \n",
    "                                df_clean[\"age\"] \n",
    "                                .cast('int')) \n",
    "df_clean.printSchema()"
   ]
  },
  {
   "cell_type": "code",
   "execution_count": 16,
   "metadata": {},
   "outputs": [
    {
     "name": "stdout",
     "output_type": "stream",
     "text": [
      "DataFrame[name: string, age: int, city: string, clean_data: string]\n"
     ]
    }
   ],
   "source": [
    "# Perform a simple transformation\n",
    "transformed_df = df_clean.filter(df.age > 18)\n",
    "\n",
    "print(transformed_df)"
   ]
  },
  {
   "cell_type": "markdown",
   "metadata": {},
   "source": [
    "## Step 3: Stockage des données transformées dans Hive "
   ]
  },
  {
   "cell_type": "code",
   "execution_count": 17,
   "metadata": {},
   "outputs": [],
   "source": [
    "# Write the transformed DataFrame to Hive\n",
    "transformed_df.write.mode(\"overwrite\").saveAsTable(\"adulte\")"
   ]
  },
  {
   "cell_type": "markdown",
   "metadata": {},
   "source": [
    "## Step 4: Interrogation des données avec SQL  "
   ]
  },
  {
   "cell_type": "code",
   "execution_count": 18,
   "metadata": {},
   "outputs": [
    {
     "name": "stdout",
     "output_type": "stream",
     "text": [
      "+-----+---+--------+----------+\n",
      "| name|age|    city|clean_data|\n",
      "+-----+---+--------+----------+\n",
      "| John| 23|New York|      John|\n",
      "| Anna| 45|  London|      Anna|\n",
      "|Peter| 36|   Paris|     Peter|\n",
      "|Barry| 27|   Dakar|     Barry|\n",
      "|Linda| 78|  Berlin|     Linda|\n",
      "|  Tom| 22|  Sydney|       Tom|\n",
      "+-----+---+--------+----------+\n",
      "\n"
     ]
    }
   ],
   "source": [
    "# Query the data from Hive\n",
    "result = spark.sql(\"SELECT * FROM adulte LIMIT 10\")\n",
    "\n",
    "# Show the result\n",
    "result.show()"
   ]
  },
  {
   "cell_type": "markdown",
   "metadata": {},
   "source": [
    "## Step 5: Visualisation des données "
   ]
  },
  {
   "cell_type": "code",
   "execution_count": 19,
   "metadata": {},
   "outputs": [
    {
     "data": {
      "image/png": "[encoded data removed]",
      "text/plain": [
       "<Figure size 640x480 with 1 Axes>"
      ]
     },
     "metadata": {},
     "output_type": "display_data"
    }
   ],
   "source": [
    "import matplotlib.pyplot as plt\n",
    "\n",
    "# Convert the Spark DataFrame to a Pandas DataFrame\n",
    "result_pd = result.toPandas()\n",
    "\n",
    "# Plot the data\n",
    "result_pd.plot(kind='bar', x='name', y='age')\n",
    "plt.show()"
   ]
  },
  {
   "cell_type": "markdown",
   "metadata": {},
   "source": [
    "## Step 6 : Fermer SparkSession"
   ]
  },
  {
   "cell_type": "code",
   "execution_count": 20,
   "metadata": {},
   "outputs": [],
   "source": [
    "spark.stop()"
   ]
  },
  {
   "cell_type": "code",
   "execution_count": null,
   "metadata": {},
   "outputs": [],
   "source": []
  }
 ],
 "metadata": {
  "kernelspec": {
   "display_name": "Python 3 (ipykernel)",
   "language": "python",
   "name": "python3"
  },
  "language_info": {
   "codemirror_mode": {
    "name": "ipython",
    "version": 3
   },
   "file_extension": ".py",
   "mimetype": "text/x-python",
   "name": "python",
   "nbconvert_exporter": "python",
   "pygments_lexer": "ipython3",
   "version": "3.7.12"
  }
 },
 "nbformat": 4,
 "nbformat_minor": 4
}
